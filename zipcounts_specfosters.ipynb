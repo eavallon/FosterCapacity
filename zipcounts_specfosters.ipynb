{
 "cells": [
  {
   "cell_type": "code",
   "execution_count": 1,
   "outputs": [],
   "source": [
    "import pandas as pd"
   ],
   "metadata": {
    "collapsed": false,
    "pycharm": {
     "name": "#%%\n"
    }
   }
  },
  {
   "cell_type": "code",
   "execution_count": 13,
   "outputs": [],
   "source": [
    "foster_all = pd.read_csv('/Users/eavallon/Desktop/FosterCapacity/foster_2017-2022.csv',low_memory=False)\n",
    "dogzip2019 = pd.read_csv('/Users/eavallon/Desktop/FosterCapacity/2019_dog_zipcounts.csv')\n",
    "spec_stmed = pd.read_csv('/Users/eavallon/Desktop/FosterCapacity/Specialized Dog Fosters - Short Term Med Emergency.csv')\n",
    "spec_ltmed = pd.read_csv('/Users/eavallon/Desktop/FosterCapacity/Specialized Dog Fosters - Long Term Med Condition.csv')\n",
    "spec_crwound = pd.read_csv('/Users/eavallon/Desktop/FosterCapacity/Specialized Dog Fosters - Crate Rest _ Wounds.csv')\n",
    "spec_skin = pd.read_csv('/Users/eavallon/Desktop/FosterCapacity/Specialized Dog Fosters - Skin Issues.csv')\n",
    "spec_parvodw = pd.read_csv('/Users/eavallon/Desktop/FosterCapacity/Specialized Dog Fosters - Parvo _ Distemper.csv')\n",
    "spec_beh = pd.read_csv('/Users/eavallon/Desktop/FosterCapacity/Specialized Dog Fosters - Behavior.csv')"
   ],
   "metadata": {
    "collapsed": false,
    "pycharm": {
     "name": "#%%\n"
    }
   }
  },
  {
   "cell_type": "code",
   "execution_count": 17,
   "outputs": [],
   "source": [
    "dogzip2019 = dogzip2019.rename(columns={'Unnamed: 0':'ZipCode', 'FosterZipCode':'Total'})"
   ],
   "metadata": {
    "collapsed": false,
    "pycharm": {
     "name": "#%%\n"
    }
   }
  },
  {
   "cell_type": "code",
   "execution_count": 22,
   "outputs": [
    {
     "data": {
      "text/plain": "       EventID  AnimalID AnimalName  EventDate  EventMonth       EventType  \\\n168     100658     44972     Thelma   20170110      201701  Outcome.Foster   \n169     100692     44977      Chico   20170110      201701  Outcome.Foster   \n208     103366     45801      Midge   20170112      201701  Outcome.Foster   \n283     103743     45905      Mandy   20170117      201701  Outcome.Foster   \n284     103747     45906      Sandy   20170117      201701  Outcome.Foster   \n...        ...       ...        ...        ...         ...             ...   \n51401  8464889    103297  Valentine   20211218      202112  Outcome.Foster   \n51402  8914178    103298      Sugar   20211218      202112  Outcome.Foster   \n51403  8523233    103299     Kisses   20211218      202112  Outcome.Foster   \n51404  8751648    103300      Roses   20211218      202112  Outcome.Foster   \n51405  8478305    103301      Amour   20211218      202112  Outcome.Foster   \n\n      AnimalSex AnimalType  FosterID   AnimalDOB  ...  Unnamed: 31  \\\n168      Female        Dog   1210472  20161120.0  ...          NaN   \n169        Male        Dog   1210472  20161120.0  ...          NaN   \n208      Female        Dog   1210472  20140111.0  ...          NaN   \n283      Female        Dog   1210472  20130116.0  ...          NaN   \n284      Female        Dog   1210472  20161126.0  ...          NaN   \n...         ...        ...       ...         ...  ...          ...   \n51401    Female        Dog   1210472  20211217.0  ...          NaN   \n51402    Female        Dog   1210472  20211217.0  ...          NaN   \n51403    Female        Dog   1210472  20211217.0  ...          NaN   \n51404    Female        Dog   1210472  20211217.0  ...          NaN   \n51405    Female        Dog   1210472  20211217.0  ...          NaN   \n\n      Unnamed: 32 Unnamed: 33 Unnamed: 34  Unnamed: 35  Unnamed: 36  \\\n168           NaN         NaN         NaN          NaN          NaN   \n169           NaN         NaN         NaN          NaN          NaN   \n208           NaN         NaN         NaN          NaN          NaN   \n283           NaN         NaN         NaN          NaN          NaN   \n284           NaN         NaN         NaN          NaN          NaN   \n...           ...         ...         ...          ...          ...   \n51401         NaN         NaN         NaN          NaN          NaN   \n51402         NaN         NaN         NaN          NaN          NaN   \n51403         NaN         NaN         NaN          NaN          NaN   \n51404         NaN         NaN         NaN          NaN          NaN   \n51405         NaN         NaN         NaN          NaN          NaN   \n\n       Unnamed: 37  Unnamed: 38  Unnamed: 39  Unnamed: 40  \n168            NaN          NaN          NaN          NaN  \n169            NaN          NaN          NaN          NaN  \n208            NaN          NaN          NaN          NaN  \n283            NaN          NaN          NaN          NaN  \n284            NaN          NaN          NaN          NaN  \n...            ...          ...          ...          ...  \n51401          NaN          NaN          NaN          NaN  \n51402          NaN          NaN          NaN          NaN  \n51403          NaN          NaN          NaN          NaN  \n51404          NaN          NaN          NaN          NaN  \n51405          NaN          NaN          NaN          NaN  \n\n[165 rows x 41 columns]",
      "text/html": "<div>\n<style scoped>\n    .dataframe tbody tr th:only-of-type {\n        vertical-align: middle;\n    }\n\n    .dataframe tbody tr th {\n        vertical-align: top;\n    }\n\n    .dataframe thead th {\n        text-align: right;\n    }\n</style>\n<table border=\"1\" class=\"dataframe\">\n  <thead>\n    <tr style=\"text-align: right;\">\n      <th></th>\n      <th>EventID</th>\n      <th>AnimalID</th>\n      <th>AnimalName</th>\n      <th>EventDate</th>\n      <th>EventMonth</th>\n      <th>EventType</th>\n      <th>AnimalSex</th>\n      <th>AnimalType</th>\n      <th>FosterID</th>\n      <th>AnimalDOB</th>\n      <th>...</th>\n      <th>Unnamed: 31</th>\n      <th>Unnamed: 32</th>\n      <th>Unnamed: 33</th>\n      <th>Unnamed: 34</th>\n      <th>Unnamed: 35</th>\n      <th>Unnamed: 36</th>\n      <th>Unnamed: 37</th>\n      <th>Unnamed: 38</th>\n      <th>Unnamed: 39</th>\n      <th>Unnamed: 40</th>\n    </tr>\n  </thead>\n  <tbody>\n    <tr>\n      <th>168</th>\n      <td>100658</td>\n      <td>44972</td>\n      <td>Thelma</td>\n      <td>20170110</td>\n      <td>201701</td>\n      <td>Outcome.Foster</td>\n      <td>Female</td>\n      <td>Dog</td>\n      <td>1210472</td>\n      <td>20161120.0</td>\n      <td>...</td>\n      <td>NaN</td>\n      <td>NaN</td>\n      <td>NaN</td>\n      <td>NaN</td>\n      <td>NaN</td>\n      <td>NaN</td>\n      <td>NaN</td>\n      <td>NaN</td>\n      <td>NaN</td>\n      <td>NaN</td>\n    </tr>\n    <tr>\n      <th>169</th>\n      <td>100692</td>\n      <td>44977</td>\n      <td>Chico</td>\n      <td>20170110</td>\n      <td>201701</td>\n      <td>Outcome.Foster</td>\n      <td>Male</td>\n      <td>Dog</td>\n      <td>1210472</td>\n      <td>20161120.0</td>\n      <td>...</td>\n      <td>NaN</td>\n      <td>NaN</td>\n      <td>NaN</td>\n      <td>NaN</td>\n      <td>NaN</td>\n      <td>NaN</td>\n      <td>NaN</td>\n      <td>NaN</td>\n      <td>NaN</td>\n      <td>NaN</td>\n    </tr>\n    <tr>\n      <th>208</th>\n      <td>103366</td>\n      <td>45801</td>\n      <td>Midge</td>\n      <td>20170112</td>\n      <td>201701</td>\n      <td>Outcome.Foster</td>\n      <td>Female</td>\n      <td>Dog</td>\n      <td>1210472</td>\n      <td>20140111.0</td>\n      <td>...</td>\n      <td>NaN</td>\n      <td>NaN</td>\n      <td>NaN</td>\n      <td>NaN</td>\n      <td>NaN</td>\n      <td>NaN</td>\n      <td>NaN</td>\n      <td>NaN</td>\n      <td>NaN</td>\n      <td>NaN</td>\n    </tr>\n    <tr>\n      <th>283</th>\n      <td>103743</td>\n      <td>45905</td>\n      <td>Mandy</td>\n      <td>20170117</td>\n      <td>201701</td>\n      <td>Outcome.Foster</td>\n      <td>Female</td>\n      <td>Dog</td>\n      <td>1210472</td>\n      <td>20130116.0</td>\n      <td>...</td>\n      <td>NaN</td>\n      <td>NaN</td>\n      <td>NaN</td>\n      <td>NaN</td>\n      <td>NaN</td>\n      <td>NaN</td>\n      <td>NaN</td>\n      <td>NaN</td>\n      <td>NaN</td>\n      <td>NaN</td>\n    </tr>\n    <tr>\n      <th>284</th>\n      <td>103747</td>\n      <td>45906</td>\n      <td>Sandy</td>\n      <td>20170117</td>\n      <td>201701</td>\n      <td>Outcome.Foster</td>\n      <td>Female</td>\n      <td>Dog</td>\n      <td>1210472</td>\n      <td>20161126.0</td>\n      <td>...</td>\n      <td>NaN</td>\n      <td>NaN</td>\n      <td>NaN</td>\n      <td>NaN</td>\n      <td>NaN</td>\n      <td>NaN</td>\n      <td>NaN</td>\n      <td>NaN</td>\n      <td>NaN</td>\n      <td>NaN</td>\n    </tr>\n    <tr>\n      <th>...</th>\n      <td>...</td>\n      <td>...</td>\n      <td>...</td>\n      <td>...</td>\n      <td>...</td>\n      <td>...</td>\n      <td>...</td>\n      <td>...</td>\n      <td>...</td>\n      <td>...</td>\n      <td>...</td>\n      <td>...</td>\n      <td>...</td>\n      <td>...</td>\n      <td>...</td>\n      <td>...</td>\n      <td>...</td>\n      <td>...</td>\n      <td>...</td>\n      <td>...</td>\n      <td>...</td>\n    </tr>\n    <tr>\n      <th>51401</th>\n      <td>8464889</td>\n      <td>103297</td>\n      <td>Valentine</td>\n      <td>20211218</td>\n      <td>202112</td>\n      <td>Outcome.Foster</td>\n      <td>Female</td>\n      <td>Dog</td>\n      <td>1210472</td>\n      <td>20211217.0</td>\n      <td>...</td>\n      <td>NaN</td>\n      <td>NaN</td>\n      <td>NaN</td>\n      <td>NaN</td>\n      <td>NaN</td>\n      <td>NaN</td>\n      <td>NaN</td>\n      <td>NaN</td>\n      <td>NaN</td>\n      <td>NaN</td>\n    </tr>\n    <tr>\n      <th>51402</th>\n      <td>8914178</td>\n      <td>103298</td>\n      <td>Sugar</td>\n      <td>20211218</td>\n      <td>202112</td>\n      <td>Outcome.Foster</td>\n      <td>Female</td>\n      <td>Dog</td>\n      <td>1210472</td>\n      <td>20211217.0</td>\n      <td>...</td>\n      <td>NaN</td>\n      <td>NaN</td>\n      <td>NaN</td>\n      <td>NaN</td>\n      <td>NaN</td>\n      <td>NaN</td>\n      <td>NaN</td>\n      <td>NaN</td>\n      <td>NaN</td>\n      <td>NaN</td>\n    </tr>\n    <tr>\n      <th>51403</th>\n      <td>8523233</td>\n      <td>103299</td>\n      <td>Kisses</td>\n      <td>20211218</td>\n      <td>202112</td>\n      <td>Outcome.Foster</td>\n      <td>Female</td>\n      <td>Dog</td>\n      <td>1210472</td>\n      <td>20211217.0</td>\n      <td>...</td>\n      <td>NaN</td>\n      <td>NaN</td>\n      <td>NaN</td>\n      <td>NaN</td>\n      <td>NaN</td>\n      <td>NaN</td>\n      <td>NaN</td>\n      <td>NaN</td>\n      <td>NaN</td>\n      <td>NaN</td>\n    </tr>\n    <tr>\n      <th>51404</th>\n      <td>8751648</td>\n      <td>103300</td>\n      <td>Roses</td>\n      <td>20211218</td>\n      <td>202112</td>\n      <td>Outcome.Foster</td>\n      <td>Female</td>\n      <td>Dog</td>\n      <td>1210472</td>\n      <td>20211217.0</td>\n      <td>...</td>\n      <td>NaN</td>\n      <td>NaN</td>\n      <td>NaN</td>\n      <td>NaN</td>\n      <td>NaN</td>\n      <td>NaN</td>\n      <td>NaN</td>\n      <td>NaN</td>\n      <td>NaN</td>\n      <td>NaN</td>\n    </tr>\n    <tr>\n      <th>51405</th>\n      <td>8478305</td>\n      <td>103301</td>\n      <td>Amour</td>\n      <td>20211218</td>\n      <td>202112</td>\n      <td>Outcome.Foster</td>\n      <td>Female</td>\n      <td>Dog</td>\n      <td>1210472</td>\n      <td>20211217.0</td>\n      <td>...</td>\n      <td>NaN</td>\n      <td>NaN</td>\n      <td>NaN</td>\n      <td>NaN</td>\n      <td>NaN</td>\n      <td>NaN</td>\n      <td>NaN</td>\n      <td>NaN</td>\n      <td>NaN</td>\n      <td>NaN</td>\n    </tr>\n  </tbody>\n</table>\n<p>165 rows × 41 columns</p>\n</div>"
     },
     "execution_count": 22,
     "metadata": {},
     "output_type": "execute_result"
    }
   ],
   "source": [
    "foster_all[foster_all['FosterEmail'].eq(spec_stmed['Email Address'][0])].drop_duplicates('AnimalID')"
   ],
   "metadata": {
    "collapsed": false,
    "pycharm": {
     "name": "#%%\n"
    }
   }
  },
  {
   "cell_type": "code",
   "execution_count": 6,
   "outputs": [],
   "source": [
    "yr_2019 = foster['EventMonth'].between(201899,201999)\n",
    "dog = foster['AnimalType'].eq('Dog')\n",
    "cat = foster['AnimalType'].eq('Cat')"
   ],
   "metadata": {
    "collapsed": false,
    "pycharm": {
     "name": "#%%\n"
    }
   }
  },
  {
   "cell_type": "code",
   "execution_count": 34,
   "outputs": [
    {
     "name": "stderr",
     "output_type": "stream",
     "text": [
      "/var/folders/dg/7g2s77314ws2znrh1l_sq8_80000gp/T/ipykernel_79773/3781508609.py:1: UserWarning: Boolean Series key will be reindexed to match DataFrame index.\n",
      "  dogfos2019 = foster[yr_2019][dog].drop_duplicates('FosterID')\n",
      "/var/folders/dg/7g2s77314ws2znrh1l_sq8_80000gp/T/ipykernel_79773/3781508609.py:2: UserWarning: Boolean Series key will be reindexed to match DataFrame index.\n",
      "  catfos2019 = foster[yr_2019][cat].drop_duplicates('FosterID')\n"
     ]
    }
   ],
   "source": [
    "dogfos2019 = foster[yr_2019][dog].drop_duplicates('FosterID')\n",
    "catfos2019 = foster[yr_2019][cat].drop_duplicates('FosterID')"
   ],
   "metadata": {
    "collapsed": false,
    "pycharm": {
     "name": "#%%\n"
    }
   }
  },
  {
   "cell_type": "code",
   "execution_count": 36,
   "outputs": [
    {
     "data": {
      "text/plain": "837"
     },
     "execution_count": 36,
     "metadata": {},
     "output_type": "execute_result"
    }
   ],
   "source": [
    "len(catfos2019)"
   ],
   "metadata": {
    "collapsed": false,
    "pycharm": {
     "name": "#%%\n"
    }
   }
  },
  {
   "cell_type": "code",
   "execution_count": 11,
   "outputs": [
    {
     "data": {
      "text/plain": "71312    9\n27980    8\n40179    8\n40017    8\n65819    7\n        ..\n72357    1\n72010    1\n72598    1\n72706    1\n78582    1\nName: AnimalID, Length: 2570, dtype: int64"
     },
     "execution_count": 11,
     "metadata": {},
     "output_type": "execute_result"
    }
   ],
   "source": [
    "dogfos2019['AnimalID'].value_counts()"
   ],
   "metadata": {
    "collapsed": false,
    "pycharm": {
     "name": "#%%\n"
    }
   }
  },
  {
   "cell_type": "code",
   "execution_count": 10,
   "outputs": [
    {
     "data": {
      "text/plain": "UNKNOWN    4755\nName: BreedSize, dtype: int64"
     },
     "execution_count": 10,
     "metadata": {},
     "output_type": "execute_result"
    }
   ],
   "source": [
    "catfos2019['BreedSize'].value_counts()"
   ],
   "metadata": {
    "collapsed": false,
    "pycharm": {
     "name": "#%%\n"
    }
   }
  },
  {
   "cell_type": "code",
   "execution_count": 37,
   "outputs": [],
   "source": [
    "dogzips2019 = dogfos2019['FosterZipCode'].str.split('-').str[0]\n",
    "catzips2019 = catfos2019['FosterZipCode'].str.split('-').str[0]"
   ],
   "metadata": {
    "collapsed": false,
    "pycharm": {
     "name": "#%%\n"
    }
   }
  },
  {
   "cell_type": "code",
   "execution_count": 38,
   "outputs": [],
   "source": [
    "dogzipcounts = dogzips2019.value_counts()\n",
    "catzipcounts = catzips2019.value_counts()"
   ],
   "metadata": {
    "collapsed": false,
    "pycharm": {
     "name": "#%%\n"
    }
   }
  },
  {
   "cell_type": "code",
   "execution_count": 41,
   "outputs": [],
   "source": [
    "dogzipcounts.to_csv('2019_dog_zipcounts.csv')\n",
    "catzipcounts.to_csv('2019_cat_zipcounts.csv')"
   ],
   "metadata": {
    "collapsed": false,
    "pycharm": {
     "name": "#%%\n"
    }
   }
  },
  {
   "cell_type": "code",
   "execution_count": 91,
   "outputs": [
    {
     "data": {
      "text/plain": "array(['78744', '78703', '78749', '76574', '78745', '78727', '78747',\n       '78737', '78748', '78653', '78731', '78741', '78728', '78723',\n       '78757', '78702', '78758', '78613', '78641', '78739', '78721',\n       '78724', '78759', '78751', '78746', '78704', '78705', '78753',\n       '78620', '78725', '78732', '78722', '78654', '78644', '78634',\n       '78729', '78666', '78701', '78735', '78626', '78717', '78738', nan,\n       '78130', '78734', '77546', '78640', '78660', '78736', '78726',\n       '78754', '78664', '78756', '78619', '23225', '78665', '78617',\n       '78752', '78750', '78610', '787', '78733', '78621', '78730',\n       '76504', '43231', '78681', '76537', '78133', '78612', '78669',\n       '78962', '78652', '68657'], dtype=object)"
     },
     "execution_count": 91,
     "metadata": {},
     "output_type": "execute_result"
    }
   ],
   "source": [
    "catzips2019.unique()"
   ],
   "metadata": {
    "collapsed": false,
    "pycharm": {
     "name": "#%%\n"
    }
   }
  },
  {
   "cell_type": "code",
   "execution_count": 39,
   "outputs": [
    {
     "data": {
      "text/plain": "79"
     },
     "execution_count": 39,
     "metadata": {},
     "output_type": "execute_result"
    }
   ],
   "source": [
    "len(dogzipcounts)"
   ],
   "metadata": {
    "collapsed": false,
    "pycharm": {
     "name": "#%%\n"
    }
   }
  },
  {
   "cell_type": "code",
   "execution_count": 40,
   "outputs": [
    {
     "data": {
      "text/plain": "78705    81\n78704    69\n78745    45\n78741    38\n78751    36\n         ..\n78130     1\n23225     1\n78654     1\n78644     1\n68657     1\nName: FosterZipCode, Length: 73, dtype: int64"
     },
     "execution_count": 40,
     "metadata": {},
     "output_type": "execute_result"
    }
   ],
   "source": [
    "catzipcounts"
   ],
   "metadata": {
    "collapsed": false,
    "pycharm": {
     "name": "#%%\n"
    }
   }
  },
  {
   "cell_type": "code",
   "execution_count": null,
   "outputs": [],
   "source": [],
   "metadata": {
    "collapsed": false,
    "pycharm": {
     "name": "#%%\n"
    }
   }
  }
 ],
 "metadata": {
  "kernelspec": {
   "display_name": "Python 3",
   "language": "python",
   "name": "python3"
  },
  "language_info": {
   "codemirror_mode": {
    "name": "ipython",
    "version": 2
   },
   "file_extension": ".py",
   "mimetype": "text/x-python",
   "name": "python",
   "nbconvert_exporter": "python",
   "pygments_lexer": "ipython2",
   "version": "2.7.6"
  }
 },
 "nbformat": 4,
 "nbformat_minor": 0
}