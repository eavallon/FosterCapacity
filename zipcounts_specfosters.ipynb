{
 "cells": [
  {
   "cell_type": "code",
   "execution_count": 1,
   "outputs": [],
   "source": [
    "import pandas as pd\n",
    "import numpy as np"
   ],
   "metadata": {
    "collapsed": false,
    "pycharm": {
     "name": "#%%\n"
    }
   }
  },
  {
   "cell_type": "code",
   "execution_count": 2,
   "outputs": [],
   "source": [
    "foster_all = pd.read_csv('/Users/eavallon/Desktop/FosterCapacity/foster_2017-2022.csv',low_memory=False)\n",
    "dogzip2019 = pd.read_csv('/Users/eavallon/Desktop/FosterCapacity/2019_dog_zipcounts.csv')\n",
    "spec_stmed = pd.read_csv('/Users/eavallon/Desktop/FosterCapacity/Specialized Dog Fosters - Short Term Med Emergency.csv')\n",
    "spec_ltmed = pd.read_csv('/Users/eavallon/Desktop/FosterCapacity/Specialized Dog Fosters - Long Term Med Condition.csv')\n",
    "spec_crwound = pd.read_csv('/Users/eavallon/Desktop/FosterCapacity/Specialized Dog Fosters - Crate Rest _ Wounds.csv')\n",
    "spec_skin = pd.read_csv('/Users/eavallon/Desktop/FosterCapacity/Specialized Dog Fosters - Skin Issues.csv')\n",
    "spec_parvodw = pd.read_csv('/Users/eavallon/Desktop/FosterCapacity/Specialized Dog Fosters - Parvo _ Distemper.csv')\n",
    "spec_beh = pd.read_csv('/Users/eavallon/Desktop/FosterCapacity/Specialized Dog Fosters - Behavior.csv')"
   ],
   "metadata": {
    "collapsed": false,
    "pycharm": {
     "name": "#%%\n"
    }
   }
  },
  {
   "cell_type": "code",
   "execution_count": 3,
   "outputs": [],
   "source": [
    "dogzip2019 = dogzip2019.rename(columns={'Unnamed: 0':'ZipCode', 'FosterZipCode':'Total'})"
   ],
   "metadata": {
    "collapsed": false,
    "pycharm": {
     "name": "#%%\n"
    }
   }
  },
  {
   "cell_type": "code",
   "execution_count": 4,
   "outputs": [],
   "source": [
    "yr_2019 = foster_all['EventMonth'].between(201899,201999)\n",
    "dog = foster_all['AnimalType'].eq('Dog')\n",
    "cat = foster_all['AnimalType'].eq('Cat')"
   ],
   "metadata": {
    "collapsed": false,
    "pycharm": {
     "name": "#%%\n"
    }
   }
  },
  {
   "cell_type": "code",
   "execution_count": 5,
   "outputs": [],
   "source": [
    "foster_all['MedFoster'] = \"No\""
   ],
   "metadata": {
    "collapsed": false,
    "pycharm": {
     "name": "#%%\n"
    }
   }
  },
  {
   "cell_type": "code",
   "execution_count": 6,
   "outputs": [
    {
     "name": "stderr",
     "output_type": "stream",
     "text": [
      "/var/folders/dg/7g2s77314ws2znrh1l_sq8_80000gp/T/ipykernel_97329/3235888109.py:1: UserWarning: Boolean Series key will be reindexed to match DataFrame index.\n",
      "  dogfos2019 = foster_all[yr_2019][dog].drop_duplicates('FosterID')\n",
      "/var/folders/dg/7g2s77314ws2znrh1l_sq8_80000gp/T/ipykernel_97329/3235888109.py:2: UserWarning: Boolean Series key will be reindexed to match DataFrame index.\n",
      "  catfos2019 = foster_all[yr_2019][cat].drop_duplicates('FosterID')\n"
     ]
    }
   ],
   "source": [
    "dogfos2019 = foster_all[yr_2019][dog].drop_duplicates('FosterID')\n",
    "catfos2019 = foster_all[yr_2019][cat].drop_duplicates('FosterID')"
   ],
   "metadata": {
    "collapsed": false,
    "pycharm": {
     "name": "#%%\n"
    }
   }
  },
  {
   "cell_type": "code",
   "execution_count": 7,
   "outputs": [],
   "source": [
    "dogfos2019['MedFoster'] = \"No\"\n",
    "dogfos2019['BehFoster'] = \"No\""
   ],
   "metadata": {
    "collapsed": false,
    "pycharm": {
     "name": "#%%\n"
    }
   }
  },
  {
   "cell_type": "code",
   "execution_count": 8,
   "outputs": [],
   "source": [
    "spec_med = pd.concat([spec_stmed['Email Address'],spec_parvodw['Email Address'],spec_skin['Email Address'],\n",
    "                        spec_crwound['Email Address'],spec_ltmed['Email Address']]).drop_duplicates().to_numpy()"
   ],
   "metadata": {
    "collapsed": false,
    "pycharm": {
     "name": "#%%\n"
    }
   }
  },
  {
   "cell_type": "code",
   "execution_count": 9,
   "outputs": [
    {
     "name": "stderr",
     "output_type": "stream",
     "text": [
      "/var/folders/dg/7g2s77314ws2znrh1l_sq8_80000gp/T/ipykernel_97329/1404877127.py:3: SettingWithCopyWarning: \n",
      "A value is trying to be set on a copy of a slice from a DataFrame\n",
      "\n",
      "See the caveats in the documentation: https://pandas.pydata.org/pandas-docs/stable/user_guide/indexing.html#returning-a-view-versus-a-copy\n",
      "  foster_all['MedFoster'].iloc[m] = 'Yes'\n"
     ]
    }
   ],
   "source": [
    "for email in spec_med:\n",
    "    m = np.where(foster_all['FosterEmail']==email)\n",
    "    foster_all['MedFoster'].iloc[m] = 'Yes'"
   ],
   "metadata": {
    "collapsed": false,
    "pycharm": {
     "name": "#%%\n"
    }
   }
  },
  {
   "cell_type": "code",
   "execution_count": 10,
   "outputs": [],
   "source": [
    "foster_all.to_csv('foster_2017-2022_withmed.csv')"
   ],
   "metadata": {
    "collapsed": false,
    "pycharm": {
     "name": "#%%\n"
    }
   }
  },
  {
   "cell_type": "code",
   "execution_count": 57,
   "outputs": [],
   "source": [
    "yr_2019 = foster_all['EventMonth'].between(201899,201999)\n",
    "dog = foster_all['AnimalType'].eq('Dog')"
   ],
   "metadata": {
    "collapsed": false,
    "pycharm": {
     "name": "#%%\n"
    }
   }
  },
  {
   "cell_type": "code",
   "execution_count": 58,
   "outputs": [
    {
     "name": "stderr",
     "output_type": "stream",
     "text": [
      "/var/folders/dg/7g2s77314ws2znrh1l_sq8_80000gp/T/ipykernel_76286/508273541.py:1: UserWarning: Boolean Series key will be reindexed to match DataFrame index.\n",
      "  dogfos2019 = foster_all[yr_2019][dog].drop_duplicates('FosterID')\n"
     ]
    }
   ],
   "source": [
    "dogfos2019 = foster_all[yr_2019][dog].drop_duplicates('FosterID')"
   ],
   "metadata": {
    "collapsed": false,
    "pycharm": {
     "name": "#%%\n"
    }
   }
  },
  {
   "cell_type": "code",
   "execution_count": 62,
   "outputs": [],
   "source": [
    "dogmed2019 = dogfos2019[dogfos2019['MedFoster'].eq('Yes')]"
   ],
   "metadata": {
    "collapsed": false,
    "pycharm": {
     "name": "#%%\n"
    }
   }
  },
  {
   "cell_type": "code",
   "execution_count": 63,
   "outputs": [],
   "source": [
    "dogzips2019med = dogmed2019['FosterZipCode'].str.split('-').str[0]"
   ],
   "metadata": {
    "collapsed": false,
    "pycharm": {
     "name": "#%%\n"
    }
   }
  },
  {
   "cell_type": "code",
   "execution_count": 64,
   "outputs": [],
   "source": [
    "dogmedzipcounts = dogzips2019med.value_counts()"
   ],
   "metadata": {
    "collapsed": false,
    "pycharm": {
     "name": "#%%\n"
    }
   }
  },
  {
   "cell_type": "code",
   "execution_count": 75,
   "outputs": [
    {
     "data": {
      "text/plain": "'78704'"
     },
     "execution_count": 75,
     "metadata": {},
     "output_type": "execute_result"
    }
   ],
   "source": [
    "dogmedzipcounts.index[0]"
   ],
   "metadata": {
    "collapsed": false,
    "pycharm": {
     "name": "#%%\n"
    }
   }
  },
  {
   "cell_type": "code",
   "execution_count": 67,
   "outputs": [],
   "source": [
    "dogzip2019['MedFosters'] = 0"
   ],
   "metadata": {
    "collapsed": false,
    "pycharm": {
     "name": "#%%\n"
    }
   }
  },
  {
   "cell_type": "code",
   "execution_count": 79,
   "outputs": [
    {
     "name": "stderr",
     "output_type": "stream",
     "text": [
      "/var/folders/dg/7g2s77314ws2znrh1l_sq8_80000gp/T/ipykernel_76286/1744309668.py:3: SettingWithCopyWarning: \n",
      "A value is trying to be set on a copy of a slice from a DataFrame\n",
      "\n",
      "See the caveats in the documentation: https://pandas.pydata.org/pandas-docs/stable/user_guide/indexing.html#returning-a-view-versus-a-copy\n",
      "  dogzip2019['MedFosters'].iloc[m] = dogmedzipcounts[zip]\n"
     ]
    }
   ],
   "source": [
    "for zip in dogmedzipcounts.index:\n",
    "    m = np.where(dogzip2019['ZipCode']==zip)\n",
    "    dogzip2019['MedFosters'].iloc[m] = dogmedzipcounts[zip]"
   ],
   "metadata": {
    "collapsed": false,
    "pycharm": {
     "name": "#%%\n"
    }
   }
  },
  {
   "cell_type": "code",
   "execution_count": 81,
   "outputs": [],
   "source": [
    "dogzip2019.to_csv('/Users/eavallon/Desktop/FosterCapacity/2019_dog_zipcounts.csv')"
   ],
   "metadata": {
    "collapsed": false,
    "pycharm": {
     "name": "#%%\n"
    }
   }
  },
  {
   "cell_type": "code",
   "execution_count": null,
   "outputs": [],
   "source": [],
   "metadata": {
    "collapsed": false,
    "pycharm": {
     "name": "#%%\n"
    }
   }
  }
 ],
 "metadata": {
  "kernelspec": {
   "display_name": "Python 3",
   "language": "python",
   "name": "python3"
  },
  "language_info": {
   "codemirror_mode": {
    "name": "ipython",
    "version": 2
   },
   "file_extension": ".py",
   "mimetype": "text/x-python",
   "name": "python",
   "nbconvert_exporter": "python",
   "pygments_lexer": "ipython2",
   "version": "2.7.6"
  }
 },
 "nbformat": 4,
 "nbformat_minor": 0
}