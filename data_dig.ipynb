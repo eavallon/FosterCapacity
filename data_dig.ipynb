{
 "cells": [
  {
   "cell_type": "code",
   "execution_count": 3,
   "outputs": [],
   "source": [
    "import pandas as pd\n",
    "import numpy as np"
   ],
   "metadata": {
    "collapsed": false,
    "pycharm": {
     "name": "#%%\n"
    }
   }
  },
  {
   "cell_type": "code",
   "execution_count": 5,
   "outputs": [],
   "source": [
    "foster = pd.read_csv('foster_2017-2022.csv',low_memory=False)"
   ],
   "metadata": {
    "collapsed": false,
    "pycharm": {
     "name": "#%%\n"
    }
   }
  },
  {
   "cell_type": "code",
   "execution_count": 8,
   "outputs": [
    {
     "data": {
      "text/plain": "       EventID  AnimalID     AnimalName  EventDate  EventMonth  \\\n0       363511      9175          Jolie   20170101      201701   \n1       366271     38312          Flora   20170101      201701   \n2       367615     42979  Cosmic Orange   20170101      201701   \n3       100617     44965   Little Tango   20170101      201701   \n4       101185     45098         Umi 26   20170101      201701   \n...        ...       ...            ...        ...         ...   \n55005  9007378    107632       Baby Boy   20220425      202204   \n55006  9007380    107633    Candy Apple   20220425      202204   \n55007  9007928    107643        Happy 9   20220425      202204   \n55008  9007933    107644     Hang Ten 9   20220425      202204   \n55009  9007937    107645  Huckleberry 9   20220425      202204   \n\n            EventType AnimalSex AnimalType  FosterID   AnimalDOB  ...  \\\n0      Outcome.Foster    Female        Dog   1443919  20101021.0  ...   \n1      Outcome.Foster    Female        Cat   1391726  20100914.0  ...   \n2      Outcome.Foster      Male        Dog   1437279  20160603.0  ...   \n3      Outcome.Foster      Male        Dog   1228737  20100623.0  ...   \n4      Outcome.Foster      Male        Cat   1391768  20161016.0  ...   \n...               ...       ...        ...       ...         ...  ...   \n55005  Outcome.Foster      Male        Dog  12275848  20220413.0  ...   \n55006  Outcome.Foster    Female        Cat  52247198  20210425.0  ...   \n55007  Outcome.Foster   Unknown        Cat  17499191  20220418.0  ...   \n55008  Outcome.Foster   Unknown        Cat  17499191  20220418.0  ...   \n55009  Outcome.Foster   Unknown        Cat  17499191  20220418.0  ...   \n\n       Unnamed: 31 Unnamed: 32 Unnamed: 33 Unnamed: 34  Unnamed: 35  \\\n0              NaN         NaN         NaN         NaN          NaN   \n1              NaN         NaN         NaN         NaN          NaN   \n2              NaN         NaN         NaN         NaN          NaN   \n3              NaN         NaN         NaN         NaN          NaN   \n4              NaN         NaN         NaN         NaN          NaN   \n...            ...         ...         ...         ...          ...   \n55005          NaN         NaN         NaN         NaN          NaN   \n55006          NaN         NaN         NaN         NaN          NaN   \n55007          NaN         NaN         NaN         NaN          NaN   \n55008          NaN         NaN         NaN         NaN          NaN   \n55009          NaN         NaN         NaN         NaN          NaN   \n\n       Unnamed: 36  Unnamed: 37  Unnamed: 38  Unnamed: 39  Unnamed: 40  \n0              NaN          NaN          NaN          NaN          NaN  \n1              NaN          NaN          NaN          NaN          NaN  \n2              NaN          NaN          NaN          NaN          NaN  \n3              NaN          NaN          NaN          NaN          NaN  \n4              NaN          NaN          NaN          NaN          NaN  \n...            ...          ...          ...          ...          ...  \n55005          NaN          NaN          NaN          NaN          NaN  \n55006          NaN          NaN          NaN          NaN          NaN  \n55007          NaN          NaN          NaN          NaN          NaN  \n55008          NaN          NaN          NaN          NaN          NaN  \n55009          NaN          NaN          NaN          NaN          NaN  \n\n[55010 rows x 41 columns]",
      "text/html": "<div>\n<style scoped>\n    .dataframe tbody tr th:only-of-type {\n        vertical-align: middle;\n    }\n\n    .dataframe tbody tr th {\n        vertical-align: top;\n    }\n\n    .dataframe thead th {\n        text-align: right;\n    }\n</style>\n<table border=\"1\" class=\"dataframe\">\n  <thead>\n    <tr style=\"text-align: right;\">\n      <th></th>\n      <th>EventID</th>\n      <th>AnimalID</th>\n      <th>AnimalName</th>\n      <th>EventDate</th>\n      <th>EventMonth</th>\n      <th>EventType</th>\n      <th>AnimalSex</th>\n      <th>AnimalType</th>\n      <th>FosterID</th>\n      <th>AnimalDOB</th>\n      <th>...</th>\n      <th>Unnamed: 31</th>\n      <th>Unnamed: 32</th>\n      <th>Unnamed: 33</th>\n      <th>Unnamed: 34</th>\n      <th>Unnamed: 35</th>\n      <th>Unnamed: 36</th>\n      <th>Unnamed: 37</th>\n      <th>Unnamed: 38</th>\n      <th>Unnamed: 39</th>\n      <th>Unnamed: 40</th>\n    </tr>\n  </thead>\n  <tbody>\n    <tr>\n      <th>0</th>\n      <td>363511</td>\n      <td>9175</td>\n      <td>Jolie</td>\n      <td>20170101</td>\n      <td>201701</td>\n      <td>Outcome.Foster</td>\n      <td>Female</td>\n      <td>Dog</td>\n      <td>1443919</td>\n      <td>20101021.0</td>\n      <td>...</td>\n      <td>NaN</td>\n      <td>NaN</td>\n      <td>NaN</td>\n      <td>NaN</td>\n      <td>NaN</td>\n      <td>NaN</td>\n      <td>NaN</td>\n      <td>NaN</td>\n      <td>NaN</td>\n      <td>NaN</td>\n    </tr>\n    <tr>\n      <th>1</th>\n      <td>366271</td>\n      <td>38312</td>\n      <td>Flora</td>\n      <td>20170101</td>\n      <td>201701</td>\n      <td>Outcome.Foster</td>\n      <td>Female</td>\n      <td>Cat</td>\n      <td>1391726</td>\n      <td>20100914.0</td>\n      <td>...</td>\n      <td>NaN</td>\n      <td>NaN</td>\n      <td>NaN</td>\n      <td>NaN</td>\n      <td>NaN</td>\n      <td>NaN</td>\n      <td>NaN</td>\n      <td>NaN</td>\n      <td>NaN</td>\n      <td>NaN</td>\n    </tr>\n    <tr>\n      <th>2</th>\n      <td>367615</td>\n      <td>42979</td>\n      <td>Cosmic Orange</td>\n      <td>20170101</td>\n      <td>201701</td>\n      <td>Outcome.Foster</td>\n      <td>Male</td>\n      <td>Dog</td>\n      <td>1437279</td>\n      <td>20160603.0</td>\n      <td>...</td>\n      <td>NaN</td>\n      <td>NaN</td>\n      <td>NaN</td>\n      <td>NaN</td>\n      <td>NaN</td>\n      <td>NaN</td>\n      <td>NaN</td>\n      <td>NaN</td>\n      <td>NaN</td>\n      <td>NaN</td>\n    </tr>\n    <tr>\n      <th>3</th>\n      <td>100617</td>\n      <td>44965</td>\n      <td>Little Tango</td>\n      <td>20170101</td>\n      <td>201701</td>\n      <td>Outcome.Foster</td>\n      <td>Male</td>\n      <td>Dog</td>\n      <td>1228737</td>\n      <td>20100623.0</td>\n      <td>...</td>\n      <td>NaN</td>\n      <td>NaN</td>\n      <td>NaN</td>\n      <td>NaN</td>\n      <td>NaN</td>\n      <td>NaN</td>\n      <td>NaN</td>\n      <td>NaN</td>\n      <td>NaN</td>\n      <td>NaN</td>\n    </tr>\n    <tr>\n      <th>4</th>\n      <td>101185</td>\n      <td>45098</td>\n      <td>Umi 26</td>\n      <td>20170101</td>\n      <td>201701</td>\n      <td>Outcome.Foster</td>\n      <td>Male</td>\n      <td>Cat</td>\n      <td>1391768</td>\n      <td>20161016.0</td>\n      <td>...</td>\n      <td>NaN</td>\n      <td>NaN</td>\n      <td>NaN</td>\n      <td>NaN</td>\n      <td>NaN</td>\n      <td>NaN</td>\n      <td>NaN</td>\n      <td>NaN</td>\n      <td>NaN</td>\n      <td>NaN</td>\n    </tr>\n    <tr>\n      <th>...</th>\n      <td>...</td>\n      <td>...</td>\n      <td>...</td>\n      <td>...</td>\n      <td>...</td>\n      <td>...</td>\n      <td>...</td>\n      <td>...</td>\n      <td>...</td>\n      <td>...</td>\n      <td>...</td>\n      <td>...</td>\n      <td>...</td>\n      <td>...</td>\n      <td>...</td>\n      <td>...</td>\n      <td>...</td>\n      <td>...</td>\n      <td>...</td>\n      <td>...</td>\n      <td>...</td>\n    </tr>\n    <tr>\n      <th>55005</th>\n      <td>9007378</td>\n      <td>107632</td>\n      <td>Baby Boy</td>\n      <td>20220425</td>\n      <td>202204</td>\n      <td>Outcome.Foster</td>\n      <td>Male</td>\n      <td>Dog</td>\n      <td>12275848</td>\n      <td>20220413.0</td>\n      <td>...</td>\n      <td>NaN</td>\n      <td>NaN</td>\n      <td>NaN</td>\n      <td>NaN</td>\n      <td>NaN</td>\n      <td>NaN</td>\n      <td>NaN</td>\n      <td>NaN</td>\n      <td>NaN</td>\n      <td>NaN</td>\n    </tr>\n    <tr>\n      <th>55006</th>\n      <td>9007380</td>\n      <td>107633</td>\n      <td>Candy Apple</td>\n      <td>20220425</td>\n      <td>202204</td>\n      <td>Outcome.Foster</td>\n      <td>Female</td>\n      <td>Cat</td>\n      <td>52247198</td>\n      <td>20210425.0</td>\n      <td>...</td>\n      <td>NaN</td>\n      <td>NaN</td>\n      <td>NaN</td>\n      <td>NaN</td>\n      <td>NaN</td>\n      <td>NaN</td>\n      <td>NaN</td>\n      <td>NaN</td>\n      <td>NaN</td>\n      <td>NaN</td>\n    </tr>\n    <tr>\n      <th>55007</th>\n      <td>9007928</td>\n      <td>107643</td>\n      <td>Happy 9</td>\n      <td>20220425</td>\n      <td>202204</td>\n      <td>Outcome.Foster</td>\n      <td>Unknown</td>\n      <td>Cat</td>\n      <td>17499191</td>\n      <td>20220418.0</td>\n      <td>...</td>\n      <td>NaN</td>\n      <td>NaN</td>\n      <td>NaN</td>\n      <td>NaN</td>\n      <td>NaN</td>\n      <td>NaN</td>\n      <td>NaN</td>\n      <td>NaN</td>\n      <td>NaN</td>\n      <td>NaN</td>\n    </tr>\n    <tr>\n      <th>55008</th>\n      <td>9007933</td>\n      <td>107644</td>\n      <td>Hang Ten 9</td>\n      <td>20220425</td>\n      <td>202204</td>\n      <td>Outcome.Foster</td>\n      <td>Unknown</td>\n      <td>Cat</td>\n      <td>17499191</td>\n      <td>20220418.0</td>\n      <td>...</td>\n      <td>NaN</td>\n      <td>NaN</td>\n      <td>NaN</td>\n      <td>NaN</td>\n      <td>NaN</td>\n      <td>NaN</td>\n      <td>NaN</td>\n      <td>NaN</td>\n      <td>NaN</td>\n      <td>NaN</td>\n    </tr>\n    <tr>\n      <th>55009</th>\n      <td>9007937</td>\n      <td>107645</td>\n      <td>Huckleberry 9</td>\n      <td>20220425</td>\n      <td>202204</td>\n      <td>Outcome.Foster</td>\n      <td>Unknown</td>\n      <td>Cat</td>\n      <td>17499191</td>\n      <td>20220418.0</td>\n      <td>...</td>\n      <td>NaN</td>\n      <td>NaN</td>\n      <td>NaN</td>\n      <td>NaN</td>\n      <td>NaN</td>\n      <td>NaN</td>\n      <td>NaN</td>\n      <td>NaN</td>\n      <td>NaN</td>\n      <td>NaN</td>\n    </tr>\n  </tbody>\n</table>\n<p>55010 rows × 41 columns</p>\n</div>"
     },
     "execution_count": 8,
     "metadata": {},
     "output_type": "execute_result"
    }
   ],
   "source": [
    "foster"
   ],
   "metadata": {
    "collapsed": false,
    "pycharm": {
     "name": "#%%\n"
    }
   }
  },
  {
   "cell_type": "code",
   "execution_count": 19,
   "outputs": [],
   "source": [
    "yr_2021 = foster['EventMonth'].between(202099,202199)"
   ],
   "metadata": {
    "collapsed": false,
    "pycharm": {
     "name": "#%%\n"
    }
   }
  },
  {
   "cell_type": "code",
   "execution_count": 38,
   "outputs": [],
   "source": [
    "fos2021 = foster[yr_2021]"
   ],
   "metadata": {
    "collapsed": false,
    "pycharm": {
     "name": "#%%\n"
    }
   }
  },
  {
   "cell_type": "code",
   "execution_count": 52,
   "outputs": [
    {
     "data": {
      "text/plain": "38836    202101\n38837    202101\n38838    202101\n38839    202101\n38840    202101\n          ...  \n51755    202112\n51756    202112\n51757    202112\n51758    202112\n51759    202112\nName: EventMonth, Length: 12924, dtype: int64"
     },
     "execution_count": 52,
     "metadata": {},
     "output_type": "execute_result"
    }
   ],
   "source": [
    "fos2021['EventMonth']"
   ],
   "metadata": {
    "collapsed": false,
    "pycharm": {
     "name": "#%%\n"
    }
   }
  },
  {
   "cell_type": "code",
   "execution_count": 47,
   "outputs": [],
   "source": [
    "zipcodes2021 = fos2021['FosterZipCode'].str.split('-').str[0]"
   ],
   "metadata": {
    "collapsed": false,
    "pycharm": {
     "name": "#%%\n"
    }
   }
  },
  {
   "cell_type": "code",
   "execution_count": 48,
   "outputs": [],
   "source": [
    "zipcounts = zipcodes2021.value_counts()"
   ],
   "metadata": {
    "collapsed": false,
    "pycharm": {
     "name": "#%%\n"
    }
   }
  },
  {
   "cell_type": "code",
   "execution_count": 50,
   "outputs": [],
   "source": [
    "zipcounts.to_csv('2021_zipcounts.csv')"
   ],
   "metadata": {
    "collapsed": false,
    "pycharm": {
     "name": "#%%\n"
    }
   }
  },
  {
   "cell_type": "code",
   "execution_count": 46,
   "outputs": [
    {
     "data": {
      "text/plain": "'78723'"
     },
     "execution_count": 46,
     "metadata": {},
     "output_type": "execute_result"
    }
   ],
   "source": [
    "'78723-2112'.split('-')[0]"
   ],
   "metadata": {
    "collapsed": false,
    "pycharm": {
     "name": "#%%\n"
    }
   }
  },
  {
   "cell_type": "code",
   "execution_count": 53,
   "outputs": [
    {
     "data": {
      "text/plain": "78704    1018\n78705     783\n78745     553\n78749     502\n78741     484\n         ... \n78659       1\n78336       1\n78953       1\n78602       1\n77459       1\nName: FosterZipCode, Length: 110, dtype: int64"
     },
     "execution_count": 53,
     "metadata": {},
     "output_type": "execute_result"
    }
   ],
   "source": [
    "zipcounts"
   ],
   "metadata": {
    "collapsed": false,
    "pycharm": {
     "name": "#%%\n"
    }
   }
  },
  {
   "cell_type": "code",
   "execution_count": null,
   "outputs": [],
   "source": [],
   "metadata": {
    "collapsed": false,
    "pycharm": {
     "name": "#%%\n"
    }
   }
  }
 ],
 "metadata": {
  "kernelspec": {
   "display_name": "Python 3",
   "language": "python",
   "name": "python3"
  },
  "language_info": {
   "codemirror_mode": {
    "name": "ipython",
    "version": 2
   },
   "file_extension": ".py",
   "mimetype": "text/x-python",
   "name": "python",
   "nbconvert_exporter": "python",
   "pygments_lexer": "ipython2",
   "version": "2.7.6"
  }
 },
 "nbformat": 4,
 "nbformat_minor": 0
}