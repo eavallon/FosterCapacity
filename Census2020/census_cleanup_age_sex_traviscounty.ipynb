{
 "cells": [
  {
   "cell_type": "code",
   "execution_count": 1,
   "metadata": {
    "pycharm": {
     "name": "#%%\n"
    }
   },
   "outputs": [],
   "source": [
    "import pandas as pd"
   ]
  },
  {
   "cell_type": "code",
   "execution_count": 2,
   "metadata": {
    "pycharm": {
     "name": "#%%\n"
    }
   },
   "outputs": [],
   "source": [
    "df = pd.read_csv(\"./raw/ACSST5Y2020.S1501_age_sex_traviscounty.csv\")"
   ]
  },
  {
   "cell_type": "code",
   "execution_count": 3,
   "outputs": [
    {
     "data": {
      "text/plain": "             Label (Grouping) Total population  Total population!!AGE  \\\n0                 ZCTA5 78610              NaN                    NaN   \n1                       Total              NaN                    NaN   \n2                    Estimate           39,498                    NaN   \n3             Margin of Error           ±1,996                    NaN   \n4                     Percent              NaN                    NaN   \n...                       ...              ...                    ...   \n1154                 Estimate          619,098                    NaN   \n1155          Margin of Error              ±92                    NaN   \n1156           Percent Female              NaN                    NaN   \n1157                 Estimate              (X)                    NaN   \n1158          Margin of Error              (X)                    NaN   \n\n     Total population!!AGE!!Under 5 years Total population!!AGE!!5 to 9 years  \\\n0                                     NaN                                 NaN   \n1                                     NaN                                 NaN   \n2                                   2,905                               3,938   \n3                                    ±493                                ±985   \n4                                     NaN                                 NaN   \n...                                   ...                                 ...   \n1154                               37,921                              35,653   \n1155                                  ±85                              ±1,394   \n1156                                  NaN                                 NaN   \n1157                                 6.1%                                5.8%   \n1158                                 ±0.1                                ±0.2   \n\n     Total population!!AGE!!10 to 14 years  \\\n0                                      NaN   \n1                                      NaN   \n2                                    2,607   \n3                                     ±554   \n4                                      NaN   \n...                                    ...   \n1154                                37,777   \n1155                                ±1,394   \n1156                                   NaN   \n1157                                  6.1%   \n1158                                  ±0.2   \n\n     Total population!!AGE!!15 to 19 years  \\\n0                                      NaN   \n1                                      NaN   \n2                                    2,234   \n3                                     ±517   \n4                                      NaN   \n...                                    ...   \n1154                                37,141   \n1155                                   ±89   \n1156                                   NaN   \n1157                                  6.0%   \n1158                                  ±0.1   \n\n     Total population!!AGE!!20 to 24 years  \\\n0                                      NaN   \n1                                      NaN   \n2                                    2,417   \n3                                     ±572   \n4                                      NaN   \n...                                    ...   \n1154                                40,741   \n1155                                   ±66   \n1156                                   NaN   \n1157                                  6.6%   \n1158                                  ±0.1   \n\n     Total population!!AGE!!25 to 29 years  \\\n0                                      NaN   \n1                                      NaN   \n2                                    2,047   \n3                                     ±518   \n4                                      NaN   \n...                                    ...   \n1154                                61,486   \n1155                                   ±64   \n1156                                   NaN   \n1157                                  9.9%   \n1158                                  ±0.1   \n\n     Total population!!AGE!!30 to 34 years  ...  \\\n0                                      NaN  ...   \n1                                      NaN  ...   \n2                                    3,803  ...   \n3                                     ±595  ...   \n4                                      NaN  ...   \n...                                    ...  ...   \n1154                                59,632  ...   \n1155                                   ±55  ...   \n1156                                   NaN  ...   \n1157                                  9.6%  ...   \n1158                                  ±0.1  ...   \n\n     Total population!!SELECTED AGE CATEGORIES!!75 years and over  \\\n0                                                   NaN             \n1                                                   NaN             \n2                                                 1,035             \n3                                                  ±292             \n4                                                   NaN             \n...                                                 ...             \n1154                                             25,459             \n1155                                                 ±2             \n1156                                                NaN             \n1157                                               4.1%             \n1158                                               ±0.1             \n\n     Total population!!SUMMARY INDICATORS  \\\n0                                     NaN   \n1                                     NaN   \n2                                     NaN   \n3                                     NaN   \n4                                     NaN   \n...                                   ...   \n1154                                  NaN   \n1155                                  NaN   \n1156                                  NaN   \n1157                                  NaN   \n1158                                  NaN   \n\n     Total population!!SUMMARY INDICATORS!!Median age (years)  \\\n0                                                   NaN         \n1                                                   NaN         \n2                                                  34.8         \n3                                                  ±0.8         \n4                                                   NaN         \n...                                                 ...         \n1154                                               34.9         \n1155                                               ±0.1         \n1156                                                NaN         \n1157                                                (X)         \n1158                                                (X)         \n\n     Total population!!SUMMARY INDICATORS!!Sex ratio (males per 100 females)  \\\n0                                                   NaN                        \n1                                                   NaN                        \n2                                                  97.2                        \n3                                                  ±8.0                        \n4                                                   NaN                        \n...                                                 ...                        \n1154                                                (X)                        \n1155                                                (X)                        \n1156                                                NaN                        \n1157                                                (X)                        \n1158                                                (X)                        \n\n     Total population!!SUMMARY INDICATORS!!Age dependency ratio  \\\n0                                                   NaN           \n1                                                   NaN           \n2                                                  57.1           \n3                                                  ±5.3           \n4                                                   NaN           \n...                                                 ...           \n1154                                                (X)           \n1155                                                (X)           \n1156                                                NaN           \n1157                                                (X)           \n1158                                                (X)           \n\n     Total population!!SUMMARY INDICATORS!!Old-age dependency ratio  \\\n0                                                   NaN               \n1                                                   NaN               \n2                                                  13.6               \n3                                                  ±2.1               \n4                                                   NaN               \n...                                                 ...               \n1154                                                (X)               \n1155                                                (X)               \n1156                                                NaN               \n1157                                                (X)               \n1158                                                (X)               \n\n     Total population!!SUMMARY INDICATORS!!Child dependency ratio  \\\n0                                                   NaN             \n1                                                   NaN             \n2                                                  43.5             \n3                                                  ±4.6             \n4                                                   NaN             \n...                                                 ...             \n1154                                                (X)             \n1155                                                (X)             \n1156                                                NaN             \n1157                                                (X)             \n1158                                                (X)             \n\n     Total population!!PERCENT ALLOCATED  \\\n0                                    NaN   \n1                                    NaN   \n2                                    NaN   \n3                                    NaN   \n4                                    NaN   \n...                                  ...   \n1154                                 NaN   \n1155                                 NaN   \n1156                                 NaN   \n1157                                 NaN   \n1158                                 NaN   \n\n     Total population!!PERCENT ALLOCATED!!Sex  \\\n0                                         NaN   \n1                                         NaN   \n2                                         (X)   \n3                                         (X)   \n4                                         NaN   \n...                                       ...   \n1154                                      (X)   \n1155                                      (X)   \n1156                                      NaN   \n1157                                      (X)   \n1158                                      (X)   \n\n     Total population!!PERCENT ALLOCATED!!Age  \n0                                         NaN  \n1                                         NaN  \n2                                         (X)  \n3                                         (X)  \n4                                         NaN  \n...                                       ...  \n1154                                      (X)  \n1155                                      (X)  \n1156                                      NaN  \n1157                                      (X)  \n1158                                      (X)  \n\n[1159 rows x 43 columns]",
      "text/html": "<div>\n<style scoped>\n    .dataframe tbody tr th:only-of-type {\n        vertical-align: middle;\n    }\n\n    .dataframe tbody tr th {\n        vertical-align: top;\n    }\n\n    .dataframe thead th {\n        text-align: right;\n    }\n</style>\n<table border=\"1\" class=\"dataframe\">\n  <thead>\n    <tr style=\"text-align: right;\">\n      <th></th>\n      <th>Label (Grouping)</th>\n      <th>Total population</th>\n      <th>Total population!!AGE</th>\n      <th>Total population!!AGE!!Under 5 years</th>\n      <th>Total population!!AGE!!5 to 9 years</th>\n      <th>Total population!!AGE!!10 to 14 years</th>\n      <th>Total population!!AGE!!15 to 19 years</th>\n      <th>Total population!!AGE!!20 to 24 years</th>\n      <th>Total population!!AGE!!25 to 29 years</th>\n      <th>Total population!!AGE!!30 to 34 years</th>\n      <th>...</th>\n      <th>Total population!!SELECTED AGE CATEGORIES!!75 years and over</th>\n      <th>Total population!!SUMMARY INDICATORS</th>\n      <th>Total population!!SUMMARY INDICATORS!!Median age (years)</th>\n      <th>Total population!!SUMMARY INDICATORS!!Sex ratio (males per 100 females)</th>\n      <th>Total population!!SUMMARY INDICATORS!!Age dependency ratio</th>\n      <th>Total population!!SUMMARY INDICATORS!!Old-age dependency ratio</th>\n      <th>Total population!!SUMMARY INDICATORS!!Child dependency ratio</th>\n      <th>Total population!!PERCENT ALLOCATED</th>\n      <th>Total population!!PERCENT ALLOCATED!!Sex</th>\n      <th>Total population!!PERCENT ALLOCATED!!Age</th>\n    </tr>\n  </thead>\n  <tbody>\n    <tr>\n      <th>0</th>\n      <td>ZCTA5 78610</td>\n      <td>NaN</td>\n      <td>NaN</td>\n      <td>NaN</td>\n      <td>NaN</td>\n      <td>NaN</td>\n      <td>NaN</td>\n      <td>NaN</td>\n      <td>NaN</td>\n      <td>NaN</td>\n      <td>...</td>\n      <td>NaN</td>\n      <td>NaN</td>\n      <td>NaN</td>\n      <td>NaN</td>\n      <td>NaN</td>\n      <td>NaN</td>\n      <td>NaN</td>\n      <td>NaN</td>\n      <td>NaN</td>\n      <td>NaN</td>\n    </tr>\n    <tr>\n      <th>1</th>\n      <td>Total</td>\n      <td>NaN</td>\n      <td>NaN</td>\n      <td>NaN</td>\n      <td>NaN</td>\n      <td>NaN</td>\n      <td>NaN</td>\n      <td>NaN</td>\n      <td>NaN</td>\n      <td>NaN</td>\n      <td>...</td>\n      <td>NaN</td>\n      <td>NaN</td>\n      <td>NaN</td>\n      <td>NaN</td>\n      <td>NaN</td>\n      <td>NaN</td>\n      <td>NaN</td>\n      <td>NaN</td>\n      <td>NaN</td>\n      <td>NaN</td>\n    </tr>\n    <tr>\n      <th>2</th>\n      <td>Estimate</td>\n      <td>39,498</td>\n      <td>NaN</td>\n      <td>2,905</td>\n      <td>3,938</td>\n      <td>2,607</td>\n      <td>2,234</td>\n      <td>2,417</td>\n      <td>2,047</td>\n      <td>3,803</td>\n      <td>...</td>\n      <td>1,035</td>\n      <td>NaN</td>\n      <td>34.8</td>\n      <td>97.2</td>\n      <td>57.1</td>\n      <td>13.6</td>\n      <td>43.5</td>\n      <td>NaN</td>\n      <td>(X)</td>\n      <td>(X)</td>\n    </tr>\n    <tr>\n      <th>3</th>\n      <td>Margin of Error</td>\n      <td>±1,996</td>\n      <td>NaN</td>\n      <td>±493</td>\n      <td>±985</td>\n      <td>±554</td>\n      <td>±517</td>\n      <td>±572</td>\n      <td>±518</td>\n      <td>±595</td>\n      <td>...</td>\n      <td>±292</td>\n      <td>NaN</td>\n      <td>±0.8</td>\n      <td>±8.0</td>\n      <td>±5.3</td>\n      <td>±2.1</td>\n      <td>±4.6</td>\n      <td>NaN</td>\n      <td>(X)</td>\n      <td>(X)</td>\n    </tr>\n    <tr>\n      <th>4</th>\n      <td>Percent</td>\n      <td>NaN</td>\n      <td>NaN</td>\n      <td>NaN</td>\n      <td>NaN</td>\n      <td>NaN</td>\n      <td>NaN</td>\n      <td>NaN</td>\n      <td>NaN</td>\n      <td>NaN</td>\n      <td>...</td>\n      <td>NaN</td>\n      <td>NaN</td>\n      <td>NaN</td>\n      <td>NaN</td>\n      <td>NaN</td>\n      <td>NaN</td>\n      <td>NaN</td>\n      <td>NaN</td>\n      <td>NaN</td>\n      <td>NaN</td>\n    </tr>\n    <tr>\n      <th>...</th>\n      <td>...</td>\n      <td>...</td>\n      <td>...</td>\n      <td>...</td>\n      <td>...</td>\n      <td>...</td>\n      <td>...</td>\n      <td>...</td>\n      <td>...</td>\n      <td>...</td>\n      <td>...</td>\n      <td>...</td>\n      <td>...</td>\n      <td>...</td>\n      <td>...</td>\n      <td>...</td>\n      <td>...</td>\n      <td>...</td>\n      <td>...</td>\n      <td>...</td>\n      <td>...</td>\n    </tr>\n    <tr>\n      <th>1154</th>\n      <td>Estimate</td>\n      <td>619,098</td>\n      <td>NaN</td>\n      <td>37,921</td>\n      <td>35,653</td>\n      <td>37,777</td>\n      <td>37,141</td>\n      <td>40,741</td>\n      <td>61,486</td>\n      <td>59,632</td>\n      <td>...</td>\n      <td>25,459</td>\n      <td>NaN</td>\n      <td>34.9</td>\n      <td>(X)</td>\n      <td>(X)</td>\n      <td>(X)</td>\n      <td>(X)</td>\n      <td>NaN</td>\n      <td>(X)</td>\n      <td>(X)</td>\n    </tr>\n    <tr>\n      <th>1155</th>\n      <td>Margin of Error</td>\n      <td>±92</td>\n      <td>NaN</td>\n      <td>±85</td>\n      <td>±1,394</td>\n      <td>±1,394</td>\n      <td>±89</td>\n      <td>±66</td>\n      <td>±64</td>\n      <td>±55</td>\n      <td>...</td>\n      <td>±2</td>\n      <td>NaN</td>\n      <td>±0.1</td>\n      <td>(X)</td>\n      <td>(X)</td>\n      <td>(X)</td>\n      <td>(X)</td>\n      <td>NaN</td>\n      <td>(X)</td>\n      <td>(X)</td>\n    </tr>\n    <tr>\n      <th>1156</th>\n      <td>Percent Female</td>\n      <td>NaN</td>\n      <td>NaN</td>\n      <td>NaN</td>\n      <td>NaN</td>\n      <td>NaN</td>\n      <td>NaN</td>\n      <td>NaN</td>\n      <td>NaN</td>\n      <td>NaN</td>\n      <td>...</td>\n      <td>NaN</td>\n      <td>NaN</td>\n      <td>NaN</td>\n      <td>NaN</td>\n      <td>NaN</td>\n      <td>NaN</td>\n      <td>NaN</td>\n      <td>NaN</td>\n      <td>NaN</td>\n      <td>NaN</td>\n    </tr>\n    <tr>\n      <th>1157</th>\n      <td>Estimate</td>\n      <td>(X)</td>\n      <td>NaN</td>\n      <td>6.1%</td>\n      <td>5.8%</td>\n      <td>6.1%</td>\n      <td>6.0%</td>\n      <td>6.6%</td>\n      <td>9.9%</td>\n      <td>9.6%</td>\n      <td>...</td>\n      <td>4.1%</td>\n      <td>NaN</td>\n      <td>(X)</td>\n      <td>(X)</td>\n      <td>(X)</td>\n      <td>(X)</td>\n      <td>(X)</td>\n      <td>NaN</td>\n      <td>(X)</td>\n      <td>(X)</td>\n    </tr>\n    <tr>\n      <th>1158</th>\n      <td>Margin of Error</td>\n      <td>(X)</td>\n      <td>NaN</td>\n      <td>±0.1</td>\n      <td>±0.2</td>\n      <td>±0.2</td>\n      <td>±0.1</td>\n      <td>±0.1</td>\n      <td>±0.1</td>\n      <td>±0.1</td>\n      <td>...</td>\n      <td>±0.1</td>\n      <td>NaN</td>\n      <td>(X)</td>\n      <td>(X)</td>\n      <td>(X)</td>\n      <td>(X)</td>\n      <td>(X)</td>\n      <td>NaN</td>\n      <td>(X)</td>\n      <td>(X)</td>\n    </tr>\n  </tbody>\n</table>\n<p>1159 rows × 43 columns</p>\n</div>"
     },
     "execution_count": 3,
     "metadata": {},
     "output_type": "execute_result"
    }
   ],
   "source": [
    "df"
   ],
   "metadata": {
    "collapsed": false,
    "pycharm": {
     "name": "#%%\n"
    }
   }
  },
  {
   "cell_type": "code",
   "execution_count": 4,
   "outputs": [],
   "source": [
    "df.columns = df.columns.str.replace(\"!!\", \" \")\n",
    "df = df.replace(\"ZCTA5 \",\"\",regex=True)\n",
    "df = df.replace(\"±\", \"\", regex=True)\n",
    "df = df.rename(columns={\"Label (Grouping)\": \"Zip Code\"})"
   ],
   "metadata": {
    "collapsed": false,
    "pycharm": {
     "name": "#%%\n"
    }
   }
  },
  {
   "cell_type": "code",
   "execution_count": 5,
   "outputs": [
    {
     "data": {
      "text/plain": "                     Zip Code Total population  Total population AGE  \\\n0                       78610              NaN                   NaN   \n1                       Total              NaN                   NaN   \n2                    Estimate           39,498                   NaN   \n3             Margin of Error            1,996                   NaN   \n4                     Percent              NaN                   NaN   \n...                       ...              ...                   ...   \n1154                 Estimate          619,098                   NaN   \n1155          Margin of Error               92                   NaN   \n1156           Percent Female              NaN                   NaN   \n1157                 Estimate              (X)                   NaN   \n1158          Margin of Error              (X)                   NaN   \n\n     Total population AGE Under 5 years Total population AGE 5 to 9 years  \\\n0                                   NaN                               NaN   \n1                                   NaN                               NaN   \n2                                 2,905                             3,938   \n3                                   493                               985   \n4                                   NaN                               NaN   \n...                                 ...                               ...   \n1154                             37,921                            35,653   \n1155                                 85                             1,394   \n1156                                NaN                               NaN   \n1157                               6.1%                              5.8%   \n1158                                0.1                               0.2   \n\n     Total population AGE 10 to 14 years Total population AGE 15 to 19 years  \\\n0                                    NaN                                 NaN   \n1                                    NaN                                 NaN   \n2                                  2,607                               2,234   \n3                                    554                                 517   \n4                                    NaN                                 NaN   \n...                                  ...                                 ...   \n1154                              37,777                              37,141   \n1155                               1,394                                  89   \n1156                                 NaN                                 NaN   \n1157                                6.1%                                6.0%   \n1158                                 0.2                                 0.1   \n\n     Total population AGE 20 to 24 years Total population AGE 25 to 29 years  \\\n0                                    NaN                                 NaN   \n1                                    NaN                                 NaN   \n2                                  2,417                               2,047   \n3                                    572                                 518   \n4                                    NaN                                 NaN   \n...                                  ...                                 ...   \n1154                              40,741                              61,486   \n1155                                  66                                  64   \n1156                                 NaN                                 NaN   \n1157                                6.6%                                9.9%   \n1158                                 0.1                                 0.1   \n\n     Total population AGE 30 to 34 years  ...  \\\n0                                    NaN  ...   \n1                                    NaN  ...   \n2                                  3,803  ...   \n3                                    595  ...   \n4                                    NaN  ...   \n...                                  ...  ...   \n1154                              59,632  ...   \n1155                                  55  ...   \n1156                                 NaN  ...   \n1157                                9.6%  ...   \n1158                                 0.1  ...   \n\n     Total population SELECTED AGE CATEGORIES 75 years and over  \\\n0                                                   NaN           \n1                                                   NaN           \n2                                                 1,035           \n3                                                   292           \n4                                                   NaN           \n...                                                 ...           \n1154                                             25,459           \n1155                                                  2           \n1156                                                NaN           \n1157                                               4.1%           \n1158                                                0.1           \n\n     Total population SUMMARY INDICATORS  \\\n0                                    NaN   \n1                                    NaN   \n2                                    NaN   \n3                                    NaN   \n4                                    NaN   \n...                                  ...   \n1154                                 NaN   \n1155                                 NaN   \n1156                                 NaN   \n1157                                 NaN   \n1158                                 NaN   \n\n     Total population SUMMARY INDICATORS Median age (years)  \\\n0                                                   NaN       \n1                                                   NaN       \n2                                                  34.8       \n3                                                   0.8       \n4                                                   NaN       \n...                                                 ...       \n1154                                               34.9       \n1155                                                0.1       \n1156                                                NaN       \n1157                                                (X)       \n1158                                                (X)       \n\n     Total population SUMMARY INDICATORS Sex ratio (males per 100 females)  \\\n0                                                   NaN                      \n1                                                   NaN                      \n2                                                  97.2                      \n3                                                   8.0                      \n4                                                   NaN                      \n...                                                 ...                      \n1154                                                (X)                      \n1155                                                (X)                      \n1156                                                NaN                      \n1157                                                (X)                      \n1158                                                (X)                      \n\n     Total population SUMMARY INDICATORS Age dependency ratio  \\\n0                                                   NaN         \n1                                                   NaN         \n2                                                  57.1         \n3                                                   5.3         \n4                                                   NaN         \n...                                                 ...         \n1154                                                (X)         \n1155                                                (X)         \n1156                                                NaN         \n1157                                                (X)         \n1158                                                (X)         \n\n     Total population SUMMARY INDICATORS Old-age dependency ratio  \\\n0                                                   NaN             \n1                                                   NaN             \n2                                                  13.6             \n3                                                   2.1             \n4                                                   NaN             \n...                                                 ...             \n1154                                                (X)             \n1155                                                (X)             \n1156                                                NaN             \n1157                                                (X)             \n1158                                                (X)             \n\n     Total population SUMMARY INDICATORS Child dependency ratio  \\\n0                                                   NaN           \n1                                                   NaN           \n2                                                  43.5           \n3                                                   4.6           \n4                                                   NaN           \n...                                                 ...           \n1154                                                (X)           \n1155                                                (X)           \n1156                                                NaN           \n1157                                                (X)           \n1158                                                (X)           \n\n     Total population PERCENT ALLOCATED  \\\n0                                   NaN   \n1                                   NaN   \n2                                   NaN   \n3                                   NaN   \n4                                   NaN   \n...                                 ...   \n1154                                NaN   \n1155                                NaN   \n1156                                NaN   \n1157                                NaN   \n1158                                NaN   \n\n     Total population PERCENT ALLOCATED Sex  \\\n0                                       NaN   \n1                                       NaN   \n2                                       (X)   \n3                                       (X)   \n4                                       NaN   \n...                                     ...   \n1154                                    (X)   \n1155                                    (X)   \n1156                                    NaN   \n1157                                    (X)   \n1158                                    (X)   \n\n     Total population PERCENT ALLOCATED Age  \n0                                       NaN  \n1                                       NaN  \n2                                       (X)  \n3                                       (X)  \n4                                       NaN  \n...                                     ...  \n1154                                    (X)  \n1155                                    (X)  \n1156                                    NaN  \n1157                                    (X)  \n1158                                    (X)  \n\n[1159 rows x 43 columns]",
      "text/html": "<div>\n<style scoped>\n    .dataframe tbody tr th:only-of-type {\n        vertical-align: middle;\n    }\n\n    .dataframe tbody tr th {\n        vertical-align: top;\n    }\n\n    .dataframe thead th {\n        text-align: right;\n    }\n</style>\n<table border=\"1\" class=\"dataframe\">\n  <thead>\n    <tr style=\"text-align: right;\">\n      <th></th>\n      <th>Zip Code</th>\n      <th>Total population</th>\n      <th>Total population AGE</th>\n      <th>Total population AGE Under 5 years</th>\n      <th>Total population AGE 5 to 9 years</th>\n      <th>Total population AGE 10 to 14 years</th>\n      <th>Total population AGE 15 to 19 years</th>\n      <th>Total population AGE 20 to 24 years</th>\n      <th>Total population AGE 25 to 29 years</th>\n      <th>Total population AGE 30 to 34 years</th>\n      <th>...</th>\n      <th>Total population SELECTED AGE CATEGORIES 75 years and over</th>\n      <th>Total population SUMMARY INDICATORS</th>\n      <th>Total population SUMMARY INDICATORS Median age (years)</th>\n      <th>Total population SUMMARY INDICATORS Sex ratio (males per 100 females)</th>\n      <th>Total population SUMMARY INDICATORS Age dependency ratio</th>\n      <th>Total population SUMMARY INDICATORS Old-age dependency ratio</th>\n      <th>Total population SUMMARY INDICATORS Child dependency ratio</th>\n      <th>Total population PERCENT ALLOCATED</th>\n      <th>Total population PERCENT ALLOCATED Sex</th>\n      <th>Total population PERCENT ALLOCATED Age</th>\n    </tr>\n  </thead>\n  <tbody>\n    <tr>\n      <th>0</th>\n      <td>78610</td>\n      <td>NaN</td>\n      <td>NaN</td>\n      <td>NaN</td>\n      <td>NaN</td>\n      <td>NaN</td>\n      <td>NaN</td>\n      <td>NaN</td>\n      <td>NaN</td>\n      <td>NaN</td>\n      <td>...</td>\n      <td>NaN</td>\n      <td>NaN</td>\n      <td>NaN</td>\n      <td>NaN</td>\n      <td>NaN</td>\n      <td>NaN</td>\n      <td>NaN</td>\n      <td>NaN</td>\n      <td>NaN</td>\n      <td>NaN</td>\n    </tr>\n    <tr>\n      <th>1</th>\n      <td>Total</td>\n      <td>NaN</td>\n      <td>NaN</td>\n      <td>NaN</td>\n      <td>NaN</td>\n      <td>NaN</td>\n      <td>NaN</td>\n      <td>NaN</td>\n      <td>NaN</td>\n      <td>NaN</td>\n      <td>...</td>\n      <td>NaN</td>\n      <td>NaN</td>\n      <td>NaN</td>\n      <td>NaN</td>\n      <td>NaN</td>\n      <td>NaN</td>\n      <td>NaN</td>\n      <td>NaN</td>\n      <td>NaN</td>\n      <td>NaN</td>\n    </tr>\n    <tr>\n      <th>2</th>\n      <td>Estimate</td>\n      <td>39,498</td>\n      <td>NaN</td>\n      <td>2,905</td>\n      <td>3,938</td>\n      <td>2,607</td>\n      <td>2,234</td>\n      <td>2,417</td>\n      <td>2,047</td>\n      <td>3,803</td>\n      <td>...</td>\n      <td>1,035</td>\n      <td>NaN</td>\n      <td>34.8</td>\n      <td>97.2</td>\n      <td>57.1</td>\n      <td>13.6</td>\n      <td>43.5</td>\n      <td>NaN</td>\n      <td>(X)</td>\n      <td>(X)</td>\n    </tr>\n    <tr>\n      <th>3</th>\n      <td>Margin of Error</td>\n      <td>1,996</td>\n      <td>NaN</td>\n      <td>493</td>\n      <td>985</td>\n      <td>554</td>\n      <td>517</td>\n      <td>572</td>\n      <td>518</td>\n      <td>595</td>\n      <td>...</td>\n      <td>292</td>\n      <td>NaN</td>\n      <td>0.8</td>\n      <td>8.0</td>\n      <td>5.3</td>\n      <td>2.1</td>\n      <td>4.6</td>\n      <td>NaN</td>\n      <td>(X)</td>\n      <td>(X)</td>\n    </tr>\n    <tr>\n      <th>4</th>\n      <td>Percent</td>\n      <td>NaN</td>\n      <td>NaN</td>\n      <td>NaN</td>\n      <td>NaN</td>\n      <td>NaN</td>\n      <td>NaN</td>\n      <td>NaN</td>\n      <td>NaN</td>\n      <td>NaN</td>\n      <td>...</td>\n      <td>NaN</td>\n      <td>NaN</td>\n      <td>NaN</td>\n      <td>NaN</td>\n      <td>NaN</td>\n      <td>NaN</td>\n      <td>NaN</td>\n      <td>NaN</td>\n      <td>NaN</td>\n      <td>NaN</td>\n    </tr>\n    <tr>\n      <th>...</th>\n      <td>...</td>\n      <td>...</td>\n      <td>...</td>\n      <td>...</td>\n      <td>...</td>\n      <td>...</td>\n      <td>...</td>\n      <td>...</td>\n      <td>...</td>\n      <td>...</td>\n      <td>...</td>\n      <td>...</td>\n      <td>...</td>\n      <td>...</td>\n      <td>...</td>\n      <td>...</td>\n      <td>...</td>\n      <td>...</td>\n      <td>...</td>\n      <td>...</td>\n      <td>...</td>\n    </tr>\n    <tr>\n      <th>1154</th>\n      <td>Estimate</td>\n      <td>619,098</td>\n      <td>NaN</td>\n      <td>37,921</td>\n      <td>35,653</td>\n      <td>37,777</td>\n      <td>37,141</td>\n      <td>40,741</td>\n      <td>61,486</td>\n      <td>59,632</td>\n      <td>...</td>\n      <td>25,459</td>\n      <td>NaN</td>\n      <td>34.9</td>\n      <td>(X)</td>\n      <td>(X)</td>\n      <td>(X)</td>\n      <td>(X)</td>\n      <td>NaN</td>\n      <td>(X)</td>\n      <td>(X)</td>\n    </tr>\n    <tr>\n      <th>1155</th>\n      <td>Margin of Error</td>\n      <td>92</td>\n      <td>NaN</td>\n      <td>85</td>\n      <td>1,394</td>\n      <td>1,394</td>\n      <td>89</td>\n      <td>66</td>\n      <td>64</td>\n      <td>55</td>\n      <td>...</td>\n      <td>2</td>\n      <td>NaN</td>\n      <td>0.1</td>\n      <td>(X)</td>\n      <td>(X)</td>\n      <td>(X)</td>\n      <td>(X)</td>\n      <td>NaN</td>\n      <td>(X)</td>\n      <td>(X)</td>\n    </tr>\n    <tr>\n      <th>1156</th>\n      <td>Percent Female</td>\n      <td>NaN</td>\n      <td>NaN</td>\n      <td>NaN</td>\n      <td>NaN</td>\n      <td>NaN</td>\n      <td>NaN</td>\n      <td>NaN</td>\n      <td>NaN</td>\n      <td>NaN</td>\n      <td>...</td>\n      <td>NaN</td>\n      <td>NaN</td>\n      <td>NaN</td>\n      <td>NaN</td>\n      <td>NaN</td>\n      <td>NaN</td>\n      <td>NaN</td>\n      <td>NaN</td>\n      <td>NaN</td>\n      <td>NaN</td>\n    </tr>\n    <tr>\n      <th>1157</th>\n      <td>Estimate</td>\n      <td>(X)</td>\n      <td>NaN</td>\n      <td>6.1%</td>\n      <td>5.8%</td>\n      <td>6.1%</td>\n      <td>6.0%</td>\n      <td>6.6%</td>\n      <td>9.9%</td>\n      <td>9.6%</td>\n      <td>...</td>\n      <td>4.1%</td>\n      <td>NaN</td>\n      <td>(X)</td>\n      <td>(X)</td>\n      <td>(X)</td>\n      <td>(X)</td>\n      <td>(X)</td>\n      <td>NaN</td>\n      <td>(X)</td>\n      <td>(X)</td>\n    </tr>\n    <tr>\n      <th>1158</th>\n      <td>Margin of Error</td>\n      <td>(X)</td>\n      <td>NaN</td>\n      <td>0.1</td>\n      <td>0.2</td>\n      <td>0.2</td>\n      <td>0.1</td>\n      <td>0.1</td>\n      <td>0.1</td>\n      <td>0.1</td>\n      <td>...</td>\n      <td>0.1</td>\n      <td>NaN</td>\n      <td>(X)</td>\n      <td>(X)</td>\n      <td>(X)</td>\n      <td>(X)</td>\n      <td>(X)</td>\n      <td>NaN</td>\n      <td>(X)</td>\n      <td>(X)</td>\n    </tr>\n  </tbody>\n</table>\n<p>1159 rows × 43 columns</p>\n</div>"
     },
     "execution_count": 5,
     "metadata": {},
     "output_type": "execute_result"
    }
   ],
   "source": [
    "df"
   ],
   "metadata": {
    "collapsed": false,
    "pycharm": {
     "name": "#%%\n"
    }
   }
  },
  {
   "cell_type": "code",
   "execution_count": 7,
   "outputs": [
    {
     "data": {
      "text/plain": "            Zip Code Total population  Total population AGE  \\\n0           Estimate           39,498                   NaN   \n1           Estimate           16,234                   NaN   \n2           Estimate           83,876                   NaN   \n3           Estimate            1,363                   NaN   \n4           Estimate           28,376                   NaN   \n..               ...              ...                   ...   \n56          Estimate            9,450                   NaN   \n57          Estimate           26,485                   NaN   \n58          Estimate           50,575                   NaN   \n59          Estimate           45,901                   NaN   \n60          Estimate        1,250,884                   NaN   \n\n   Total population AGE Under 5 years Total population AGE 5 to 9 years  \\\n0                               2,905                             3,938   \n1                               1,072                             1,371   \n2                               5,271                             5,972   \n3                                 126                               142   \n4                               1,965                             1,596   \n..                                ...                               ...   \n56                                280                               327   \n57                              1,663                             1,397   \n58                              4,223                             2,698   \n59                              2,640                             2,197   \n60                             77,720                            73,115   \n\n   Total population AGE 10 to 14 years Total population AGE 15 to 19 years  \\\n0                                2,607                               2,234   \n1                                2,263                               1,563   \n2                                7,681                               5,750   \n3                                  192                                  73   \n4                                2,298                               2,895   \n..                                 ...                                 ...   \n56                                 334                                 556   \n57                               1,897                               1,253   \n58                               2,826                               2,319   \n59                               2,188                               1,885   \n60                              77,183                              74,861   \n\n   Total population AGE 20 to 24 years Total population AGE 25 to 29 years  \\\n0                                2,417                               2,047   \n1                                  736                                 805   \n2                                3,969                               5,596   \n3                                   55                                  97   \n4                                2,490                               2,433   \n..                                 ...                                 ...   \n56                                 497                               1,409   \n57                                 854                               2,248   \n58                               3,246                               6,545   \n59                               2,214                               4,199   \n60                              82,079                             126,937   \n\n   Total population AGE 30 to 34 years  ...  \\\n0                                3,803  ...   \n1                                1,010  ...   \n2                                6,893  ...   \n3                                  114  ...   \n4                                2,046  ...   \n..                                 ...  ...   \n56                               1,512  ...   \n57                               2,901  ...   \n58                               7,256  ...   \n59                               5,183  ...   \n60                             124,868  ...   \n\n   Total population SELECTED AGE CATEGORIES 75 years and over  \\\n0                                               1,035           \n1                                                 411           \n2                                               3,083           \n3                                                  85           \n4                                                 265           \n..                                                ...           \n56                                                439           \n57                                              1,420           \n58                                              1,308           \n59                                              3,054           \n60                                             43,420           \n\n   Total population SUMMARY INDICATORS  \\\n0                                  NaN   \n1                                  NaN   \n2                                  NaN   \n3                                  NaN   \n4                                  NaN   \n..                                 ...   \n56                                 NaN   \n57                                 NaN   \n58                                 NaN   \n59                                 NaN   \n60                                 NaN   \n\n   Total population SUMMARY INDICATORS Median age (years)  \\\n0                                                34.8       \n1                                                31.2       \n2                                                35.5       \n3                                                29.9       \n4                                                31.5       \n..                                                ...       \n56                                               34.3       \n57                                               37.2       \n58                                               32.0       \n59                                               38.3       \n60                                               34.5       \n\n   Total population SUMMARY INDICATORS Sex ratio (males per 100 females)  \\\n0                                                97.2                      \n1                                               101.5                      \n2                                                97.6                      \n3                                               104.7                      \n4                                               111.1                      \n..                                                ...                      \n56                                               93.2                      \n57                                               89.6                      \n58                                               99.1                      \n59                                              102.9                      \n60                                              102.0                      \n\n   Total population SUMMARY INDICATORS Age dependency ratio  \\\n0                                                57.1         \n1                                                86.7         \n2                                                58.4         \n3                                               100.7         \n4                                                46.8         \n..                                                ...         \n56                                               27.6         \n57                                               53.0         \n58                                               40.9         \n59                                               48.1         \n60                                               45.9         \n\n   Total population SUMMARY INDICATORS Old-age dependency ratio  \\\n0                                                13.6             \n1                                                19.1             \n2                                                15.0             \n3                                                27.7             \n4                                                 6.6             \n..                                                ...             \n56                                               13.0             \n57                                               18.3             \n58                                               10.2             \n59                                               21.6             \n60                                               14.4             \n\n   Total population SUMMARY INDICATORS Child dependency ratio  \\\n0                                                43.5           \n1                                                67.6           \n2                                                43.4           \n3                                                73.0           \n4                                                40.2           \n..                                                ...           \n56                                               14.6           \n57                                               34.7           \n58                                               30.7           \n59                                               26.5           \n60                                               31.6           \n\n   Total population PERCENT ALLOCATED Total population PERCENT ALLOCATED Sex  \\\n0                                 NaN                                    (X)   \n1                                 NaN                                    (X)   \n2                                 NaN                                    (X)   \n3                                 NaN                                    (X)   \n4                                 NaN                                    (X)   \n..                                ...                                    ...   \n56                                NaN                                    (X)   \n57                                NaN                                    (X)   \n58                                NaN                                    (X)   \n59                                NaN                                    (X)   \n60                                NaN                                    (X)   \n\n   Total population PERCENT ALLOCATED Age  \n0                                     (X)  \n1                                     (X)  \n2                                     (X)  \n3                                     (X)  \n4                                     (X)  \n..                                    ...  \n56                                    (X)  \n57                                    (X)  \n58                                    (X)  \n59                                    (X)  \n60                                    (X)  \n\n[61 rows x 43 columns]",
      "text/html": "<div>\n<style scoped>\n    .dataframe tbody tr th:only-of-type {\n        vertical-align: middle;\n    }\n\n    .dataframe tbody tr th {\n        vertical-align: top;\n    }\n\n    .dataframe thead th {\n        text-align: right;\n    }\n</style>\n<table border=\"1\" class=\"dataframe\">\n  <thead>\n    <tr style=\"text-align: right;\">\n      <th></th>\n      <th>Zip Code</th>\n      <th>Total population</th>\n      <th>Total population AGE</th>\n      <th>Total population AGE Under 5 years</th>\n      <th>Total population AGE 5 to 9 years</th>\n      <th>Total population AGE 10 to 14 years</th>\n      <th>Total population AGE 15 to 19 years</th>\n      <th>Total population AGE 20 to 24 years</th>\n      <th>Total population AGE 25 to 29 years</th>\n      <th>Total population AGE 30 to 34 years</th>\n      <th>...</th>\n      <th>Total population SELECTED AGE CATEGORIES 75 years and over</th>\n      <th>Total population SUMMARY INDICATORS</th>\n      <th>Total population SUMMARY INDICATORS Median age (years)</th>\n      <th>Total population SUMMARY INDICATORS Sex ratio (males per 100 females)</th>\n      <th>Total population SUMMARY INDICATORS Age dependency ratio</th>\n      <th>Total population SUMMARY INDICATORS Old-age dependency ratio</th>\n      <th>Total population SUMMARY INDICATORS Child dependency ratio</th>\n      <th>Total population PERCENT ALLOCATED</th>\n      <th>Total population PERCENT ALLOCATED Sex</th>\n      <th>Total population PERCENT ALLOCATED Age</th>\n    </tr>\n  </thead>\n  <tbody>\n    <tr>\n      <th>0</th>\n      <td>Estimate</td>\n      <td>39,498</td>\n      <td>NaN</td>\n      <td>2,905</td>\n      <td>3,938</td>\n      <td>2,607</td>\n      <td>2,234</td>\n      <td>2,417</td>\n      <td>2,047</td>\n      <td>3,803</td>\n      <td>...</td>\n      <td>1,035</td>\n      <td>NaN</td>\n      <td>34.8</td>\n      <td>97.2</td>\n      <td>57.1</td>\n      <td>13.6</td>\n      <td>43.5</td>\n      <td>NaN</td>\n      <td>(X)</td>\n      <td>(X)</td>\n    </tr>\n    <tr>\n      <th>1</th>\n      <td>Estimate</td>\n      <td>16,234</td>\n      <td>NaN</td>\n      <td>1,072</td>\n      <td>1,371</td>\n      <td>2,263</td>\n      <td>1,563</td>\n      <td>736</td>\n      <td>805</td>\n      <td>1,010</td>\n      <td>...</td>\n      <td>411</td>\n      <td>NaN</td>\n      <td>31.2</td>\n      <td>101.5</td>\n      <td>86.7</td>\n      <td>19.1</td>\n      <td>67.6</td>\n      <td>NaN</td>\n      <td>(X)</td>\n      <td>(X)</td>\n    </tr>\n    <tr>\n      <th>2</th>\n      <td>Estimate</td>\n      <td>83,876</td>\n      <td>NaN</td>\n      <td>5,271</td>\n      <td>5,972</td>\n      <td>7,681</td>\n      <td>5,750</td>\n      <td>3,969</td>\n      <td>5,596</td>\n      <td>6,893</td>\n      <td>...</td>\n      <td>3,083</td>\n      <td>NaN</td>\n      <td>35.5</td>\n      <td>97.6</td>\n      <td>58.4</td>\n      <td>15.0</td>\n      <td>43.4</td>\n      <td>NaN</td>\n      <td>(X)</td>\n      <td>(X)</td>\n    </tr>\n    <tr>\n      <th>3</th>\n      <td>Estimate</td>\n      <td>1,363</td>\n      <td>NaN</td>\n      <td>126</td>\n      <td>142</td>\n      <td>192</td>\n      <td>73</td>\n      <td>55</td>\n      <td>97</td>\n      <td>114</td>\n      <td>...</td>\n      <td>85</td>\n      <td>NaN</td>\n      <td>29.9</td>\n      <td>104.7</td>\n      <td>100.7</td>\n      <td>27.7</td>\n      <td>73.0</td>\n      <td>NaN</td>\n      <td>(X)</td>\n      <td>(X)</td>\n    </tr>\n    <tr>\n      <th>4</th>\n      <td>Estimate</td>\n      <td>28,376</td>\n      <td>NaN</td>\n      <td>1,965</td>\n      <td>1,596</td>\n      <td>2,298</td>\n      <td>2,895</td>\n      <td>2,490</td>\n      <td>2,433</td>\n      <td>2,046</td>\n      <td>...</td>\n      <td>265</td>\n      <td>NaN</td>\n      <td>31.5</td>\n      <td>111.1</td>\n      <td>46.8</td>\n      <td>6.6</td>\n      <td>40.2</td>\n      <td>NaN</td>\n      <td>(X)</td>\n      <td>(X)</td>\n    </tr>\n    <tr>\n      <th>...</th>\n      <td>...</td>\n      <td>...</td>\n      <td>...</td>\n      <td>...</td>\n      <td>...</td>\n      <td>...</td>\n      <td>...</td>\n      <td>...</td>\n      <td>...</td>\n      <td>...</td>\n      <td>...</td>\n      <td>...</td>\n      <td>...</td>\n      <td>...</td>\n      <td>...</td>\n      <td>...</td>\n      <td>...</td>\n      <td>...</td>\n      <td>...</td>\n      <td>...</td>\n      <td>...</td>\n    </tr>\n    <tr>\n      <th>56</th>\n      <td>Estimate</td>\n      <td>9,450</td>\n      <td>NaN</td>\n      <td>280</td>\n      <td>327</td>\n      <td>334</td>\n      <td>556</td>\n      <td>497</td>\n      <td>1,409</td>\n      <td>1,512</td>\n      <td>...</td>\n      <td>439</td>\n      <td>NaN</td>\n      <td>34.3</td>\n      <td>93.2</td>\n      <td>27.6</td>\n      <td>13.0</td>\n      <td>14.6</td>\n      <td>NaN</td>\n      <td>(X)</td>\n      <td>(X)</td>\n    </tr>\n    <tr>\n      <th>57</th>\n      <td>Estimate</td>\n      <td>26,485</td>\n      <td>NaN</td>\n      <td>1,663</td>\n      <td>1,397</td>\n      <td>1,897</td>\n      <td>1,253</td>\n      <td>854</td>\n      <td>2,248</td>\n      <td>2,901</td>\n      <td>...</td>\n      <td>1,420</td>\n      <td>NaN</td>\n      <td>37.2</td>\n      <td>89.6</td>\n      <td>53.0</td>\n      <td>18.3</td>\n      <td>34.7</td>\n      <td>NaN</td>\n      <td>(X)</td>\n      <td>(X)</td>\n    </tr>\n    <tr>\n      <th>58</th>\n      <td>Estimate</td>\n      <td>50,575</td>\n      <td>NaN</td>\n      <td>4,223</td>\n      <td>2,698</td>\n      <td>2,826</td>\n      <td>2,319</td>\n      <td>3,246</td>\n      <td>6,545</td>\n      <td>7,256</td>\n      <td>...</td>\n      <td>1,308</td>\n      <td>NaN</td>\n      <td>32.0</td>\n      <td>99.1</td>\n      <td>40.9</td>\n      <td>10.2</td>\n      <td>30.7</td>\n      <td>NaN</td>\n      <td>(X)</td>\n      <td>(X)</td>\n    </tr>\n    <tr>\n      <th>59</th>\n      <td>Estimate</td>\n      <td>45,901</td>\n      <td>NaN</td>\n      <td>2,640</td>\n      <td>2,197</td>\n      <td>2,188</td>\n      <td>1,885</td>\n      <td>2,214</td>\n      <td>4,199</td>\n      <td>5,183</td>\n      <td>...</td>\n      <td>3,054</td>\n      <td>NaN</td>\n      <td>38.3</td>\n      <td>102.9</td>\n      <td>48.1</td>\n      <td>21.6</td>\n      <td>26.5</td>\n      <td>NaN</td>\n      <td>(X)</td>\n      <td>(X)</td>\n    </tr>\n    <tr>\n      <th>60</th>\n      <td>Estimate</td>\n      <td>1,250,884</td>\n      <td>NaN</td>\n      <td>77,720</td>\n      <td>73,115</td>\n      <td>77,183</td>\n      <td>74,861</td>\n      <td>82,079</td>\n      <td>126,937</td>\n      <td>124,868</td>\n      <td>...</td>\n      <td>43,420</td>\n      <td>NaN</td>\n      <td>34.5</td>\n      <td>102.0</td>\n      <td>45.9</td>\n      <td>14.4</td>\n      <td>31.6</td>\n      <td>NaN</td>\n      <td>(X)</td>\n      <td>(X)</td>\n    </tr>\n  </tbody>\n</table>\n<p>61 rows × 43 columns</p>\n</div>"
     },
     "execution_count": 7,
     "metadata": {},
     "output_type": "execute_result"
    }
   ],
   "source": [
    "df_total_est"
   ],
   "metadata": {
    "collapsed": false,
    "pycharm": {
     "name": "#%%\n"
    }
   }
  },
  {
   "cell_type": "code",
   "execution_count": 6,
   "outputs": [],
   "source": [
    "# Totals\n",
    "df_total_est = df.copy()\n",
    "df_total_est_err = df.copy()\n",
    "\n",
    "for idx in range(0,len(df),19):\n",
    "    if idx == len(df) - 19:\n",
    "        df_total_est.loc[idx] = df_total_est.loc[idx + 2]\n",
    "        df_total_est_err.loc[idx] = df_total_est_err.loc[idx + 3]\n",
    "        break\n",
    "    else:\n",
    "        df_total_est.loc[idx] = df_total_est.loc[idx + 2]\n",
    "        df_total_est_err.loc[idx] = df_total_est_err.loc[idx + 3]\n",
    "\n",
    "df_total_est = df_total_est.loc[list(range(0,len(df),19))]\n",
    "df_total_est_err = df_total_est_err.loc[list(range(0,len(df),19))]\n",
    "\n",
    "df_total_est = df_total_est.reset_index()\n",
    "df_total_est_err = df_total_est_err.reset_index()\n",
    "\n",
    "df_total_est = df_total_est.drop(columns=['index'])\n",
    "df_total_est_err = df_total_est_err.drop(columns=['index'])\n",
    "\n",
    "# Percent of population\n",
    "df_total_percent = df.copy()\n",
    "df_total_percent_err = df.copy()\n",
    "\n",
    "for idx in range(0,len(df),19):\n",
    "    if idx == len(df) - 19:\n",
    "        df_total_percent.loc[idx] = df_total_percent.loc[idx + 5]\n",
    "        df_total_percent_err.loc[idx] = df_total_percent_err.loc[idx + 6]\n",
    "        break\n",
    "    else:\n",
    "        df_total_percent.loc[idx] = df_total_percent.loc[idx + 5]\n",
    "        df_total_percent_err.loc[idx] = df_total_percent_err.loc[idx + 6]\n",
    "\n",
    "df_total_percent = df_total_percent.loc[list(range(0,len(df),19))]\n",
    "df_total_percent_err = df_total_percent_err.loc[list(range(0,len(df),19))]\n",
    "\n",
    "df_total_percent = df_total_percent.reset_index()\n",
    "df_total_percent_err = df_total_percent_err.reset_index()\n",
    "\n",
    "df_total_percent = df_total_percent.drop(columns=['index'])\n",
    "df_total_percent_err = df_total_percent_err.drop(columns=['index'])"
   ],
   "metadata": {
    "collapsed": false,
    "pycharm": {
     "name": "#%%\n"
    }
   }
  },
  {
   "cell_type": "code",
   "execution_count": 8,
   "outputs": [],
   "source": [
    "# Male\n",
    "df_male_est = df.copy()\n",
    "df_male_est_err = df.copy()\n",
    "\n",
    "for idx in range(0,len(df),19):\n",
    "    if idx == len(df) - 19:\n",
    "        df_male_est.loc[idx] = df_male_est.loc[idx + 8]\n",
    "        df_male_est_err.loc[idx] = df_male_est_err.loc[idx + 9]\n",
    "        break\n",
    "    else:\n",
    "        df_male_est.loc[idx] = df_male_est.loc[idx + 8]\n",
    "        df_male_est_err.loc[idx] = df_male_est_err.loc[idx + 9]\n",
    "\n",
    "df_male_est = df_male_est.loc[list(range(0,len(df),19))]\n",
    "df_male_est_err = df_male_est_err.loc[list(range(0,len(df),19))]\n",
    "\n",
    "df_male_est = df_male_est.reset_index()\n",
    "df_male_est_err = df_male_est_err.reset_index()\n",
    "\n",
    "df_male_est = df_male_est.drop(columns=['index'])\n",
    "df_male_est_err = df_male_est_err.drop(columns=['index'])\n",
    "\n",
    "# Percent Male\n",
    "df_male_percent = df.copy()\n",
    "df_male_percent_err = df.copy()\n",
    "\n",
    "for idx in range(0,len(df),19):\n",
    "    if idx == len(df) - 19:\n",
    "        df_male_percent.loc[idx] = df_male_percent.loc[idx + 11]\n",
    "        df_male_percent_err.loc[idx] = df_male_percent_err.loc[idx + 12]\n",
    "        break\n",
    "    else:\n",
    "        df_male_percent.loc[idx] = df_male_percent.loc[idx + 11]\n",
    "        df_male_percent_err.loc[idx] = df_male_percent_err.loc[idx + 12]\n",
    "\n",
    "df_male_percent = df_male_percent.loc[list(range(0,len(df),19))]\n",
    "df_male_percent_err = df_male_percent_err.loc[list(range(0,len(df),19))]\n",
    "\n",
    "df_male_percent = df_male_percent.reset_index()\n",
    "df_male_percent_err = df_male_percent_err.reset_index()\n",
    "\n",
    "df_male_percent = df_male_percent.drop(columns=['index'])\n",
    "df_male_percent_err = df_male_percent_err.drop(columns=['index'])"
   ],
   "metadata": {
    "collapsed": false,
    "pycharm": {
     "name": "#%%\n"
    }
   }
  },
  {
   "cell_type": "code",
   "execution_count": 9,
   "outputs": [],
   "source": [
    "# Female\n",
    "df_fem_est = df.copy()\n",
    "df_fem_est_err = df.copy()\n",
    "\n",
    "for idx in range(0,len(df),19):\n",
    "    if idx == len(df) - 19:\n",
    "        df_fem_est.loc[idx] = df_fem_est.loc[idx + 14]\n",
    "        df_fem_est_err.loc[idx] = df_fem_est_err.loc[idx + 15]\n",
    "        break\n",
    "    else:\n",
    "        df_fem_est.loc[idx] = df_fem_est.loc[idx + 14]\n",
    "        df_fem_est_err.loc[idx] = df_fem_est_err.loc[idx + 15]\n",
    "\n",
    "df_fem_est = df_fem_est.loc[list(range(0,len(df),19))]\n",
    "df_fem_est_err = df_fem_est_err.loc[list(range(0,len(df),19))]\n",
    "\n",
    "df_fem_est = df_fem_est.reset_index()\n",
    "df_fem_est_err = df_fem_est_err.reset_index()\n",
    "\n",
    "df_fem_est = df_fem_est.drop(columns=['index'])\n",
    "df_fem_est_err = df_fem_est_err.drop(columns=['index'])\n",
    "\n",
    "# Percent Female\n",
    "df_fem_percent = df.copy()\n",
    "df_fem_percent_err = df.copy()\n",
    "\n",
    "for idx in range(0,len(df),19):\n",
    "    if idx == len(df) - 19:\n",
    "        df_fem_percent.loc[idx] = df_fem_percent.loc[idx + 17]\n",
    "        df_fem_percent_err.loc[idx] = df_fem_percent_err.loc[idx + 18]\n",
    "        break\n",
    "    else:\n",
    "        df_fem_percent.loc[idx] = df_fem_percent.loc[idx + 17]\n",
    "        df_fem_percent_err.loc[idx] = df_fem_percent_err.loc[idx + 18]\n",
    "\n",
    "df_fem_percent = df_fem_percent.loc[list(range(0,len(df),19))]\n",
    "df_fem_percent_err = df_fem_percent_err.loc[list(range(0,len(df),19))]\n",
    "\n",
    "df_fem_percent = df_fem_percent.reset_index()\n",
    "df_fem_percent_err = df_fem_percent_err.reset_index()\n",
    "\n",
    "df_fem_percent = df_fem_percent.drop(columns=['index'])\n",
    "df_fem_percent_err = df_fem_percent_err.drop(columns=['index'])"
   ],
   "metadata": {
    "collapsed": false,
    "pycharm": {
     "name": "#%%\n"
    }
   }
  },
  {
   "cell_type": "code",
   "execution_count": 10,
   "outputs": [],
   "source": [
    "df_total_est.to_csv('./clean/ACSST5Y2020.S1501_age_sex_traviscounty_clean/total_est.csv')\n",
    "df_total_est_err.to_csv('./clean/ACSST5Y2020.S1501_age_sex_traviscounty_clean/total_est_err.csv')\n",
    "df_total_percent.to_csv('./clean/ACSST5Y2020.S1501_age_sex_traviscounty_clean/total_percent.csv')\n",
    "df_total_percent_err.to_csv('./clean/ACSST5Y2020.S1501_age_sex_traviscounty_clean/total_percent_err.csv')"
   ],
   "metadata": {
    "collapsed": false,
    "pycharm": {
     "name": "#%%\n"
    }
   }
  },
  {
   "cell_type": "code",
   "execution_count": 11,
   "outputs": [],
   "source": [
    "df_male_est.to_csv('./clean/ACSST5Y2020.S1501_age_sex_traviscounty_clean/male_est.csv')\n",
    "df_male_est_err.to_csv('./clean/ACSST5Y2020.S1501_age_sex_traviscounty_clean/male_est_err.csv')\n",
    "df_male_percent.to_csv('./clean/ACSST5Y2020.S1501_age_sex_traviscounty_clean/male_percent.csv')\n",
    "df_male_percent_err.to_csv('./clean/ACSST5Y2020.S1501_age_sex_traviscounty_clean/male_percent_err.csv')"
   ],
   "metadata": {
    "collapsed": false,
    "pycharm": {
     "name": "#%%\n"
    }
   }
  },
  {
   "cell_type": "code",
   "execution_count": 12,
   "outputs": [],
   "source": [
    "df_fem_est.to_csv('./clean/ACSST5Y2020.S1501_age_sex_traviscounty_clean/female_est.csv')\n",
    "df_fem_est_err.to_csv('./clean/ACSST5Y2020.S1501_age_sex_traviscounty_clean/female_est_err.csv')\n",
    "df_fem_percent.to_csv('./clean/ACSST5Y2020.S1501_age_sex_traviscounty_clean/female_percent.csv')\n",
    "df_fem_percent_err.to_csv('./clean/ACSST5Y2020.S1501_age_sex_traviscounty_clean/female_percent_err.csv')"
   ],
   "metadata": {
    "collapsed": false,
    "pycharm": {
     "name": "#%%\n"
    }
   }
  },
  {
   "cell_type": "code",
   "execution_count": 25,
   "outputs": [],
   "source": [],
   "metadata": {
    "collapsed": false,
    "pycharm": {
     "name": "#%%\n"
    }
   }
  },
  {
   "cell_type": "code",
   "execution_count": 25,
   "outputs": [],
   "source": [],
   "metadata": {
    "collapsed": false,
    "pycharm": {
     "name": "#%%\n"
    }
   }
  },
  {
   "cell_type": "code",
   "execution_count": null,
   "outputs": [],
   "source": [],
   "metadata": {
    "collapsed": false,
    "pycharm": {
     "name": "#%%\n"
    }
   }
  }
 ],
 "metadata": {
  "kernelspec": {
   "display_name": "Python 3",
   "language": "python",
   "name": "python3"
  },
  "language_info": {
   "codemirror_mode": {
    "name": "ipython",
    "version": 3
   },
   "file_extension": ".py",
   "mimetype": "text/x-python",
   "name": "python",
   "nbconvert_exporter": "python",
   "pygments_lexer": "ipython3",
   "version": "3.7.6"
  }
 },
 "nbformat": 4,
 "nbformat_minor": 4
}