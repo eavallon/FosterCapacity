{
 "cells": [
  {
   "cell_type": "code",
   "execution_count": 1,
   "metadata": {
    "pycharm": {
     "name": "#%%\n"
    }
   },
   "outputs": [],
   "source": [
    "import pandas as pd"
   ]
  },
  {
   "cell_type": "code",
   "execution_count": 2,
   "metadata": {
    "pycharm": {
     "name": "#%%\n"
    }
   },
   "outputs": [],
   "source": [
    "df = pd.read_csv(\"./raw/ACSST5Y2020.S1401-schoolenroll.csv\")"
   ]
  },
  {
   "cell_type": "code",
   "execution_count": 3,
   "metadata": {
    "pycharm": {
     "name": "#%%\n"
    }
   },
   "outputs": [],
   "source": [
    "df = df.replace(\"ZCTA5 \",\"\",regex=True)\n",
    "df = df.replace(\"±\", \"\", regex=True)\n",
    "df = df.rename(columns={\"Label (Grouping)\": \"Zip Code\"})"
   ]
  },
  {
   "cell_type": "code",
   "execution_count": 4,
   "outputs": [
    {
     "data": {
      "text/plain": "                           Zip Code  \\\n0                             78610   \n1                             Total   \n2                          Estimate   \n3                   Margin of Error   \n4                           Percent   \n...                             ...   \n1154                       Estimate   \n1155                Margin of Error   \n1156      Percent in private school   \n1157                       Estimate   \n1158                Margin of Error   \n\n     Population 3 years and over enrolled in school  \\\n0                                               NaN   \n1                                               NaN   \n2                                             9,433   \n3                                             1,393   \n4                                               NaN   \n...                                             ...   \n1154                                            (X)   \n1155                                            (X)   \n1156                                            NaN   \n1157                                          14.8%   \n1158                                            0.8   \n\n     Population 3 years and over enrolled in school!!Nursery school, preschool  \\\n0                                                   NaN                          \n1                                                   NaN                          \n2                                                   443                          \n3                                                   196                          \n4                                                   NaN                          \n...                                                 ...                          \n1154                                             10,008                          \n1155                                                810                          \n1156                                                NaN                          \n1157                                              46.5%                          \n1158                                                3.6                          \n\n     Population 3 years and over enrolled in school!!Kindergarten to 12th grade  \\\n0                                                   NaN                           \n1                                                   NaN                           \n2                                                 7,340                           \n3                                                 1,122                           \n4                                                   NaN                           \n...                                                 ...                           \n1154                                             19,881                           \n1155                                              1,422                           \n1156                                                NaN                           \n1157                                              10.5%                           \n1158                                                0.7                           \n\n     Population 3 years and over enrolled in school!!Kindergarten to 12th grade!!Kindergarten  \\\n0                                                   NaN                                         \n1                                                   NaN                                         \n2                                                   537                                         \n3                                                   210                                         \n4                                                   NaN                                         \n...                                                 ...                                         \n1154                                              1,753                                         \n1155                                                289                                         \n1156                                                NaN                                         \n1157                                              12.6%                                         \n1158                                                2.1                                         \n\n     Population 3 years and over enrolled in school!!Kindergarten to 12th grade!!Elementary: grade 1 to grade 4  \\\n0                                                   NaN                                                           \n1                                                   NaN                                                           \n2                                                 2,714                                                           \n3                                                   974                                                           \n4                                                   NaN                                                           \n...                                                 ...                                                           \n1154                                              6,646                                                           \n1155                                                822                                                           \n1156                                                NaN                                                           \n1157                                              11.2%                                                           \n1158                                                1.3                                                           \n\n     Population 3 years and over enrolled in school!!Kindergarten to 12th grade!!Elementary: grade 5 to grade 8  \\\n0                                                   NaN                                                           \n1                                                   NaN                                                           \n2                                                 2,028                                                           \n3                                                   498                                                           \n4                                                   NaN                                                           \n...                                                 ...                                                           \n1154                                              6,653                                                           \n1155                                                700                                                           \n1156                                                NaN                                                           \n1157                                              10.7%                                                           \n1158                                                1.2                                                           \n\n     Population 3 years and over enrolled in school!!Kindergarten to 12th grade!!High school: grade 9 to grade 12  \\\n0                                                   NaN                                                             \n1                                                   NaN                                                             \n2                                                 2,061                                                             \n3                                                   400                                                             \n4                                                   NaN                                                             \n...                                                 ...                                                             \n1154                                              4,829                                                             \n1155                                                719                                                             \n1156                                                NaN                                                             \n1157                                               8.9%                                                             \n1158                                                1.3                                                             \n\n     Population 3 years and over enrolled in school!!College, undergraduate  \\\n0                                                   NaN                       \n1                                                   NaN                       \n2                                                 1,215                       \n3                                                   434                       \n4                                                   NaN                       \n...                                                 ...                       \n1154                                             11,989                       \n1155                                              1,105                       \n1156                                                NaN                       \n1157                                              15.9%                       \n1158                                                1.4                       \n\n     Population 3 years and over enrolled in school!!Graduate, professional school  \\\n0                                                   NaN                              \n1                                                   NaN                              \n2                                                   435                              \n3                                                   302                              \n4                                                   NaN                              \n...                                                 ...                              \n1154                                              4,332                              \n1155                                                600                              \n1156                                                NaN                              \n1157                                              17.7%                              \n1158                                                2.2                              \n\n      ... Population 25 to 34 years  \\\n0     ...                       NaN   \n1     ...                       NaN   \n2     ...                     5,850   \n3     ...                       782   \n4     ...                       NaN   \n...   ...                       ...   \n1154  ...                       (X)   \n1155  ...                       (X)   \n1156  ...                       NaN   \n1157  ...                       (X)   \n1158  ...                       (X)   \n\n     Population 25 to 34 years!!25 to 34 year olds enrolled in school  \\\n0                                                   NaN                 \n1                                                   NaN                 \n2                                                   371                 \n3                                                   195                 \n4                                                   NaN                 \n...                                                 ...                 \n1154                                              4,031                 \n1155                                                586                 \n1156                                                NaN                 \n1157                                              14.5%                 \n1158                                                1.9                 \n\n     Population 35 years and over  \\\n0                             NaN   \n1                             NaN   \n2                          19,547   \n3                           1,146   \n4                             NaN   \n...                           ...   \n1154                          (X)   \n1155                          (X)   \n1156                          NaN   \n1157                          (X)   \n1158                          (X)   \n\n     Population 35 years and over!!35 years and over enrolled in school  \\\n0                                                   NaN                   \n1                                                   NaN                   \n2                                                   514                   \n3                                                   361                   \n4                                                   NaN                   \n...                                                 ...                   \n1154                                              4,110                   \n1155                                                698                   \n1156                                                NaN                   \n1157                                              24.8%                   \n1158                                                3.4                   \n\n     Population 18 to 24 years  \\\n0                          NaN   \n1                          NaN   \n2                        3,165   \n3                          702   \n4                          NaN   \n...                        ...   \n1154                       (X)   \n1155                       (X)   \n1156                       NaN   \n1157                       (X)   \n1158                       (X)   \n\n     Population 18 to 24 years!!Enrolled in college or graduate school  \\\n0                                                   NaN                  \n1                                                   NaN                  \n2                                                   774                  \n3                                                   390                  \n4                                                   NaN                  \n...                                                 ...                  \n1154                                              8,197                  \n1155                                                847                  \n1156                                                NaN                  \n1157                                              14.5%                  \n1158                                                1.4                  \n\n     Population 18 to 24 years!!Males 18 to 24 years  \\\n0                                                NaN   \n1                                                NaN   \n2                                              1,974   \n3                                                606   \n4                                                NaN   \n...                                              ...   \n1154                                             (X)   \n1155                                             (X)   \n1156                                             NaN   \n1157                                             (X)   \n1158                                             (X)   \n\n     Population 18 to 24 years!!Males 18 to 24 years!!Enrolled in college or graduate school  \\\n0                                                   NaN                                        \n1                                                   NaN                                        \n2                                                   420                                        \n3                                                   311                                        \n4                                                   NaN                                        \n...                                                 ...                                        \n1154                                              3,491                                        \n1155                                                524                                        \n1156                                                NaN                                        \n1157                                              12.9%                                        \n1158                                                1.8                                        \n\n     Population 18 to 24 years!!Females 18 to 24 years  \\\n0                                                  NaN   \n1                                                  NaN   \n2                                                1,191   \n3                                                  349   \n4                                                  NaN   \n...                                                ...   \n1154                                               (X)   \n1155                                               (X)   \n1156                                               NaN   \n1157                                               (X)   \n1158                                               (X)   \n\n     Population 18 to 24 years!!Females 18 to 24 years!!Enrolled in college or graduate school  \n0                                                   NaN                                         \n1                                                   NaN                                         \n2                                                   354                                         \n3                                                   220                                         \n4                                                   NaN                                         \n...                                                 ...                                         \n1154                                              4,706                                         \n1155                                                573                                         \n1156                                                NaN                                         \n1157                                              16.0%                                         \n1158                                                1.8                                         \n\n[1159 rows x 35 columns]",
      "text/html": "<div>\n<style scoped>\n    .dataframe tbody tr th:only-of-type {\n        vertical-align: middle;\n    }\n\n    .dataframe tbody tr th {\n        vertical-align: top;\n    }\n\n    .dataframe thead th {\n        text-align: right;\n    }\n</style>\n<table border=\"1\" class=\"dataframe\">\n  <thead>\n    <tr style=\"text-align: right;\">\n      <th></th>\n      <th>Zip Code</th>\n      <th>Population 3 years and over enrolled in school</th>\n      <th>Population 3 years and over enrolled in school!!Nursery school, preschool</th>\n      <th>Population 3 years and over enrolled in school!!Kindergarten to 12th grade</th>\n      <th>Population 3 years and over enrolled in school!!Kindergarten to 12th grade!!Kindergarten</th>\n      <th>Population 3 years and over enrolled in school!!Kindergarten to 12th grade!!Elementary: grade 1 to grade 4</th>\n      <th>Population 3 years and over enrolled in school!!Kindergarten to 12th grade!!Elementary: grade 5 to grade 8</th>\n      <th>Population 3 years and over enrolled in school!!Kindergarten to 12th grade!!High school: grade 9 to grade 12</th>\n      <th>Population 3 years and over enrolled in school!!College, undergraduate</th>\n      <th>Population 3 years and over enrolled in school!!Graduate, professional school</th>\n      <th>...</th>\n      <th>Population 25 to 34 years</th>\n      <th>Population 25 to 34 years!!25 to 34 year olds enrolled in school</th>\n      <th>Population 35 years and over</th>\n      <th>Population 35 years and over!!35 years and over enrolled in school</th>\n      <th>Population 18 to 24 years</th>\n      <th>Population 18 to 24 years!!Enrolled in college or graduate school</th>\n      <th>Population 18 to 24 years!!Males 18 to 24 years</th>\n      <th>Population 18 to 24 years!!Males 18 to 24 years!!Enrolled in college or graduate school</th>\n      <th>Population 18 to 24 years!!Females 18 to 24 years</th>\n      <th>Population 18 to 24 years!!Females 18 to 24 years!!Enrolled in college or graduate school</th>\n    </tr>\n  </thead>\n  <tbody>\n    <tr>\n      <th>0</th>\n      <td>78610</td>\n      <td>NaN</td>\n      <td>NaN</td>\n      <td>NaN</td>\n      <td>NaN</td>\n      <td>NaN</td>\n      <td>NaN</td>\n      <td>NaN</td>\n      <td>NaN</td>\n      <td>NaN</td>\n      <td>...</td>\n      <td>NaN</td>\n      <td>NaN</td>\n      <td>NaN</td>\n      <td>NaN</td>\n      <td>NaN</td>\n      <td>NaN</td>\n      <td>NaN</td>\n      <td>NaN</td>\n      <td>NaN</td>\n      <td>NaN</td>\n    </tr>\n    <tr>\n      <th>1</th>\n      <td>Total</td>\n      <td>NaN</td>\n      <td>NaN</td>\n      <td>NaN</td>\n      <td>NaN</td>\n      <td>NaN</td>\n      <td>NaN</td>\n      <td>NaN</td>\n      <td>NaN</td>\n      <td>NaN</td>\n      <td>...</td>\n      <td>NaN</td>\n      <td>NaN</td>\n      <td>NaN</td>\n      <td>NaN</td>\n      <td>NaN</td>\n      <td>NaN</td>\n      <td>NaN</td>\n      <td>NaN</td>\n      <td>NaN</td>\n      <td>NaN</td>\n    </tr>\n    <tr>\n      <th>2</th>\n      <td>Estimate</td>\n      <td>9,433</td>\n      <td>443</td>\n      <td>7,340</td>\n      <td>537</td>\n      <td>2,714</td>\n      <td>2,028</td>\n      <td>2,061</td>\n      <td>1,215</td>\n      <td>435</td>\n      <td>...</td>\n      <td>5,850</td>\n      <td>371</td>\n      <td>19,547</td>\n      <td>514</td>\n      <td>3,165</td>\n      <td>774</td>\n      <td>1,974</td>\n      <td>420</td>\n      <td>1,191</td>\n      <td>354</td>\n    </tr>\n    <tr>\n      <th>3</th>\n      <td>Margin of Error</td>\n      <td>1,393</td>\n      <td>196</td>\n      <td>1,122</td>\n      <td>210</td>\n      <td>974</td>\n      <td>498</td>\n      <td>400</td>\n      <td>434</td>\n      <td>302</td>\n      <td>...</td>\n      <td>782</td>\n      <td>195</td>\n      <td>1,146</td>\n      <td>361</td>\n      <td>702</td>\n      <td>390</td>\n      <td>606</td>\n      <td>311</td>\n      <td>349</td>\n      <td>220</td>\n    </tr>\n    <tr>\n      <th>4</th>\n      <td>Percent</td>\n      <td>NaN</td>\n      <td>NaN</td>\n      <td>NaN</td>\n      <td>NaN</td>\n      <td>NaN</td>\n      <td>NaN</td>\n      <td>NaN</td>\n      <td>NaN</td>\n      <td>NaN</td>\n      <td>...</td>\n      <td>NaN</td>\n      <td>NaN</td>\n      <td>NaN</td>\n      <td>NaN</td>\n      <td>NaN</td>\n      <td>NaN</td>\n      <td>NaN</td>\n      <td>NaN</td>\n      <td>NaN</td>\n      <td>NaN</td>\n    </tr>\n    <tr>\n      <th>...</th>\n      <td>...</td>\n      <td>...</td>\n      <td>...</td>\n      <td>...</td>\n      <td>...</td>\n      <td>...</td>\n      <td>...</td>\n      <td>...</td>\n      <td>...</td>\n      <td>...</td>\n      <td>...</td>\n      <td>...</td>\n      <td>...</td>\n      <td>...</td>\n      <td>...</td>\n      <td>...</td>\n      <td>...</td>\n      <td>...</td>\n      <td>...</td>\n      <td>...</td>\n      <td>...</td>\n    </tr>\n    <tr>\n      <th>1154</th>\n      <td>Estimate</td>\n      <td>(X)</td>\n      <td>10,008</td>\n      <td>19,881</td>\n      <td>1,753</td>\n      <td>6,646</td>\n      <td>6,653</td>\n      <td>4,829</td>\n      <td>11,989</td>\n      <td>4,332</td>\n      <td>...</td>\n      <td>(X)</td>\n      <td>4,031</td>\n      <td>(X)</td>\n      <td>4,110</td>\n      <td>(X)</td>\n      <td>8,197</td>\n      <td>(X)</td>\n      <td>3,491</td>\n      <td>(X)</td>\n      <td>4,706</td>\n    </tr>\n    <tr>\n      <th>1155</th>\n      <td>Margin of Error</td>\n      <td>(X)</td>\n      <td>810</td>\n      <td>1,422</td>\n      <td>289</td>\n      <td>822</td>\n      <td>700</td>\n      <td>719</td>\n      <td>1,105</td>\n      <td>600</td>\n      <td>...</td>\n      <td>(X)</td>\n      <td>586</td>\n      <td>(X)</td>\n      <td>698</td>\n      <td>(X)</td>\n      <td>847</td>\n      <td>(X)</td>\n      <td>524</td>\n      <td>(X)</td>\n      <td>573</td>\n    </tr>\n    <tr>\n      <th>1156</th>\n      <td>Percent in private school</td>\n      <td>NaN</td>\n      <td>NaN</td>\n      <td>NaN</td>\n      <td>NaN</td>\n      <td>NaN</td>\n      <td>NaN</td>\n      <td>NaN</td>\n      <td>NaN</td>\n      <td>NaN</td>\n      <td>...</td>\n      <td>NaN</td>\n      <td>NaN</td>\n      <td>NaN</td>\n      <td>NaN</td>\n      <td>NaN</td>\n      <td>NaN</td>\n      <td>NaN</td>\n      <td>NaN</td>\n      <td>NaN</td>\n      <td>NaN</td>\n    </tr>\n    <tr>\n      <th>1157</th>\n      <td>Estimate</td>\n      <td>14.8%</td>\n      <td>46.5%</td>\n      <td>10.5%</td>\n      <td>12.6%</td>\n      <td>11.2%</td>\n      <td>10.7%</td>\n      <td>8.9%</td>\n      <td>15.9%</td>\n      <td>17.7%</td>\n      <td>...</td>\n      <td>(X)</td>\n      <td>14.5%</td>\n      <td>(X)</td>\n      <td>24.8%</td>\n      <td>(X)</td>\n      <td>14.5%</td>\n      <td>(X)</td>\n      <td>12.9%</td>\n      <td>(X)</td>\n      <td>16.0%</td>\n    </tr>\n    <tr>\n      <th>1158</th>\n      <td>Margin of Error</td>\n      <td>0.8</td>\n      <td>3.6</td>\n      <td>0.7</td>\n      <td>2.1</td>\n      <td>1.3</td>\n      <td>1.2</td>\n      <td>1.3</td>\n      <td>1.4</td>\n      <td>2.2</td>\n      <td>...</td>\n      <td>(X)</td>\n      <td>1.9</td>\n      <td>(X)</td>\n      <td>3.4</td>\n      <td>(X)</td>\n      <td>1.4</td>\n      <td>(X)</td>\n      <td>1.8</td>\n      <td>(X)</td>\n      <td>1.8</td>\n    </tr>\n  </tbody>\n</table>\n<p>1159 rows × 35 columns</p>\n</div>"
     },
     "execution_count": 4,
     "metadata": {},
     "output_type": "execute_result"
    }
   ],
   "source": [
    "df"
   ],
   "metadata": {
    "collapsed": false,
    "pycharm": {
     "name": "#%%\n"
    }
   }
  },
  {
   "cell_type": "code",
   "execution_count": 5,
   "outputs": [],
   "source": [
    "# Totals\n",
    "df_total_est = df.copy()\n",
    "df_total_est_err = df.copy()\n",
    "\n",
    "for idx in range(0,len(df),19):\n",
    "    if idx == len(df) - 19:\n",
    "        df_total_est.iloc[idx][1:] = df_total_est.iloc[idx + 2][1:]\n",
    "        df_total_est_err.iloc[idx][1:] = df_total_est_err.iloc[idx + 3][1:]\n",
    "        break\n",
    "    else:\n",
    "        df_total_est.iloc[idx][1:] = df_total_est.iloc[idx + 2][1:]\n",
    "        df_total_est_err.iloc[idx][1:] = df_total_est_err.iloc[idx + 3][1:]\n",
    "\n",
    "df_total_est = df_total_est.loc[list(range(0,len(df),19))]\n",
    "df_total_est_err = df_total_est_err.loc[list(range(0,len(df),19))]\n",
    "\n",
    "df_total_est = df_total_est.reset_index()\n",
    "df_total_est_err = df_total_est_err.reset_index()\n",
    "\n",
    "df_total_est = df_total_est.drop(columns=['index'])\n",
    "df_total_est_err = df_total_est_err.drop(columns=['index'])\n",
    "\n",
    "# Percent of population\n",
    "df_total_percent = df.copy()\n",
    "df_total_percent_err = df.copy()\n",
    "\n",
    "for idx in range(0,len(df),19):\n",
    "    if idx == len(df) - 19:\n",
    "        df_total_percent.iloc[idx][1:] = df_total_percent.iloc[idx + 5][1:]\n",
    "        df_total_percent_err.iloc[idx][1:] = df_total_percent_err.iloc[idx + 6][1:]\n",
    "        break\n",
    "    else:\n",
    "        df_total_percent.iloc[idx][1:] = df_total_percent.iloc[idx + 5][1:]\n",
    "        df_total_percent_err.iloc[idx][1:] = df_total_percent_err.iloc[idx + 6][1:]\n",
    "\n",
    "df_total_percent = df_total_percent.loc[list(range(0,len(df),19))]\n",
    "df_total_percent_err = df_total_percent_err.loc[list(range(0,len(df),19))]\n",
    "\n",
    "df_total_percent = df_total_percent.reset_index()\n",
    "df_total_percent_err = df_total_percent_err.reset_index()\n",
    "\n",
    "df_total_percent = df_total_percent.drop(columns=['index'])\n",
    "df_total_percent_err = df_total_percent_err.drop(columns=['index'])"
   ],
   "metadata": {
    "collapsed": false,
    "pycharm": {
     "name": "#%%\n"
    }
   }
  },
  {
   "cell_type": "code",
   "execution_count": 6,
   "outputs": [],
   "source": [
    "# In Public School\n",
    "df_pbs_est = df.copy()\n",
    "df_pbs_est_err = df.copy()\n",
    "\n",
    "for idx in range(0,len(df),19):\n",
    "    if idx == len(df) - 19:\n",
    "        df_pbs_est.iloc[idx][1:] = df_pbs_est.iloc[idx + 8][1:]\n",
    "        df_pbs_est_err.iloc[idx][1:] = df_pbs_est_err.iloc[idx + 9][1:]\n",
    "        break\n",
    "    else:\n",
    "        df_pbs_est.iloc[idx][1:] = df_pbs_est.iloc[idx + 8][1:]\n",
    "        df_pbs_est_err.iloc[idx][1:] = df_pbs_est_err.iloc[idx + 9][1:]\n",
    "\n",
    "df_pbs_est = df_pbs_est.loc[list(range(0,len(df),19))]\n",
    "df_pbs_est_err = df_pbs_est_err.loc[list(range(0,len(df),19))]\n",
    "\n",
    "df_pbs_est = df_pbs_est.reset_index()\n",
    "df_pbs_est_err = df_pbs_est_err.reset_index()\n",
    "\n",
    "df_pbs_est = df_pbs_est.drop(columns=['index'])\n",
    "df_pbs_est_err = df_pbs_est_err.drop(columns=['index'])\n",
    "\n",
    "# Percent in Public School\n",
    "df_pbs_percent = df.copy()\n",
    "df_pbs_percent_err = df.copy()\n",
    "\n",
    "for idx in range(0,len(df),19):\n",
    "    if idx == len(df) - 19:\n",
    "        df_pbs_percent.iloc[idx][1:] = df_pbs_percent.iloc[idx + 11][1:]\n",
    "        df_pbs_percent_err.iloc[idx][1:] = df_pbs_percent_err.iloc[idx + 12][1:]\n",
    "        break\n",
    "    else:\n",
    "        df_pbs_percent.iloc[idx][1:] = df_pbs_percent.iloc[idx + 11][1:]\n",
    "        df_pbs_percent_err.iloc[idx][1:] = df_pbs_percent_err.iloc[idx + 12][1:]\n",
    "\n",
    "df_pbs_percent = df_pbs_percent.loc[list(range(0,len(df),19))]\n",
    "df_pbs_percent_err = df_pbs_percent_err.loc[list(range(0,len(df),19))]\n",
    "\n",
    "df_pbs_percent = df_pbs_percent.reset_index()\n",
    "df_pbs_percent_err = df_pbs_percent_err.reset_index()\n",
    "\n",
    "df_pbs_percent = df_pbs_percent.drop(columns=['index'])\n",
    "df_pbs_percent_err = df_pbs_percent_err.drop(columns=['index'])"
   ],
   "metadata": {
    "collapsed": false,
    "pycharm": {
     "name": "#%%\n"
    }
   }
  },
  {
   "cell_type": "code",
   "execution_count": 9,
   "outputs": [],
   "source": [
    "# In Private School\n",
    "df_pvs_est = df.copy()\n",
    "df_pvs_est_err = df.copy()\n",
    "\n",
    "for idx in range(0,len(df),19):\n",
    "    if idx == len(df) - 19:\n",
    "        df_pvs_est.iloc[idx][1:] = df_pvs_est.iloc[idx + 14][1:]\n",
    "        df_pvs_est_err.iloc[idx][1:] = df_pvs_est_err.iloc[idx + 15][1:]\n",
    "        break\n",
    "    else:\n",
    "        df_pvs_est.iloc[idx][1:] = df_pvs_est.iloc[idx + 14][1:]\n",
    "        df_pvs_est_err.iloc[idx][1:] = df_pvs_est_err.iloc[idx + 15][1:]\n",
    "\n",
    "df_pvs_est = df_pvs_est.loc[list(range(0,len(df),19))]\n",
    "df_pvs_est_err = df_pvs_est_err.loc[list(range(0,len(df),19))]\n",
    "\n",
    "df_pvs_est = df_pvs_est.reset_index()\n",
    "df_pvs_est_err = df_pvs_est_err.reset_index()\n",
    "\n",
    "df_pvs_est = df_pvs_est.drop(columns=['index'])\n",
    "df_pvs_est_err = df_pvs_est_err.drop(columns=['index'])\n",
    "\n",
    "# Percent in Private School\n",
    "df_pvs_percent = df.copy()\n",
    "df_pvs_percent_err = df.copy()\n",
    "\n",
    "for idx in range(0,len(df),19):\n",
    "    if idx == len(df) - 19:\n",
    "        df_pvs_percent.iloc[idx][1:] = df_pvs_percent.iloc[idx + 17][1:]\n",
    "        df_pvs_percent_err.iloc[idx][1:] = df_pvs_percent_err.iloc[idx + 18][1:]\n",
    "        break\n",
    "    else:\n",
    "        df_pvs_percent.iloc[idx][1:] = df_pvs_percent.iloc[idx + 17][1:]\n",
    "        df_pvs_percent_err.iloc[idx][1:] = df_pvs_percent_err.iloc[idx + 18][1:]\n",
    "\n",
    "df_pvs_percent = df_pvs_percent.loc[list(range(0,len(df),19))]\n",
    "df_pvs_percent_err = df_pvs_percent_err.loc[list(range(0,len(df),19))]\n",
    "\n",
    "df_pvs_percent = df_pvs_percent.reset_index()\n",
    "df_pvs_percent_err = df_pvs_percent_err.reset_index()\n",
    "\n",
    "df_pvs_percent = df_pvs_percent.drop(columns=['index'])\n",
    "df_pvs_percent_err = df_pvs_percent_err.drop(columns=['index'])"
   ],
   "metadata": {
    "collapsed": false,
    "pycharm": {
     "name": "#%%\n"
    }
   }
  },
  {
   "cell_type": "code",
   "execution_count": 16,
   "outputs": [],
   "source": [
    "df_total_est.to_csv('./clean/ACSST5Y2020.S1401-schoolenroll_clean/total_est.csv')\n",
    "df_total_est_err.to_csv('./clean/ACSST5Y2020.S1401-schoolenroll_clean/total_est_err.csv')\n",
    "df_total_percent.to_csv('./clean/ACSST5Y2020.S1401-schoolenroll_clean/total_percent.csv')\n",
    "df_total_percent_err.to_csv('./clean/ACSST5Y2020.S1401-schoolenroll_clean/total_percent_err.csv')"
   ],
   "metadata": {
    "collapsed": false,
    "pycharm": {
     "name": "#%%\n"
    }
   }
  },
  {
   "cell_type": "code",
   "execution_count": 17,
   "outputs": [],
   "source": [
    "df_pbs_est.to_csv('./clean/ACSST5Y2020.S1401-schoolenroll_clean/public_school_est.csv')\n",
    "df_pbs_est_err.to_csv('./clean/ACSST5Y2020.S1401-schoolenroll_clean/public_school_est_err.csv')\n",
    "df_pbs_percent.to_csv('./clean/ACSST5Y2020.S1401-schoolenroll_clean/public_school_percent.csv')\n",
    "df_pbs_percent_err.to_csv('./clean/ACSST5Y2020.S1401-schoolenroll_clean/public_school_percent_err.csv')"
   ],
   "metadata": {
    "collapsed": false,
    "pycharm": {
     "name": "#%%\n"
    }
   }
  },
  {
   "cell_type": "code",
   "execution_count": 18,
   "outputs": [],
   "source": [
    "df_pvs_est.to_csv('./clean/ACSST5Y2020.S1401-schoolenroll_clean/private_school_est.csv')\n",
    "df_pvs_est_err.to_csv('./clean/ACSST5Y2020.S1401-schoolenroll_clean/private_school_est_err.csv')\n",
    "df_pvs_percent.to_csv('./clean/ACSST5Y2020.S1401-schoolenroll_clean/private_school_percent.csv')\n",
    "df_pvs_percent_err.to_csv('./clean/ACSST5Y2020.S1401-schoolenroll_clean/private_school_percent_err.csv')"
   ],
   "metadata": {
    "collapsed": false,
    "pycharm": {
     "name": "#%%\n"
    }
   }
  },
  {
   "cell_type": "code",
   "execution_count": null,
   "outputs": [],
   "source": [],
   "metadata": {
    "collapsed": false,
    "pycharm": {
     "name": "#%%\n"
    }
   }
  },
  {
   "cell_type": "code",
   "execution_count": null,
   "outputs": [],
   "source": [],
   "metadata": {
    "collapsed": false,
    "pycharm": {
     "name": "#%%\n"
    }
   }
  }
 ],
 "metadata": {
  "kernelspec": {
   "display_name": "Python 3",
   "language": "python",
   "name": "python3"
  },
  "language_info": {
   "codemirror_mode": {
    "name": "ipython",
    "version": 3
   },
   "file_extension": ".py",
   "mimetype": "text/x-python",
   "name": "python",
   "nbconvert_exporter": "python",
   "pygments_lexer": "ipython3",
   "version": "3.7.6"
  }
 },
 "nbformat": 4,
 "nbformat_minor": 4
}