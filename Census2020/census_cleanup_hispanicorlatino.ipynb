{
 "cells": [
  {
   "cell_type": "code",
   "execution_count": 1,
   "metadata": {
    "pycharm": {
     "name": "#%%\n"
    }
   },
   "outputs": [],
   "source": [
    "import pandas as pd"
   ]
  },
  {
   "cell_type": "code",
   "execution_count": 2,
   "metadata": {
    "pycharm": {
     "name": "#%%\n"
    }
   },
   "outputs": [],
   "source": [
    "df = pd.read_csv(\"./raw/ACSDT5Y2020.B03003-hispanicorlatino.csv\")"
   ]
  },
  {
   "cell_type": "code",
   "execution_count": 3,
   "outputs": [],
   "source": [
    "df.columns = df.columns.str.replace(\"Total:!!\", \"\")\n",
    "df.columns = df.columns.str.replace(\":!!\", \" \")\n",
    "df.columns = df.columns.str.replace(\":\", \" \")\n",
    "df = df.rename(columns={\"Label (Grouping)\": \"Zip Code\"})\n",
    "df = df.replace(\"ZCTA5 \", \"\", regex=True)\n",
    "df = df.replace(\"±\", \"\", regex=True)"
   ],
   "metadata": {
    "collapsed": false,
    "pycharm": {
     "name": "#%%\n"
    }
   }
  },
  {
   "cell_type": "code",
   "execution_count": 4,
   "metadata": {
    "pycharm": {
     "name": "#%%\n"
    }
   },
   "outputs": [
    {
     "data": {
      "text/plain": "                 Zip Code     Total  Not Hispanic or Latino Hispanic or Latino\n0                   78610        NaN                    NaN                NaN\n1                Estimate     39,498                 23,880             15,618\n2         Margin of Error      1,996                  1,415              1,787\n3                   78612        NaN                    NaN                NaN\n4                Estimate     16,234                  7,202              9,032\n..                    ...        ...                    ...                ...\n178              Estimate     45,901                 39,350              6,551\n179       Margin of Error      2,097                  1,921              1,059\n180  Travis County, Texas        NaN                    NaN                NaN\n181              Estimate  1,250,884                830,648            420,236\n182       Margin of Error      *****                  *****              *****\n\n[183 rows x 4 columns]",
      "text/html": "<div>\n<style scoped>\n    .dataframe tbody tr th:only-of-type {\n        vertical-align: middle;\n    }\n\n    .dataframe tbody tr th {\n        vertical-align: top;\n    }\n\n    .dataframe thead th {\n        text-align: right;\n    }\n</style>\n<table border=\"1\" class=\"dataframe\">\n  <thead>\n    <tr style=\"text-align: right;\">\n      <th></th>\n      <th>Zip Code</th>\n      <th>Total</th>\n      <th>Not Hispanic or Latino</th>\n      <th>Hispanic or Latino</th>\n    </tr>\n  </thead>\n  <tbody>\n    <tr>\n      <th>0</th>\n      <td>78610</td>\n      <td>NaN</td>\n      <td>NaN</td>\n      <td>NaN</td>\n    </tr>\n    <tr>\n      <th>1</th>\n      <td>Estimate</td>\n      <td>39,498</td>\n      <td>23,880</td>\n      <td>15,618</td>\n    </tr>\n    <tr>\n      <th>2</th>\n      <td>Margin of Error</td>\n      <td>1,996</td>\n      <td>1,415</td>\n      <td>1,787</td>\n    </tr>\n    <tr>\n      <th>3</th>\n      <td>78612</td>\n      <td>NaN</td>\n      <td>NaN</td>\n      <td>NaN</td>\n    </tr>\n    <tr>\n      <th>4</th>\n      <td>Estimate</td>\n      <td>16,234</td>\n      <td>7,202</td>\n      <td>9,032</td>\n    </tr>\n    <tr>\n      <th>...</th>\n      <td>...</td>\n      <td>...</td>\n      <td>...</td>\n      <td>...</td>\n    </tr>\n    <tr>\n      <th>178</th>\n      <td>Estimate</td>\n      <td>45,901</td>\n      <td>39,350</td>\n      <td>6,551</td>\n    </tr>\n    <tr>\n      <th>179</th>\n      <td>Margin of Error</td>\n      <td>2,097</td>\n      <td>1,921</td>\n      <td>1,059</td>\n    </tr>\n    <tr>\n      <th>180</th>\n      <td>Travis County, Texas</td>\n      <td>NaN</td>\n      <td>NaN</td>\n      <td>NaN</td>\n    </tr>\n    <tr>\n      <th>181</th>\n      <td>Estimate</td>\n      <td>1,250,884</td>\n      <td>830,648</td>\n      <td>420,236</td>\n    </tr>\n    <tr>\n      <th>182</th>\n      <td>Margin of Error</td>\n      <td>*****</td>\n      <td>*****</td>\n      <td>*****</td>\n    </tr>\n  </tbody>\n</table>\n<p>183 rows × 4 columns</p>\n</div>"
     },
     "execution_count": 4,
     "metadata": {},
     "output_type": "execute_result"
    }
   ],
   "source": [
    "df"
   ]
  },
  {
   "cell_type": "code",
   "execution_count": 5,
   "outputs": [],
   "source": [
    "df_err = df.copy()"
   ],
   "metadata": {
    "collapsed": false,
    "pycharm": {
     "name": "#%%\n"
    }
   }
  },
  {
   "cell_type": "code",
   "execution_count": 6,
   "outputs": [],
   "source": [
    "for index, row in df.iterrows():\n",
    "    if index == len(df) - 3:\n",
    "        df.iloc[index][1:] = df.iloc[index + 1][1:]\n",
    "        df_err.iloc[index][1:] = df_err.iloc[index + 2][1:]\n",
    "        break\n",
    "    else:\n",
    "        df.iloc[index][1:] = df.iloc[index + 1][1:]\n",
    "        df_err.iloc[index][1:] = df_err.iloc[index + 2][1:]"
   ],
   "metadata": {
    "collapsed": false,
    "pycharm": {
     "name": "#%%\n"
    }
   }
  },
  {
   "cell_type": "code",
   "execution_count": 1,
   "outputs": [
    {
     "ename": "NameError",
     "evalue": "name 'df' is not defined",
     "output_type": "error",
     "traceback": [
      "\u001B[0;31m---------------------------------------------------------------------------\u001B[0m",
      "\u001B[0;31mNameError\u001B[0m                                 Traceback (most recent call last)",
      "Input \u001B[0;32mIn [1]\u001B[0m, in \u001B[0;36m<cell line: 1>\u001B[0;34m()\u001B[0m\n\u001B[0;32m----> 1\u001B[0m drop_idx \u001B[38;5;241m=\u001B[39m [i \u001B[38;5;28;01mfor\u001B[39;00m i \u001B[38;5;129;01min\u001B[39;00m \u001B[38;5;28mrange\u001B[39m(\u001B[38;5;241m1\u001B[39m, \u001B[38;5;28mlen\u001B[39m(\u001B[43mdf\u001B[49m), \u001B[38;5;241m3\u001B[39m)]\n\u001B[1;32m      2\u001B[0m drop_idx_err \u001B[38;5;241m=\u001B[39m [i \u001B[38;5;28;01mfor\u001B[39;00m i \u001B[38;5;129;01min\u001B[39;00m \u001B[38;5;28mrange\u001B[39m(\u001B[38;5;241m2\u001B[39m, \u001B[38;5;28mlen\u001B[39m(df), \u001B[38;5;241m3\u001B[39m)]\n\u001B[1;32m      3\u001B[0m df \u001B[38;5;241m=\u001B[39m df\u001B[38;5;241m.\u001B[39mdrop(drop_idx \u001B[38;5;241m+\u001B[39m drop_idx_err)\n",
      "\u001B[0;31mNameError\u001B[0m: name 'df' is not defined"
     ]
    }
   ],
   "source": [
    "drop_idx = [i for i in range(1, len(df), 3)]\n",
    "drop_idx_err = [i for i in range(2, len(df), 3)]\n",
    "df = df.drop(drop_idx + drop_idx_err)\n",
    "df_err = df_err.drop(drop_idx + drop_idx_err)"
   ],
   "metadata": {
    "collapsed": false,
    "pycharm": {
     "name": "#%%\n"
    }
   }
  },
  {
   "cell_type": "code",
   "execution_count": 10,
   "outputs": [
    {
     "data": {
      "text/plain": "                 Zip Code Total  Not Hispanic or Latino Hispanic or Latino\n0                   78610  1,996                  1,415              1,787\n3                   78612  2,025                  1,025              1,765\n6                   78613  1,563                  2,139              1,723\n9                   78615    490                    226                455\n12                  78617  2,213                  1,290              2,181\n..                    ...    ...                    ...                ...\n168                 78756  1,124                    832                472\n171                 78757  2,406                  1,429              1,862\n174                 78758  3,125                  1,762              2,301\n177                 78759  2,097                  1,921              1,059\n180  Travis County, Texas  *****                  *****              *****\n\n[61 rows x 4 columns]",
      "text/html": "<div>\n<style scoped>\n    .dataframe tbody tr th:only-of-type {\n        vertical-align: middle;\n    }\n\n    .dataframe tbody tr th {\n        vertical-align: top;\n    }\n\n    .dataframe thead th {\n        text-align: right;\n    }\n</style>\n<table border=\"1\" class=\"dataframe\">\n  <thead>\n    <tr style=\"text-align: right;\">\n      <th></th>\n      <th>Zip Code</th>\n      <th>Total</th>\n      <th>Not Hispanic or Latino</th>\n      <th>Hispanic or Latino</th>\n    </tr>\n  </thead>\n  <tbody>\n    <tr>\n      <th>0</th>\n      <td>78610</td>\n      <td>1,996</td>\n      <td>1,415</td>\n      <td>1,787</td>\n    </tr>\n    <tr>\n      <th>3</th>\n      <td>78612</td>\n      <td>2,025</td>\n      <td>1,025</td>\n      <td>1,765</td>\n    </tr>\n    <tr>\n      <th>6</th>\n      <td>78613</td>\n      <td>1,563</td>\n      <td>2,139</td>\n      <td>1,723</td>\n    </tr>\n    <tr>\n      <th>9</th>\n      <td>78615</td>\n      <td>490</td>\n      <td>226</td>\n      <td>455</td>\n    </tr>\n    <tr>\n      <th>12</th>\n      <td>78617</td>\n      <td>2,213</td>\n      <td>1,290</td>\n      <td>2,181</td>\n    </tr>\n    <tr>\n      <th>...</th>\n      <td>...</td>\n      <td>...</td>\n      <td>...</td>\n      <td>...</td>\n    </tr>\n    <tr>\n      <th>168</th>\n      <td>78756</td>\n      <td>1,124</td>\n      <td>832</td>\n      <td>472</td>\n    </tr>\n    <tr>\n      <th>171</th>\n      <td>78757</td>\n      <td>2,406</td>\n      <td>1,429</td>\n      <td>1,862</td>\n    </tr>\n    <tr>\n      <th>174</th>\n      <td>78758</td>\n      <td>3,125</td>\n      <td>1,762</td>\n      <td>2,301</td>\n    </tr>\n    <tr>\n      <th>177</th>\n      <td>78759</td>\n      <td>2,097</td>\n      <td>1,921</td>\n      <td>1,059</td>\n    </tr>\n    <tr>\n      <th>180</th>\n      <td>Travis County, Texas</td>\n      <td>*****</td>\n      <td>*****</td>\n      <td>*****</td>\n    </tr>\n  </tbody>\n</table>\n<p>61 rows × 4 columns</p>\n</div>"
     },
     "execution_count": 10,
     "metadata": {},
     "output_type": "execute_result"
    }
   ],
   "source": [
    "df_err"
   ],
   "metadata": {
    "collapsed": false,
    "pycharm": {
     "name": "#%%\n"
    }
   }
  },
  {
   "cell_type": "code",
   "execution_count": 12,
   "outputs": [],
   "source": [
    "df.to_csv('./clean/ACSDT5Y2020.B03003-hispanicorlatino_clean/ACSDT5Y2020.B03003-hispanicorlatino_clean.csv')\n",
    "df_err.to_csv('./clean/ACSDT5Y2020.B03003-hispanicorlatino_clean/ACSDT5Y2020.B03003-hispanicorlatino_err_clean.csv')"
   ],
   "metadata": {
    "collapsed": false,
    "pycharm": {
     "name": "#%%\n"
    }
   }
  },
  {
   "cell_type": "code",
   "execution_count": null,
   "outputs": [],
   "source": [],
   "metadata": {
    "collapsed": false,
    "pycharm": {
     "name": "#%%\n"
    }
   }
  }
 ],
 "metadata": {
  "kernelspec": {
   "display_name": "Python 3",
   "language": "python",
   "name": "python3"
  },
  "language_info": {
   "codemirror_mode": {
    "name": "ipython",
    "version": 3
   },
   "file_extension": ".py",
   "mimetype": "text/x-python",
   "name": "python",
   "nbconvert_exporter": "python",
   "pygments_lexer": "ipython3",
   "version": "3.7.6"
  }
 },
 "nbformat": 4,
 "nbformat_minor": 4
}