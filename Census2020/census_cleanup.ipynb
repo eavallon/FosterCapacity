{
 "cells": [
  {
   "cell_type": "code",
   "execution_count": 1,
   "metadata": {
    "pycharm": {
     "name": "#%%\n"
    }
   },
   "outputs": [],
   "source": [
    "import pandas as pd"
   ]
  },
  {
   "cell_type": "code",
   "execution_count": 25,
   "metadata": {
    "pycharm": {
     "name": "#%%\n"
    }
   },
   "outputs": [],
   "source": [
    "df = pd.read_csv(\"ACSDT5Y2020.B02001-race.csv\")"
   ]
  },
  {
   "cell_type": "code",
   "execution_count": 26,
   "metadata": {
    "pycharm": {
     "name": "#%%\n"
    }
   },
   "outputs": [],
   "source": [
    "df.columns = df.columns.str.replace(\"Total:!!\",\"\")\n",
    "df.columns = df.columns.str.replace(\":!!\",\" \")\n",
    "df.columns = df.columns.str.replace(\":\",\" \")\n",
    "df = df.rename(columns={\"Label (Grouping)\": \"Zip Code\"})\n",
    "df = df.replace(\"ZCTA5 \",\"\",regex=True)\n",
    "df = df.replace(\"±\", \"\", regex=True)"
   ]
  },
  {
   "cell_type": "code",
   "execution_count": 27,
   "outputs": [],
   "source": [
    "df_err = df.copy()"
   ],
   "metadata": {
    "collapsed": false,
    "pycharm": {
     "name": "#%%\n"
    }
   }
  },
  {
   "cell_type": "code",
   "execution_count": 28,
   "metadata": {
    "pycharm": {
     "name": "#%%\n"
    }
   },
   "outputs": [],
   "source": [
    "for index, row in df.iterrows():\n",
    "    if index == len(df) - 3:\n",
    "            df.iloc[index][1:] = df.iloc[index + 1][1:]\n",
    "            df_err.iloc[index][1:] = df_err.iloc[index + 2][1:]\n",
    "            break\n",
    "    else:\n",
    "            df.iloc[index][1:] = df.iloc[index + 1][1:]\n",
    "            df_err.iloc[index][1:] = df_err.iloc[index + 2][1:]"
   ]
  },
  {
   "cell_type": "code",
   "execution_count": 29,
   "outputs": [],
   "source": [
    "drop_idx = [i for i in range(1,len(df),3)]\n",
    "drop_idx_err = [i for i in range(2,len(df),3)]\n",
    "df = df.drop(drop_idx+drop_idx_err)\n",
    "df_err = df_err.drop(drop_idx+drop_idx_err)"
   ],
   "metadata": {
    "collapsed": false,
    "pycharm": {
     "name": "#%%\n"
    }
   }
  },
  {
   "cell_type": "code",
   "execution_count": 52,
   "outputs": [],
   "source": [
    "# df.to_csv(\"sexbyage2020_noerr_clean.csv\")"
   ],
   "metadata": {
    "collapsed": false,
    "pycharm": {
     "name": "#%%\n"
    }
   }
  },
  {
   "cell_type": "code",
   "execution_count": 2,
   "outputs": [
    {
     "data": {
      "text/plain": "['sexbyage2020_noerr_clean', 'csv']"
     },
     "execution_count": 2,
     "metadata": {},
     "output_type": "execute_result"
    }
   ],
   "source": [
    "\"sexbyage2020_noerr_clean.csv\""
   ],
   "metadata": {
    "collapsed": false,
    "pycharm": {
     "name": "#%%\n"
    }
   }
  },
  {
   "cell_type": "code",
   "execution_count": 31,
   "outputs": [
    {
     "data": {
      "text/plain": "                 Zip Code Total  White alone Black or African American alone  \\\n0                   78610  1,996       1,514                             594   \n3                   78612  2,025       1,146                             622   \n6                   78613  1,563       2,419                             752   \n9                   78615    490         340                              14   \n12                  78617  2,213       1,868                             316   \n..                    ...    ...         ...                             ...   \n168                 78756  1,124         694                             145   \n171                 78757  2,406       1,395                             588   \n174                 78758  3,125       2,255                             965   \n177                 78759  2,097       1,626                             407   \n180  Travis County, Texas  *****       6,261                           1,808   \n\n    American Indian and Alaska Native alone Asian alone  \\\n0                                       233         315   \n3                                        81         198   \n6                                       206       1,091   \n9                                       167          14   \n12                                       46         284   \n..                                      ...         ...   \n168                                      27         222   \n171                                      26         259   \n174                                     324       1,024   \n177                                      20         674   \n180                                   1,218       1,560   \n\n    Native Hawaiian and Other Pacific Islander alone Some other race alone  \\\n0                                                 30                   449   \n3                                                 22                 1,414   \n6                                                211                   848   \n9                                                 14                    42   \n12                                                26                 2,125   \n..                                               ...                   ...   \n168                                               20                    60   \n171                                               26                   957   \n174                                               48                 1,498   \n177                                               23                   429   \n180                                              343                 5,152   \n\n    Two or more races  Two or more races Two races including Some other race  \\\n0                1,345                                              1,183      \n3                1,215                                              1,207      \n6                1,106                                                819      \n9                  315                                                316      \n12                 921                                                891      \n..                 ...                                                ...      \n168                473                                                377      \n171              1,449                                              1,370      \n174              1,436                                              1,331      \n177                921                                                708      \n180              5,205                                              5,052      \n\n    Two or more races Two races excluding Some other race, and three or more races  \n0                                                  492                              \n3                                                  116                              \n6                                                  957                              \n9                                                    7                              \n12                                                 142                              \n..                                                 ...                              \n168                                                161                              \n171                                                244                              \n174                                                388                              \n177                                                608                              \n180                                              2,750                              \n\n[61 rows x 11 columns]",
      "text/html": "<div>\n<style scoped>\n    .dataframe tbody tr th:only-of-type {\n        vertical-align: middle;\n    }\n\n    .dataframe tbody tr th {\n        vertical-align: top;\n    }\n\n    .dataframe thead th {\n        text-align: right;\n    }\n</style>\n<table border=\"1\" class=\"dataframe\">\n  <thead>\n    <tr style=\"text-align: right;\">\n      <th></th>\n      <th>Zip Code</th>\n      <th>Total</th>\n      <th>White alone</th>\n      <th>Black or African American alone</th>\n      <th>American Indian and Alaska Native alone</th>\n      <th>Asian alone</th>\n      <th>Native Hawaiian and Other Pacific Islander alone</th>\n      <th>Some other race alone</th>\n      <th>Two or more races</th>\n      <th>Two or more races Two races including Some other race</th>\n      <th>Two or more races Two races excluding Some other race, and three or more races</th>\n    </tr>\n  </thead>\n  <tbody>\n    <tr>\n      <th>0</th>\n      <td>78610</td>\n      <td>1,996</td>\n      <td>1,514</td>\n      <td>594</td>\n      <td>233</td>\n      <td>315</td>\n      <td>30</td>\n      <td>449</td>\n      <td>1,345</td>\n      <td>1,183</td>\n      <td>492</td>\n    </tr>\n    <tr>\n      <th>3</th>\n      <td>78612</td>\n      <td>2,025</td>\n      <td>1,146</td>\n      <td>622</td>\n      <td>81</td>\n      <td>198</td>\n      <td>22</td>\n      <td>1,414</td>\n      <td>1,215</td>\n      <td>1,207</td>\n      <td>116</td>\n    </tr>\n    <tr>\n      <th>6</th>\n      <td>78613</td>\n      <td>1,563</td>\n      <td>2,419</td>\n      <td>752</td>\n      <td>206</td>\n      <td>1,091</td>\n      <td>211</td>\n      <td>848</td>\n      <td>1,106</td>\n      <td>819</td>\n      <td>957</td>\n    </tr>\n    <tr>\n      <th>9</th>\n      <td>78615</td>\n      <td>490</td>\n      <td>340</td>\n      <td>14</td>\n      <td>167</td>\n      <td>14</td>\n      <td>14</td>\n      <td>42</td>\n      <td>315</td>\n      <td>316</td>\n      <td>7</td>\n    </tr>\n    <tr>\n      <th>12</th>\n      <td>78617</td>\n      <td>2,213</td>\n      <td>1,868</td>\n      <td>316</td>\n      <td>46</td>\n      <td>284</td>\n      <td>26</td>\n      <td>2,125</td>\n      <td>921</td>\n      <td>891</td>\n      <td>142</td>\n    </tr>\n    <tr>\n      <th>...</th>\n      <td>...</td>\n      <td>...</td>\n      <td>...</td>\n      <td>...</td>\n      <td>...</td>\n      <td>...</td>\n      <td>...</td>\n      <td>...</td>\n      <td>...</td>\n      <td>...</td>\n      <td>...</td>\n    </tr>\n    <tr>\n      <th>168</th>\n      <td>78756</td>\n      <td>1,124</td>\n      <td>694</td>\n      <td>145</td>\n      <td>27</td>\n      <td>222</td>\n      <td>20</td>\n      <td>60</td>\n      <td>473</td>\n      <td>377</td>\n      <td>161</td>\n    </tr>\n    <tr>\n      <th>171</th>\n      <td>78757</td>\n      <td>2,406</td>\n      <td>1,395</td>\n      <td>588</td>\n      <td>26</td>\n      <td>259</td>\n      <td>26</td>\n      <td>957</td>\n      <td>1,449</td>\n      <td>1,370</td>\n      <td>244</td>\n    </tr>\n    <tr>\n      <th>174</th>\n      <td>78758</td>\n      <td>3,125</td>\n      <td>2,255</td>\n      <td>965</td>\n      <td>324</td>\n      <td>1,024</td>\n      <td>48</td>\n      <td>1,498</td>\n      <td>1,436</td>\n      <td>1,331</td>\n      <td>388</td>\n    </tr>\n    <tr>\n      <th>177</th>\n      <td>78759</td>\n      <td>2,097</td>\n      <td>1,626</td>\n      <td>407</td>\n      <td>20</td>\n      <td>674</td>\n      <td>23</td>\n      <td>429</td>\n      <td>921</td>\n      <td>708</td>\n      <td>608</td>\n    </tr>\n    <tr>\n      <th>180</th>\n      <td>Travis County, Texas</td>\n      <td>*****</td>\n      <td>6,261</td>\n      <td>1,808</td>\n      <td>1,218</td>\n      <td>1,560</td>\n      <td>343</td>\n      <td>5,152</td>\n      <td>5,205</td>\n      <td>5,052</td>\n      <td>2,750</td>\n    </tr>\n  </tbody>\n</table>\n<p>61 rows × 11 columns</p>\n</div>"
     },
     "execution_count": 31,
     "metadata": {},
     "output_type": "execute_result"
    }
   ],
   "source": [
    "df_err"
   ],
   "metadata": {
    "collapsed": false,
    "pycharm": {
     "name": "#%%\n"
    }
   }
  },
  {
   "cell_type": "code",
   "execution_count": 27,
   "outputs": [
    {
     "data": {
      "text/plain": "183"
     },
     "execution_count": 27,
     "metadata": {},
     "output_type": "execute_result"
    }
   ],
   "source": [
    "len(df)"
   ],
   "metadata": {
    "collapsed": false,
    "pycharm": {
     "name": "#%%\n"
    }
   }
  },
  {
   "cell_type": "code",
   "execution_count": null,
   "outputs": [],
   "source": [],
   "metadata": {
    "collapsed": false,
    "pycharm": {
     "name": "#%%\n"
    }
   }
  }
 ],
 "metadata": {
  "kernelspec": {
   "display_name": "Python 3",
   "language": "python",
   "name": "python3"
  },
  "language_info": {
   "codemirror_mode": {
    "name": "ipython",
    "version": 3
   },
   "file_extension": ".py",
   "mimetype": "text/x-python",
   "name": "python",
   "nbconvert_exporter": "python",
   "pygments_lexer": "ipython3",
   "version": "3.7.6"
  }
 },
 "nbformat": 4,
 "nbformat_minor": 4
}