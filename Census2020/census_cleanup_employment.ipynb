{
 "cells": [
  {
   "cell_type": "code",
   "execution_count": 1,
   "metadata": {
    "pycharm": {
     "name": "#%%\n"
    }
   },
   "outputs": [],
   "source": [
    "import pandas as pd"
   ]
  },
  {
   "cell_type": "code",
   "execution_count": 2,
   "metadata": {
    "pycharm": {
     "name": "#%%\n"
    }
   },
   "outputs": [],
   "source": [
    "df = pd.read_csv(\"./raw/ACSST5Y2020.S2301-employmentstatus.csv\")"
   ]
  },
  {
   "cell_type": "code",
   "execution_count": 7,
   "outputs": [
    {
     "data": {
      "text/plain": "                               Zip Code Population 16 years and over  \\\n0                                 78610                          NaN   \n1                                 Total                          NaN   \n2                              Estimate                       29,692   \n3                       Margin of Error                        1,596   \n4        Labor Force Participation Rate                          NaN   \n..                                  ...                          ...   \n788                            Estimate                        69.8%   \n789                     Margin of Error                          0.4   \n790                   Unemployment rate                          NaN   \n791                            Estimate                         4.3%   \n792                     Margin of Error                          0.3   \n\n     Population 16 years and over AGE  \\\n0                                 NaN   \n1                                 NaN   \n2                                 NaN   \n3                                 NaN   \n4                                 NaN   \n..                                ...   \n788                               NaN   \n789                               NaN   \n790                               NaN   \n791                               NaN   \n792                               NaN   \n\n    Population 16 years and over AGE 16 to 19 years  \\\n0                                               NaN   \n1                                               NaN   \n2                                             1,878   \n3                                               474   \n4                                               NaN   \n..                                              ...   \n788                                           30.1%   \n789                                             1.8   \n790                                             NaN   \n791                                           13.8%   \n792                                             1.9   \n\n    Population 16 years and over AGE 20 to 24 years  \\\n0                                               NaN   \n1                                               NaN   \n2                                             2,417   \n3                                               572   \n4                                               NaN   \n..                                              ...   \n788                                           67.6%   \n789                                             1.6   \n790                                             NaN   \n791                                            8.1%   \n792                                             1.3   \n\n    Population 16 years and over AGE 25 to 29 years  \\\n0                                               NaN   \n1                                               NaN   \n2                                             2,047   \n3                                               518   \n4                                               NaN   \n..                                              ...   \n788                                           85.6%   \n789                                             1.0   \n790                                             NaN   \n791                                            3.6%   \n792                                             0.7   \n\n    Population 16 years and over AGE 30 to 34 years  \\\n0                                               NaN   \n1                                               NaN   \n2                                             3,803   \n3                                               595   \n4                                               NaN   \n..                                              ...   \n788                                           84.1%   \n789                                             1.0   \n790                                             NaN   \n791                                            3.8%   \n792                                             0.6   \n\n    Population 16 years and over AGE 35 to 44 years  \\\n0                                               NaN   \n1                                               NaN   \n2                                             6,614   \n3                                               842   \n4                                               NaN   \n..                                              ...   \n788                                           83.7%   \n789                                             0.8   \n790                                             NaN   \n791                                            3.3%   \n792                                             0.4   \n\n    Population 16 years and over AGE 45 to 54 years  \\\n0                                               NaN   \n1                                               NaN   \n2                                             5,051   \n3                                               597   \n4                                               NaN   \n..                                              ...   \n788                                           81.7%   \n789                                             0.9   \n790                                             NaN   \n791                                            3.9%   \n792                                             0.6   \n\n    Population 16 years and over AGE 55 to 59 years  ...  \\\n0                                               NaN  ...   \n1                                               NaN  ...   \n2                                             2,382  ...   \n3                                               399  ...   \n4                                               NaN  ...   \n..                                              ...  ...   \n788                                           73.9%  ...   \n789                                             1.6  ...   \n790                                             NaN  ...   \n791                                            3.4%  ...   \n792                                             0.7  ...   \n\n    Population 20 to 64 years POVERTY STATUS IN THE PAST 12 MONTHS Below poverty level  \\\n0                                                  NaN                                   \n1                                                  NaN                                   \n2                                                1,507                                   \n3                                                  494                                   \n4                                                  NaN                                   \n..                                                 ...                                   \n788                                              44.3%                                   \n789                                                1.7                                   \n790                                                NaN                                   \n791                                              17.1%                                   \n792                                                2.1                                   \n\n    Population 20 to 64 years POVERTY STATUS IN THE PAST 12 MONTHS At or above the poverty level  \\\n0                                                  NaN                                             \n1                                                  NaN                                             \n2                                               22,887                                             \n3                                                1,227                                             \n4                                                  NaN                                             \n..                                                 ...                                             \n788                                              84.6%                                             \n789                                                0.4                                             \n790                                                NaN                                             \n791                                               3.1%                                             \n792                                                0.3                                             \n\n    Population 20 to 64 years DISABILITY STATUS  \\\n0                                           NaN   \n1                                           NaN   \n2                                           NaN   \n3                                           NaN   \n4                                           NaN   \n..                                          ...   \n788                                         NaN   \n789                                         NaN   \n790                                         NaN   \n791                                         NaN   \n792                                         NaN   \n\n     Population 20 to 64 years DISABILITY STATUS With any disability  \\\n0                                                  NaN                 \n1                                                  NaN                 \n2                                                1,937                 \n3                                                  503                 \n4                                                  NaN                 \n..                                                 ...                 \n788                                              55.1%                 \n789                                                1.9                 \n790                                                NaN                 \n791                                               8.2%                 \n792                                                1.6                 \n\n    EDUCATIONAL ATTAINMENT EDUCATIONAL ATTAINMENT Population 25 to 64 years  \\\n0                      NaN                                              NaN   \n1                      NaN                                              NaN   \n2                      NaN                                           21,977   \n3                      NaN                                            1,176   \n4                      NaN                                              NaN   \n..                     ...                                              ...   \n788                    NaN                                            81.0%   \n789                    NaN                                              0.5   \n790                    NaN                                              NaN   \n791                    NaN                                             3.7%   \n792                    NaN                                              0.3   \n\n    EDUCATIONAL ATTAINMENT Population 25 to 64 years Less than high school graduate  \\\n0                                                  NaN                                \n1                                                  NaN                                \n2                                                1,824                                \n3                                                  463                                \n4                                                  NaN                                \n..                                                 ...                                \n788                                              67.1%                                \n789                                                2.0                                \n790                                                NaN                                \n791                                               5.3%                                \n792                                                1.1                                \n\n    EDUCATIONAL ATTAINMENT Population 25 to 64 years High school graduate (includes equivalency)  \\\n0                                                  NaN                                             \n1                                                  NaN                                             \n2                                                5,506                                             \n3                                                  800                                             \n4                                                  NaN                                             \n..                                                 ...                                             \n788                                              73.3%                                             \n789                                                1.6                                             \n790                                                NaN                                             \n791                                               5.5%                                             \n792                                                1.1                                             \n\n    EDUCATIONAL ATTAINMENT Population 25 to 64 years Some college or associate's degree  \\\n0                                                  NaN                                    \n1                                                  NaN                                    \n2                                                5,720                                    \n3                                                  801                                    \n4                                                  NaN                                    \n..                                                 ...                                    \n788                                              80.9%                                    \n789                                                1.0                                    \n790                                                NaN                                    \n791                                               4.2%                                    \n792                                                0.6                                    \n\n    EDUCATIONAL ATTAINMENT Population 25 to 64 years Bachelor's degree or higher  \n0                                                  NaN                            \n1                                                  NaN                            \n2                                                8,927                            \n3                                                1,070                            \n4                                                  NaN                            \n..                                                 ...                            \n788                                              85.8%                            \n789                                                0.6                            \n790                                                NaN                            \n791                                               2.7%                            \n792                                                0.3                            \n\n[793 rows x 42 columns]",
      "text/html": "<div>\n<style scoped>\n    .dataframe tbody tr th:only-of-type {\n        vertical-align: middle;\n    }\n\n    .dataframe tbody tr th {\n        vertical-align: top;\n    }\n\n    .dataframe thead th {\n        text-align: right;\n    }\n</style>\n<table border=\"1\" class=\"dataframe\">\n  <thead>\n    <tr style=\"text-align: right;\">\n      <th></th>\n      <th>Zip Code</th>\n      <th>Population 16 years and over</th>\n      <th>Population 16 years and over AGE</th>\n      <th>Population 16 years and over AGE 16 to 19 years</th>\n      <th>Population 16 years and over AGE 20 to 24 years</th>\n      <th>Population 16 years and over AGE 25 to 29 years</th>\n      <th>Population 16 years and over AGE 30 to 34 years</th>\n      <th>Population 16 years and over AGE 35 to 44 years</th>\n      <th>Population 16 years and over AGE 45 to 54 years</th>\n      <th>Population 16 years and over AGE 55 to 59 years</th>\n      <th>...</th>\n      <th>Population 20 to 64 years POVERTY STATUS IN THE PAST 12 MONTHS Below poverty level</th>\n      <th>Population 20 to 64 years POVERTY STATUS IN THE PAST 12 MONTHS At or above the poverty level</th>\n      <th>Population 20 to 64 years DISABILITY STATUS</th>\n      <th>Population 20 to 64 years DISABILITY STATUS With any disability</th>\n      <th>EDUCATIONAL ATTAINMENT</th>\n      <th>EDUCATIONAL ATTAINMENT Population 25 to 64 years</th>\n      <th>EDUCATIONAL ATTAINMENT Population 25 to 64 years Less than high school graduate</th>\n      <th>EDUCATIONAL ATTAINMENT Population 25 to 64 years High school graduate (includes equivalency)</th>\n      <th>EDUCATIONAL ATTAINMENT Population 25 to 64 years Some college or associate's degree</th>\n      <th>EDUCATIONAL ATTAINMENT Population 25 to 64 years Bachelor's degree or higher</th>\n    </tr>\n  </thead>\n  <tbody>\n    <tr>\n      <th>0</th>\n      <td>78610</td>\n      <td>NaN</td>\n      <td>NaN</td>\n      <td>NaN</td>\n      <td>NaN</td>\n      <td>NaN</td>\n      <td>NaN</td>\n      <td>NaN</td>\n      <td>NaN</td>\n      <td>NaN</td>\n      <td>...</td>\n      <td>NaN</td>\n      <td>NaN</td>\n      <td>NaN</td>\n      <td>NaN</td>\n      <td>NaN</td>\n      <td>NaN</td>\n      <td>NaN</td>\n      <td>NaN</td>\n      <td>NaN</td>\n      <td>NaN</td>\n    </tr>\n    <tr>\n      <th>1</th>\n      <td>Total</td>\n      <td>NaN</td>\n      <td>NaN</td>\n      <td>NaN</td>\n      <td>NaN</td>\n      <td>NaN</td>\n      <td>NaN</td>\n      <td>NaN</td>\n      <td>NaN</td>\n      <td>NaN</td>\n      <td>...</td>\n      <td>NaN</td>\n      <td>NaN</td>\n      <td>NaN</td>\n      <td>NaN</td>\n      <td>NaN</td>\n      <td>NaN</td>\n      <td>NaN</td>\n      <td>NaN</td>\n      <td>NaN</td>\n      <td>NaN</td>\n    </tr>\n    <tr>\n      <th>2</th>\n      <td>Estimate</td>\n      <td>29,692</td>\n      <td>NaN</td>\n      <td>1,878</td>\n      <td>2,417</td>\n      <td>2,047</td>\n      <td>3,803</td>\n      <td>6,614</td>\n      <td>5,051</td>\n      <td>2,382</td>\n      <td>...</td>\n      <td>1,507</td>\n      <td>22,887</td>\n      <td>NaN</td>\n      <td>1,937</td>\n      <td>NaN</td>\n      <td>21,977</td>\n      <td>1,824</td>\n      <td>5,506</td>\n      <td>5,720</td>\n      <td>8,927</td>\n    </tr>\n    <tr>\n      <th>3</th>\n      <td>Margin of Error</td>\n      <td>1,596</td>\n      <td>NaN</td>\n      <td>474</td>\n      <td>572</td>\n      <td>518</td>\n      <td>595</td>\n      <td>842</td>\n      <td>597</td>\n      <td>399</td>\n      <td>...</td>\n      <td>494</td>\n      <td>1,227</td>\n      <td>NaN</td>\n      <td>503</td>\n      <td>NaN</td>\n      <td>1,176</td>\n      <td>463</td>\n      <td>800</td>\n      <td>801</td>\n      <td>1,070</td>\n    </tr>\n    <tr>\n      <th>4</th>\n      <td>Labor Force Participation Rate</td>\n      <td>NaN</td>\n      <td>NaN</td>\n      <td>NaN</td>\n      <td>NaN</td>\n      <td>NaN</td>\n      <td>NaN</td>\n      <td>NaN</td>\n      <td>NaN</td>\n      <td>NaN</td>\n      <td>...</td>\n      <td>NaN</td>\n      <td>NaN</td>\n      <td>NaN</td>\n      <td>NaN</td>\n      <td>NaN</td>\n      <td>NaN</td>\n      <td>NaN</td>\n      <td>NaN</td>\n      <td>NaN</td>\n      <td>NaN</td>\n    </tr>\n    <tr>\n      <th>...</th>\n      <td>...</td>\n      <td>...</td>\n      <td>...</td>\n      <td>...</td>\n      <td>...</td>\n      <td>...</td>\n      <td>...</td>\n      <td>...</td>\n      <td>...</td>\n      <td>...</td>\n      <td>...</td>\n      <td>...</td>\n      <td>...</td>\n      <td>...</td>\n      <td>...</td>\n      <td>...</td>\n      <td>...</td>\n      <td>...</td>\n      <td>...</td>\n      <td>...</td>\n      <td>...</td>\n    </tr>\n    <tr>\n      <th>788</th>\n      <td>Estimate</td>\n      <td>69.8%</td>\n      <td>NaN</td>\n      <td>30.1%</td>\n      <td>67.6%</td>\n      <td>85.6%</td>\n      <td>84.1%</td>\n      <td>83.7%</td>\n      <td>81.7%</td>\n      <td>73.9%</td>\n      <td>...</td>\n      <td>44.3%</td>\n      <td>84.6%</td>\n      <td>NaN</td>\n      <td>55.1%</td>\n      <td>NaN</td>\n      <td>81.0%</td>\n      <td>67.1%</td>\n      <td>73.3%</td>\n      <td>80.9%</td>\n      <td>85.8%</td>\n    </tr>\n    <tr>\n      <th>789</th>\n      <td>Margin of Error</td>\n      <td>0.4</td>\n      <td>NaN</td>\n      <td>1.8</td>\n      <td>1.6</td>\n      <td>1.0</td>\n      <td>1.0</td>\n      <td>0.8</td>\n      <td>0.9</td>\n      <td>1.6</td>\n      <td>...</td>\n      <td>1.7</td>\n      <td>0.4</td>\n      <td>NaN</td>\n      <td>1.9</td>\n      <td>NaN</td>\n      <td>0.5</td>\n      <td>2.0</td>\n      <td>1.6</td>\n      <td>1.0</td>\n      <td>0.6</td>\n    </tr>\n    <tr>\n      <th>790</th>\n      <td>Unemployment rate</td>\n      <td>NaN</td>\n      <td>NaN</td>\n      <td>NaN</td>\n      <td>NaN</td>\n      <td>NaN</td>\n      <td>NaN</td>\n      <td>NaN</td>\n      <td>NaN</td>\n      <td>NaN</td>\n      <td>...</td>\n      <td>NaN</td>\n      <td>NaN</td>\n      <td>NaN</td>\n      <td>NaN</td>\n      <td>NaN</td>\n      <td>NaN</td>\n      <td>NaN</td>\n      <td>NaN</td>\n      <td>NaN</td>\n      <td>NaN</td>\n    </tr>\n    <tr>\n      <th>791</th>\n      <td>Estimate</td>\n      <td>4.3%</td>\n      <td>NaN</td>\n      <td>13.8%</td>\n      <td>8.1%</td>\n      <td>3.6%</td>\n      <td>3.8%</td>\n      <td>3.3%</td>\n      <td>3.9%</td>\n      <td>3.4%</td>\n      <td>...</td>\n      <td>17.1%</td>\n      <td>3.1%</td>\n      <td>NaN</td>\n      <td>8.2%</td>\n      <td>NaN</td>\n      <td>3.7%</td>\n      <td>5.3%</td>\n      <td>5.5%</td>\n      <td>4.2%</td>\n      <td>2.7%</td>\n    </tr>\n    <tr>\n      <th>792</th>\n      <td>Margin of Error</td>\n      <td>0.3</td>\n      <td>NaN</td>\n      <td>1.9</td>\n      <td>1.3</td>\n      <td>0.7</td>\n      <td>0.6</td>\n      <td>0.4</td>\n      <td>0.6</td>\n      <td>0.7</td>\n      <td>...</td>\n      <td>2.1</td>\n      <td>0.3</td>\n      <td>NaN</td>\n      <td>1.6</td>\n      <td>NaN</td>\n      <td>0.3</td>\n      <td>1.1</td>\n      <td>1.1</td>\n      <td>0.6</td>\n      <td>0.3</td>\n    </tr>\n  </tbody>\n</table>\n<p>793 rows × 42 columns</p>\n</div>"
     },
     "execution_count": 7,
     "metadata": {},
     "output_type": "execute_result"
    }
   ],
   "source": [
    "df"
   ],
   "metadata": {
    "collapsed": false,
    "pycharm": {
     "name": "#%%\n"
    }
   }
  },
  {
   "cell_type": "code",
   "execution_count": 4,
   "outputs": [],
   "source": [
    "df.columns = df.columns.str.replace(\"!!\", \" \")\n",
    "df = df.replace(\"ZCTA5 \",\"\",regex=True)\n",
    "df = df.replace(\"±\", \"\", regex=True)\n",
    "df = df.rename(columns={\"Label (Grouping)\": \"Zip Code\"})"
   ],
   "metadata": {
    "collapsed": false,
    "pycharm": {
     "name": "#%%\n"
    }
   }
  },
  {
   "cell_type": "code",
   "execution_count": 8,
   "outputs": [],
   "source": [
    "# Totals\n",
    "df_total_est = df.copy()\n",
    "df_total_est_err = df.copy()\n",
    "\n",
    "for idx in range(0,len(df),13):\n",
    "    if idx == len(df) - 13:\n",
    "        df_total_est.loc[idx,'Population 16 years and over':] = df_total_est.loc[idx + 2,'Population 16 years and over':]\n",
    "        df_total_est_err.loc[idx,'Population 16 years and over':] = df_total_est_err.loc[idx + 3,'Population 16 years and over':]\n",
    "        break\n",
    "    else:\n",
    "        df_total_est.loc[idx,'Population 16 years and over':] = df_total_est.loc[idx + 2,'Population 16 years and over':]\n",
    "        df_total_est_err.loc[idx,'Population 16 years and over':] = df_total_est_err.loc[idx + 3,'Population 16 years and over':]\n",
    "\n",
    "df_total_est = df_total_est.loc[list(range(0,len(df),13))]\n",
    "df_total_est_err = df_total_est_err.loc[list(range(0,len(df),13))]\n",
    "\n",
    "df_total_est = df_total_est.reset_index()\n",
    "df_total_est_err = df_total_est_err.reset_index()\n",
    "\n",
    "df_total_est = df_total_est.drop(columns=['index'])\n",
    "df_total_est_err = df_total_est_err.drop(columns=['index'])"
   ],
   "metadata": {
    "collapsed": false,
    "pycharm": {
     "name": "#%%\n"
    }
   }
  },
  {
   "cell_type": "code",
   "execution_count": 15,
   "outputs": [],
   "source": [
    "# Labor force participation rate\n",
    "df_lfp_rate_est = df.copy()\n",
    "df_lfp_rate_est_err = df.copy()\n",
    "\n",
    "for idx in range(0,len(df),13):\n",
    "    if idx == len(df) - 13:\n",
    "        df_lfp_rate_est.loc[idx,'Population 16 years and over':] = df_lfp_rate_est.loc[idx + 5,'Population 16 years and over':]\n",
    "        df_lfp_rate_est_err.loc[idx,'Population 16 years and over':] = df_lfp_rate_est_err.loc[idx + 6,'Population 16 years and over':]\n",
    "        break\n",
    "    else:\n",
    "        df_lfp_rate_est.loc[idx,'Population 16 years and over':] = df_lfp_rate_est.loc[idx + 5,'Population 16 years and over':]\n",
    "        df_lfp_rate_est_err.loc[idx,'Population 16 years and over':] = df_lfp_rate_est_err.loc[idx + 6,'Population 16 years and over':]\n",
    "\n",
    "df_lfp_rate_est = df_lfp_rate_est.loc[list(range(0,len(df),13))]\n",
    "df_lfp_rate_est_err = df_lfp_rate_est_err.loc[list(range(0,len(df),13))]\n",
    "\n",
    "df_lfp_rate_est = df_lfp_rate_est.reset_index()\n",
    "df_lfp_rate_est_err = df_lfp_rate_est_err.reset_index()\n",
    "\n",
    "df_lfp_rate_est = df_lfp_rate_est.drop(columns=['index'])\n",
    "df_lfp_rate_est_err = df_lfp_rate_est_err.drop(columns=['index'])"
   ],
   "metadata": {
    "collapsed": false,
    "pycharm": {
     "name": "#%%\n"
    }
   }
  },
  {
   "cell_type": "code",
   "execution_count": 16,
   "outputs": [],
   "source": [
    "# Employment/Population ratio\n",
    "df_employ_ratio_est = df.copy()\n",
    "df_employ_ratio_est_err = df.copy()\n",
    "\n",
    "for idx in range(0,len(df),13):\n",
    "    if idx == len(df) - 13:\n",
    "        df_employ_ratio_est.loc[idx,'Population 16 years and over':] = df_employ_ratio_est.loc[idx + 8,'Population 16 years and over':]\n",
    "        df_employ_ratio_est_err.loc[idx,'Population 16 years and over':] = df_employ_ratio_est_err.loc[idx + 9,'Population 16 years and over':]\n",
    "        break\n",
    "    else:\n",
    "        df_employ_ratio_est.loc[idx,'Population 16 years and over':] = df_employ_ratio_est.loc[idx + 8,'Population 16 years and over':]\n",
    "        df_employ_ratio_est_err.loc[idx,'Population 16 years and over':] = df_employ_ratio_est_err.loc[idx + 9,'Population 16 years and over':]\n",
    "\n",
    "df_employ_ratio_est = df_employ_ratio_est.loc[list(range(0,len(df),13))]\n",
    "df_employ_ratio_est_err = df_employ_ratio_est_err.loc[list(range(0,len(df),13))]\n",
    "\n",
    "df_employ_ratio_est = df_employ_ratio_est.reset_index()\n",
    "df_employ_ratio_est_err = df_employ_ratio_est_err.reset_index()\n",
    "\n",
    "df_employ_ratio_est = df_employ_ratio_est.drop(columns=['index'])\n",
    "df_employ_ratio_est_err = df_employ_ratio_est_err.drop(columns=['index'])"
   ],
   "metadata": {
    "collapsed": false,
    "pycharm": {
     "name": "#%%\n"
    }
   }
  },
  {
   "cell_type": "code",
   "execution_count": 17,
   "outputs": [],
   "source": [
    "# Unemployment rate\n",
    "df_unemploy_est = df.copy()\n",
    "df_unemploy_est_err = df.copy()\n",
    "\n",
    "for idx in range(0,len(df),13):\n",
    "    if idx == len(df) - 13:\n",
    "        df_unemploy_est.loc[idx,'Population 16 years and over':] = df_unemploy_est.loc[idx + 11,'Population 16 years and over':]\n",
    "        df_unemploy_est_err.loc[idx,'Population 16 years and over':] = df_unemploy_est_err.loc[idx + 12,'Population 16 years and over':]\n",
    "        break\n",
    "    else:\n",
    "        df_unemploy_est.loc[idx,'Population 16 years and over':] = df_unemploy_est.loc[idx + 11,'Population 16 years and over':]\n",
    "        df_unemploy_est_err.loc[idx,'Population 16 years and over':] = df_unemploy_est_err.loc[idx + 12,'Population 16 years and over':]\n",
    "\n",
    "df_unemploy_est = df_unemploy_est.loc[list(range(0,len(df),13))]\n",
    "df_unemploy_est_err = df_unemploy_est_err.loc[list(range(0,len(df),13))]\n",
    "\n",
    "df_unemploy_est = df_unemploy_est.reset_index()\n",
    "df_unemploy_est_err = df_unemploy_est_err.reset_index()\n",
    "\n",
    "df_unemploy_est = df_unemploy_est.drop(columns=['index'])\n",
    "df_unemploy_est_err = df_unemploy_est_err.drop(columns=['index'])"
   ],
   "metadata": {
    "collapsed": false,
    "pycharm": {
     "name": "#%%\n"
    }
   }
  },
  {
   "cell_type": "code",
   "execution_count": 19,
   "outputs": [],
   "source": [
    "df_total_est.to_csv('./clean/ACSST5Y2020.S2301-employmentstatus_clean/total_est.csv')\n",
    "df_total_est_err.to_csv('./clean/ACSST5Y2020.S2301-employmentstatus_clean/total_est_err.csv')\n",
    "\n",
    "df_lfp_rate_est.to_csv('./clean/ACSST5Y2020.S2301-employmentstatus_clean/labor_participation_est.csv')\n",
    "df_lfp_rate_est_err.to_csv('./clean/ACSST5Y2020.S2301-employmentstatus_clean/labor_participation_est_err.csv')\n",
    "\n",
    "df_employ_ratio_est.to_csv('./clean/ACSST5Y2020.S2301-employmentstatus_clean/employratio_est.csv')\n",
    "df_employ_ratio_est_err.to_csv('./clean/ACSST5Y2020.S2301-employmentstatus_clean/employratio_est_err.csv')\n",
    "\n",
    "df_unemploy_est.to_csv('./clean/ACSST5Y2020.S2301-employmentstatus_clean/unemploy_est.csv')\n",
    "df_unemploy_est_err.to_csv('./clean/ACSST5Y2020.S2301-employmentstatus_clean/unemploy_err.csv')"
   ],
   "metadata": {
    "collapsed": false,
    "pycharm": {
     "name": "#%%\n"
    }
   }
  },
  {
   "cell_type": "code",
   "execution_count": 12,
   "outputs": [],
   "source": [],
   "metadata": {
    "collapsed": false,
    "pycharm": {
     "name": "#%%\n"
    }
   }
  },
  {
   "cell_type": "code",
   "execution_count": 18,
   "outputs": [
    {
     "data": {
      "text/plain": "                Zip Code Population 16 years and over  \\\n0                  78610                        73.3%   \n1                  78612                        56.6%   \n2                  78613                        71.4%   \n3                  78615                        67.6%   \n4                  78617                        67.1%   \n..                   ...                          ...   \n56                 78756                        76.4%   \n57                 78757                        73.7%   \n58                 78758                        77.3%   \n59                 78759                        73.9%   \n60  Travis County, Texas                        73.0%   \n\n    Population 16 years and over AGE  \\\n0                                NaN   \n1                                NaN   \n2                                NaN   \n3                                NaN   \n4                                NaN   \n..                               ...   \n56                               NaN   \n57                               NaN   \n58                               NaN   \n59                               NaN   \n60                               NaN   \n\n   Population 16 years and over AGE 16 to 19 years  \\\n0                                            36.4%   \n1                                            21.3%   \n2                                            33.7%   \n3                                            90.4%   \n4                                            31.0%   \n..                                             ...   \n56                                           20.2%   \n57                                           24.1%   \n58                                           35.8%   \n59                                           28.0%   \n60                                           34.9%   \n\n   Population 16 years and over AGE 20 to 24 years  \\\n0                                            84.1%   \n1                                            74.2%   \n2                                            74.0%   \n3                                            83.6%   \n4                                            73.0%   \n..                                             ...   \n56                                           71.8%   \n57                                           87.9%   \n58                                           88.0%   \n59                                           94.2%   \n60                                           73.5%   \n\n   Population 16 years and over AGE 25 to 29 years  \\\n0                                            92.3%   \n1                                            56.3%   \n2                                            89.4%   \n3                                            71.1%   \n4                                            75.0%   \n..                                             ...   \n56                                           96.9%   \n57                                           88.6%   \n58                                           85.6%   \n59                                           92.4%   \n60                                           88.9%   \n\n   Population 16 years and over AGE 30 to 34 years  \\\n0                                            87.1%   \n1                                            69.5%   \n2                                            88.8%   \n3                                           100.0%   \n4                                            64.3%   \n..                                             ...   \n56                                           94.3%   \n57                                           92.8%   \n58                                           86.9%   \n59                                           91.0%   \n60                                           87.6%   \n\n   Population 16 years and over AGE 35 to 44 years  \\\n0                                            87.8%   \n1                                            72.7%   \n2                                            83.2%   \n3                                            98.2%   \n4                                            74.8%   \n..                                             ...   \n56                                           91.2%   \n57                                           87.9%   \n58                                           85.4%   \n59                                           89.8%   \n60                                           86.7%   \n\n   Population 16 years and over AGE 45 to 54 years  \\\n0                                            87.5%   \n1                                            75.8%   \n2                                            86.8%   \n3                                            75.0%   \n4                                            74.4%   \n..                                             ...   \n56                                           81.3%   \n57                                           90.5%   \n58                                           87.4%   \n59                                           86.2%   \n60                                           85.1%   \n\n   Population 16 years and over AGE 55 to 59 years  ...  \\\n0                                            66.7%  ...   \n1                                            79.9%  ...   \n2                                            79.2%  ...   \n3                                            64.7%  ...   \n4                                            75.4%  ...   \n..                                             ...  ...   \n56                                           85.2%  ...   \n57                                           69.0%  ...   \n58                                           86.1%  ...   \n59                                           80.8%  ...   \n60                                           76.5%  ...   \n\n   Population 20 to 64 years POVERTY STATUS IN THE PAST 12 MONTHS Below poverty level  \\\n0                                               55.5%                                   \n1                                               49.8%                                   \n2                                               63.2%                                   \n3                                                8.0%                                   \n4                                               55.3%                                   \n..                                                ...                                   \n56                                              78.7%                                   \n57                                              48.0%                                   \n58                                              59.5%                                   \n59                                              72.3%                                   \n60                                              53.5%                                   \n\n   Population 20 to 64 years POVERTY STATUS IN THE PAST 12 MONTHS At or above the poverty level  \\\n0                                               84.9%                                             \n1                                               72.0%                                             \n2                                               84.1%                                             \n3                                               82.7%                                             \n4                                               87.7%                                             \n..                                                ...                                             \n56                                              90.9%                                             \n57                                              89.9%                                             \n58                                              89.7%                                             \n59                                              88.7%                                             \n60                                              87.4%                                             \n\n   Population 20 to 64 years DISABILITY STATUS  \\\n0                                          NaN   \n1                                          NaN   \n2                                          NaN   \n3                                          NaN   \n4                                          NaN   \n..                                         ...   \n56                                         NaN   \n57                                         NaN   \n58                                         NaN   \n59                                         NaN   \n60                                         NaN   \n\n    Population 20 to 64 years DISABILITY STATUS With any disability  \\\n0                                               46.8%                 \n1                                               31.1%                 \n2                                               63.4%                 \n3                                               70.0%                 \n4                                               72.9%                 \n..                                                ...                 \n56                                              66.7%                 \n57                                              65.0%                 \n58                                              58.9%                 \n59                                              76.9%                 \n60                                              60.1%                 \n\n   EDUCATIONAL ATTAINMENT EDUCATIONAL ATTAINMENT Population 25 to 64 years  \\\n0                     NaN                                            83.0%   \n1                     NaN                                            68.8%   \n2                     NaN                                            83.9%   \n3                     NaN                                            79.4%   \n4                     NaN                                            73.5%   \n..                    ...                                              ...   \n56                    NaN                                            89.4%   \n57                    NaN                                            86.6%   \n58                    NaN                                            84.7%   \n59                    NaN                                            87.3%   \n60                    NaN                                            84.2%   \n\n   EDUCATIONAL ATTAINMENT Population 25 to 64 years Less than high school graduate  \\\n0                                               68.0%                                \n1                                               47.5%                                \n2                                               68.3%                                \n3                                               87.7%                                \n4                                               66.9%                                \n..                                                ...                                \n56                                              36.0%                                \n57                                              77.5%                                \n58                                              72.9%                                \n59                                              67.0%                                \n60                                              70.9%                                \n\n   EDUCATIONAL ATTAINMENT Population 25 to 64 years High school graduate (includes equivalency)  \\\n0                                               81.9%                                             \n1                                               78.6%                                             \n2                                               74.6%                                             \n3                                               75.0%                                             \n4                                               72.3%                                             \n..                                                ...                                             \n56                                              69.9%                                             \n57                                              67.4%                                             \n58                                              76.4%                                             \n59                                              83.3%                                             \n60                                              77.6%                                             \n\n   EDUCATIONAL ATTAINMENT Population 25 to 64 years Some college or associate's degree  \\\n0                                               79.0%                                    \n1                                               66.9%                                    \n2                                               83.9%                                    \n3                                               77.4%                                    \n4                                               74.3%                                    \n..                                                ...                                    \n56                                              84.2%                                    \n57                                              83.0%                                    \n58                                              86.1%                                    \n59                                              87.4%                                    \n60                                              84.6%                                    \n\n   EDUCATIONAL ATTAINMENT Population 25 to 64 years Bachelor's degree or higher  \n0                                               89.3%                            \n1                                               83.8%                            \n2                                               87.5%                            \n3                                               84.9%                            \n4                                               90.6%                            \n..                                                ...                            \n56                                              93.2%                            \n57                                              92.6%                            \n58                                              91.7%                            \n59                                              88.1%                            \n60                                              88.3%                            \n\n[61 rows x 42 columns]",
      "text/html": "<div>\n<style scoped>\n    .dataframe tbody tr th:only-of-type {\n        vertical-align: middle;\n    }\n\n    .dataframe tbody tr th {\n        vertical-align: top;\n    }\n\n    .dataframe thead th {\n        text-align: right;\n    }\n</style>\n<table border=\"1\" class=\"dataframe\">\n  <thead>\n    <tr style=\"text-align: right;\">\n      <th></th>\n      <th>Zip Code</th>\n      <th>Population 16 years and over</th>\n      <th>Population 16 years and over AGE</th>\n      <th>Population 16 years and over AGE 16 to 19 years</th>\n      <th>Population 16 years and over AGE 20 to 24 years</th>\n      <th>Population 16 years and over AGE 25 to 29 years</th>\n      <th>Population 16 years and over AGE 30 to 34 years</th>\n      <th>Population 16 years and over AGE 35 to 44 years</th>\n      <th>Population 16 years and over AGE 45 to 54 years</th>\n      <th>Population 16 years and over AGE 55 to 59 years</th>\n      <th>...</th>\n      <th>Population 20 to 64 years POVERTY STATUS IN THE PAST 12 MONTHS Below poverty level</th>\n      <th>Population 20 to 64 years POVERTY STATUS IN THE PAST 12 MONTHS At or above the poverty level</th>\n      <th>Population 20 to 64 years DISABILITY STATUS</th>\n      <th>Population 20 to 64 years DISABILITY STATUS With any disability</th>\n      <th>EDUCATIONAL ATTAINMENT</th>\n      <th>EDUCATIONAL ATTAINMENT Population 25 to 64 years</th>\n      <th>EDUCATIONAL ATTAINMENT Population 25 to 64 years Less than high school graduate</th>\n      <th>EDUCATIONAL ATTAINMENT Population 25 to 64 years High school graduate (includes equivalency)</th>\n      <th>EDUCATIONAL ATTAINMENT Population 25 to 64 years Some college or associate's degree</th>\n      <th>EDUCATIONAL ATTAINMENT Population 25 to 64 years Bachelor's degree or higher</th>\n    </tr>\n  </thead>\n  <tbody>\n    <tr>\n      <th>0</th>\n      <td>78610</td>\n      <td>73.3%</td>\n      <td>NaN</td>\n      <td>36.4%</td>\n      <td>84.1%</td>\n      <td>92.3%</td>\n      <td>87.1%</td>\n      <td>87.8%</td>\n      <td>87.5%</td>\n      <td>66.7%</td>\n      <td>...</td>\n      <td>55.5%</td>\n      <td>84.9%</td>\n      <td>NaN</td>\n      <td>46.8%</td>\n      <td>NaN</td>\n      <td>83.0%</td>\n      <td>68.0%</td>\n      <td>81.9%</td>\n      <td>79.0%</td>\n      <td>89.3%</td>\n    </tr>\n    <tr>\n      <th>1</th>\n      <td>78612</td>\n      <td>56.6%</td>\n      <td>NaN</td>\n      <td>21.3%</td>\n      <td>74.2%</td>\n      <td>56.3%</td>\n      <td>69.5%</td>\n      <td>72.7%</td>\n      <td>75.8%</td>\n      <td>79.9%</td>\n      <td>...</td>\n      <td>49.8%</td>\n      <td>72.0%</td>\n      <td>NaN</td>\n      <td>31.1%</td>\n      <td>NaN</td>\n      <td>68.8%</td>\n      <td>47.5%</td>\n      <td>78.6%</td>\n      <td>66.9%</td>\n      <td>83.8%</td>\n    </tr>\n    <tr>\n      <th>2</th>\n      <td>78613</td>\n      <td>71.4%</td>\n      <td>NaN</td>\n      <td>33.7%</td>\n      <td>74.0%</td>\n      <td>89.4%</td>\n      <td>88.8%</td>\n      <td>83.2%</td>\n      <td>86.8%</td>\n      <td>79.2%</td>\n      <td>...</td>\n      <td>63.2%</td>\n      <td>84.1%</td>\n      <td>NaN</td>\n      <td>63.4%</td>\n      <td>NaN</td>\n      <td>83.9%</td>\n      <td>68.3%</td>\n      <td>74.6%</td>\n      <td>83.9%</td>\n      <td>87.5%</td>\n    </tr>\n    <tr>\n      <th>3</th>\n      <td>78615</td>\n      <td>67.6%</td>\n      <td>NaN</td>\n      <td>90.4%</td>\n      <td>83.6%</td>\n      <td>71.1%</td>\n      <td>100.0%</td>\n      <td>98.2%</td>\n      <td>75.0%</td>\n      <td>64.7%</td>\n      <td>...</td>\n      <td>8.0%</td>\n      <td>82.7%</td>\n      <td>NaN</td>\n      <td>70.0%</td>\n      <td>NaN</td>\n      <td>79.4%</td>\n      <td>87.7%</td>\n      <td>75.0%</td>\n      <td>77.4%</td>\n      <td>84.9%</td>\n    </tr>\n    <tr>\n      <th>4</th>\n      <td>78617</td>\n      <td>67.1%</td>\n      <td>NaN</td>\n      <td>31.0%</td>\n      <td>73.0%</td>\n      <td>75.0%</td>\n      <td>64.3%</td>\n      <td>74.8%</td>\n      <td>74.4%</td>\n      <td>75.4%</td>\n      <td>...</td>\n      <td>55.3%</td>\n      <td>87.7%</td>\n      <td>NaN</td>\n      <td>72.9%</td>\n      <td>NaN</td>\n      <td>73.5%</td>\n      <td>66.9%</td>\n      <td>72.3%</td>\n      <td>74.3%</td>\n      <td>90.6%</td>\n    </tr>\n    <tr>\n      <th>...</th>\n      <td>...</td>\n      <td>...</td>\n      <td>...</td>\n      <td>...</td>\n      <td>...</td>\n      <td>...</td>\n      <td>...</td>\n      <td>...</td>\n      <td>...</td>\n      <td>...</td>\n      <td>...</td>\n      <td>...</td>\n      <td>...</td>\n      <td>...</td>\n      <td>...</td>\n      <td>...</td>\n      <td>...</td>\n      <td>...</td>\n      <td>...</td>\n      <td>...</td>\n      <td>...</td>\n    </tr>\n    <tr>\n      <th>56</th>\n      <td>78756</td>\n      <td>76.4%</td>\n      <td>NaN</td>\n      <td>20.2%</td>\n      <td>71.8%</td>\n      <td>96.9%</td>\n      <td>94.3%</td>\n      <td>91.2%</td>\n      <td>81.3%</td>\n      <td>85.2%</td>\n      <td>...</td>\n      <td>78.7%</td>\n      <td>90.9%</td>\n      <td>NaN</td>\n      <td>66.7%</td>\n      <td>NaN</td>\n      <td>89.4%</td>\n      <td>36.0%</td>\n      <td>69.9%</td>\n      <td>84.2%</td>\n      <td>93.2%</td>\n    </tr>\n    <tr>\n      <th>57</th>\n      <td>78757</td>\n      <td>73.7%</td>\n      <td>NaN</td>\n      <td>24.1%</td>\n      <td>87.9%</td>\n      <td>88.6%</td>\n      <td>92.8%</td>\n      <td>87.9%</td>\n      <td>90.5%</td>\n      <td>69.0%</td>\n      <td>...</td>\n      <td>48.0%</td>\n      <td>89.9%</td>\n      <td>NaN</td>\n      <td>65.0%</td>\n      <td>NaN</td>\n      <td>86.6%</td>\n      <td>77.5%</td>\n      <td>67.4%</td>\n      <td>83.0%</td>\n      <td>92.6%</td>\n    </tr>\n    <tr>\n      <th>58</th>\n      <td>78758</td>\n      <td>77.3%</td>\n      <td>NaN</td>\n      <td>35.8%</td>\n      <td>88.0%</td>\n      <td>85.6%</td>\n      <td>86.9%</td>\n      <td>85.4%</td>\n      <td>87.4%</td>\n      <td>86.1%</td>\n      <td>...</td>\n      <td>59.5%</td>\n      <td>89.7%</td>\n      <td>NaN</td>\n      <td>58.9%</td>\n      <td>NaN</td>\n      <td>84.7%</td>\n      <td>72.9%</td>\n      <td>76.4%</td>\n      <td>86.1%</td>\n      <td>91.7%</td>\n    </tr>\n    <tr>\n      <th>59</th>\n      <td>78759</td>\n      <td>73.9%</td>\n      <td>NaN</td>\n      <td>28.0%</td>\n      <td>94.2%</td>\n      <td>92.4%</td>\n      <td>91.0%</td>\n      <td>89.8%</td>\n      <td>86.2%</td>\n      <td>80.8%</td>\n      <td>...</td>\n      <td>72.3%</td>\n      <td>88.7%</td>\n      <td>NaN</td>\n      <td>76.9%</td>\n      <td>NaN</td>\n      <td>87.3%</td>\n      <td>67.0%</td>\n      <td>83.3%</td>\n      <td>87.4%</td>\n      <td>88.1%</td>\n    </tr>\n    <tr>\n      <th>60</th>\n      <td>Travis County, Texas</td>\n      <td>73.0%</td>\n      <td>NaN</td>\n      <td>34.9%</td>\n      <td>73.5%</td>\n      <td>88.9%</td>\n      <td>87.6%</td>\n      <td>86.7%</td>\n      <td>85.1%</td>\n      <td>76.5%</td>\n      <td>...</td>\n      <td>53.5%</td>\n      <td>87.4%</td>\n      <td>NaN</td>\n      <td>60.1%</td>\n      <td>NaN</td>\n      <td>84.2%</td>\n      <td>70.9%</td>\n      <td>77.6%</td>\n      <td>84.6%</td>\n      <td>88.3%</td>\n    </tr>\n  </tbody>\n</table>\n<p>61 rows × 42 columns</p>\n</div>"
     },
     "execution_count": 18,
     "metadata": {},
     "output_type": "execute_result"
    }
   ],
   "source": [
    "df_lfp_rate_est"
   ],
   "metadata": {
    "collapsed": false,
    "pycharm": {
     "name": "#%%\n"
    }
   }
  },
  {
   "cell_type": "code",
   "execution_count": null,
   "outputs": [],
   "source": [],
   "metadata": {
    "collapsed": false,
    "pycharm": {
     "name": "#%%\n"
    }
   }
  },
  {
   "cell_type": "code",
   "execution_count": null,
   "outputs": [],
   "source": [],
   "metadata": {
    "collapsed": false,
    "pycharm": {
     "name": "#%%\n"
    }
   }
  }
 ],
 "metadata": {
  "kernelspec": {
   "display_name": "Python 3",
   "language": "python",
   "name": "python3"
  },
  "language_info": {
   "codemirror_mode": {
    "name": "ipython",
    "version": 3
   },
   "file_extension": ".py",
   "mimetype": "text/x-python",
   "name": "python",
   "nbconvert_exporter": "python",
   "pygments_lexer": "ipython3",
   "version": "3.7.6"
  }
 },
 "nbformat": 4,
 "nbformat_minor": 4
}