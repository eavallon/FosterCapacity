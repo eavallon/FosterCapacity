{
 "cells": [
  {
   "cell_type": "code",
   "execution_count": null,
   "outputs": [],
   "source": [
    "import pandas as pd\n",
    "import matplotlib.pyplot as plt"
   ],
   "metadata": {
    "collapsed": false,
    "pycharm": {
     "name": "#%%\n"
    }
   }
  },
  {
   "cell_type": "code",
   "execution_count": null,
   "outputs": [],
   "source": [
    "foster = pd.read_csv('foster_2017-2022.csv',low_memory=False)"
   ],
   "metadata": {
    "collapsed": false,
    "pycharm": {
     "name": "#%%\n"
    }
   }
  },
  {
   "cell_type": "code",
   "execution_count": null,
   "outputs": [],
   "source": [
    "foster.columns"
   ],
   "metadata": {
    "collapsed": false,
    "pycharm": {
     "name": "#%%\n"
    }
   }
  },
  {
   "cell_type": "markdown",
   "source": [],
   "metadata": {
    "collapsed": false,
    "pycharm": {
     "name": "#%% md\n"
    }
   }
  },
  {
   "cell_type": "code",
   "execution_count": null,
   "outputs": [],
   "source": [
    "yr_2019 = foster['EventMonth'].between(201899,201999)\n",
    "dog = foster['AnimalType'].eq('Dog')\n",
    "cat = foster['AnimalType'].eq('Cat')"
   ],
   "metadata": {
    "collapsed": false,
    "pycharm": {
     "name": "#%%\n"
    }
   }
  },
  {
   "cell_type": "code",
   "execution_count": null,
   "outputs": [],
   "source": [
    "fos2019 = foster[yr_2019].drop_duplicates('AnimalID')\n",
    "dogfos2019 = foster[yr_2019][dog].drop_duplicates('AnimalID')\n",
    "catfos2019 = foster[yr_2019][cat].drop_duplicates('AnimalID')"
   ],
   "metadata": {
    "collapsed": false,
    "pycharm": {
     "name": "#%%\n"
    }
   }
  },
  {
   "cell_type": "code",
   "execution_count": null,
   "outputs": [],
   "source": [
    "fos2019.to_csv('2019_fosteranimals.csv')\n",
    "dogfos2019.to_csv('2019_fosterdogs.csv')\n",
    "catfos2019.to_csv('2019_fostercats.csv')"
   ],
   "metadata": {
    "collapsed": false,
    "pycharm": {
     "name": "#%%\n"
    }
   }
  },
  {
   "cell_type": "code",
   "execution_count": null,
   "outputs": [],
   "source": [
    "dogfos2019['AnimalID'].value_counts()"
   ],
   "metadata": {
    "collapsed": false,
    "pycharm": {
     "name": "#%%\n"
    }
   }
  },
  {
   "cell_type": "code",
   "execution_count": null,
   "outputs": [],
   "source": [
    "catfos2019['BreedSize'].value_counts()"
   ],
   "metadata": {
    "collapsed": false,
    "pycharm": {
     "name": "#%%\n"
    }
   }
  },
  {
   "cell_type": "code",
   "execution_count": null,
   "outputs": [],
   "source": [
    "dogzips2019 = dogfos2019['FosterZipCode'].str.split('-').str[0]\n",
    "catzips2019 = catfos2019['FosterZipCode'].str.split('-').str[0]"
   ],
   "metadata": {
    "collapsed": false,
    "pycharm": {
     "name": "#%%\n"
    }
   }
  },
  {
   "cell_type": "code",
   "execution_count": null,
   "outputs": [],
   "source": [
    "dogzipcounts = dogzips2019.value_counts()\n",
    "catzipcounts = catzips2019.value_counts()"
   ],
   "metadata": {
    "collapsed": false,
    "pycharm": {
     "name": "#%%\n"
    }
   }
  },
  {
   "cell_type": "code",
   "execution_count": null,
   "outputs": [],
   "source": [
    "dogzipcounts.to_csv('2019_dog_zipcounts.csv')\n",
    "catzipcounts.to_csv('2019_cat_zipcounts.csv')"
   ],
   "metadata": {
    "collapsed": false,
    "pycharm": {
     "name": "#%%\n"
    }
   }
  },
  {
   "cell_type": "code",
   "execution_count": null,
   "outputs": [],
   "source": [
    "dogfos2019['DaysInCustodyAllTime']"
   ],
   "metadata": {
    "collapsed": false,
    "pycharm": {
     "name": "#%%\n"
    }
   }
  },
  {
   "cell_type": "code",
   "execution_count": null,
   "outputs": [],
   "source": [
    "plt.hist(dogfos2019['DaysInCustodyAllTime'][dogfos2019['DaysInCustodyAllTime'].lt(200)],bins=40)"
   ],
   "metadata": {
    "collapsed": false,
    "pycharm": {
     "name": "#%%\n"
    }
   }
  },
  {
   "cell_type": "code",
   "execution_count": null,
   "outputs": [],
   "source": [
    "len(dogfos2019)"
   ],
   "metadata": {
    "collapsed": false,
    "pycharm": {
     "name": "#%%\n"
    }
   }
  },
  {
   "cell_type": "code",
   "execution_count": 8,
   "metadata": {
    "pycharm": {
     "name": "#%%\n"
    }
   },
   "outputs": [
    {
     "data": {
      "text/plain": [
       "16450     92.0\n",
       "16454    430.0\n",
       "16455    404.0\n",
       "16456    365.0\n",
       "16458    132.0\n",
       "         ...  \n",
       "24937      0.0\n",
       "24940      0.0\n",
       "24950      0.0\n",
       "24951     86.0\n",
       "24956      2.0\n",
       "Name: DaysInCustodyAllTime, Length: 2570, dtype: float64"
      ]
     },
     "execution_count": 8,
     "metadata": {},
     "output_type": "execute_result"
    }
   ],
   "source": [
    "dogfos2019['DaysInCustodyAllTime']"
   ]
  },
  {
   "cell_type": "code",
   "execution_count": 14,
   "metadata": {},
   "outputs": [
    {
     "data": {
      "text/plain": [
       "(array([1.692e+03, 2.480e+02, 1.420e+02, 7.300e+01, 4.000e+01, 2.700e+01,\n",
       "        2.000e+01, 2.200e+01, 3.800e+01, 1.600e+01, 1.400e+01, 1.000e+01,\n",
       "        8.000e+00, 4.000e+00, 1.600e+01, 6.000e+00, 1.600e+01, 5.000e+00,\n",
       "        7.000e+00, 5.000e+00, 8.000e+00, 6.000e+00, 8.000e+00, 7.000e+00,\n",
       "        1.000e+00, 2.000e+00, 2.000e+00, 3.000e+00, 3.000e+00, 3.000e+00,\n",
       "        2.000e+00, 1.000e+00, 3.000e+00, 4.000e+00, 2.000e+00, 2.000e+00,\n",
       "        1.000e+00, 0.000e+00, 5.000e+00, 2.000e+00]),\n",
       " array([  0.   ,   4.925,   9.85 ,  14.775,  19.7  ,  24.625,  29.55 ,\n",
       "         34.475,  39.4  ,  44.325,  49.25 ,  54.175,  59.1  ,  64.025,\n",
       "         68.95 ,  73.875,  78.8  ,  83.725,  88.65 ,  93.575,  98.5  ,\n",
       "        103.425, 108.35 , 113.275, 118.2  , 123.125, 128.05 , 132.975,\n",
       "        137.9  , 142.825, 147.75 , 152.675, 157.6  , 162.525, 167.45 ,\n",
       "        172.375, 177.3  , 182.225, 187.15 , 192.075, 197.   ]),\n",
       " <a list of 40 Patch objects>)"
      ]
     },
     "execution_count": 14,
     "metadata": {},
     "output_type": "execute_result"
    },
    {
     "data": {
      "image/png": "[encoded data removed]",
      "text/plain": [
       "<Figure size 432x288 with 1 Axes>"
      ]
     },
     "metadata": {
      "needs_background": "light"
     },
     "output_type": "display_data"
    }
   ],
   "source": [
    "plt.hist(dogfos2019['DaysInCustodyAllTime'][dogfos2019['DaysInCustodyAllTime'].lt(200)],bins=40)"
   ]
  },
  {
   "cell_type": "code",
   "execution_count": 15,
   "metadata": {},
   "outputs": [
    {
     "data": {
      "text/plain": [
       "2570"
      ]
     },
     "execution_count": 15,
     "metadata": {},
     "output_type": "execute_result"
    }
   ],
   "source": [
    "len(dogfos2019)"
   ]
  },
  {
   "cell_type": "code",
   "execution_count": null,
   "metadata": {},
   "outputs": [],
   "source": []
  }
 ],
 "metadata": {
  "kernelspec": {
   "display_name": "Python 3",
   "language": "python",
   "name": "python3"
  },
  "language_info": {
   "codemirror_mode": {
    "name": "ipython",
    "version": 3
   },
   "file_extension": ".py",
   "mimetype": "text/x-python",
   "name": "python",
   "nbconvert_exporter": "python",
   "pygments_lexer": "ipython3",
   "version": "3.7.6"
  }
 },
 "nbformat": 4,
 "nbformat_minor": 1
}