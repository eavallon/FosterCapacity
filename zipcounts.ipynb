{
 "cells": [
  {
   "cell_type": "code",
   "execution_count": 2,
   "outputs": [],
   "source": [
    "import pandas as pd"
   ],
   "metadata": {
    "collapsed": false,
    "pycharm": {
     "name": "#%%\n"
    }
   }
  },
  {
   "cell_type": "code",
   "execution_count": 3,
   "outputs": [],
   "source": [
    "foster_all = pd.read_csv('/Users/eavallon/Desktop/FosterCapacity/foster_2017-2022_withmed.csv',low_memory=False)"
   ],
   "metadata": {
    "collapsed": false,
    "pycharm": {
     "name": "#%%\n"
    }
   }
  },
  {
   "cell_type": "code",
   "execution_count": 4,
   "outputs": [],
   "source": [
    "yr_2021 = foster_all['EventMonth'].between(202099,202199)\n",
    "dog = foster_all['AnimalType'].eq('Dog')\n",
    "cat = foster_all['AnimalType'].eq('Cat')"
   ],
   "metadata": {
    "collapsed": false,
    "pycharm": {
     "name": "#%%\n"
    }
   }
  },
  {
   "cell_type": "code",
   "execution_count": 5,
   "outputs": [
    {
     "name": "stderr",
     "output_type": "stream",
     "text": [
      "/var/folders/dg/7g2s77314ws2znrh1l_sq8_80000gp/T/ipykernel_97601/3156156843.py:1: UserWarning: Boolean Series key will be reindexed to match DataFrame index.\n",
      "  dogfos = foster_all[yr_2021][dog].drop_duplicates('FosterID')\n",
      "/var/folders/dg/7g2s77314ws2znrh1l_sq8_80000gp/T/ipykernel_97601/3156156843.py:2: UserWarning: Boolean Series key will be reindexed to match DataFrame index.\n",
      "  catfos = foster_all[yr_2021][cat].drop_duplicates('FosterID')\n"
     ]
    }
   ],
   "source": [
    "dogfos = foster_all[yr_2021][dog].drop_duplicates('FosterID')\n",
    "catfos = foster_all[yr_2021][cat].drop_duplicates('FosterID')"
   ],
   "metadata": {
    "collapsed": false,
    "pycharm": {
     "name": "#%%\n"
    }
   }
  },
  {
   "cell_type": "code",
   "execution_count": 6,
   "outputs": [],
   "source": [
    "dogmed = dogfos[dogfos['MedFoster'].eq('Yes')]"
   ],
   "metadata": {
    "collapsed": false,
    "pycharm": {
     "name": "#%%\n"
    }
   }
  },
  {
   "cell_type": "code",
   "execution_count": 7,
   "outputs": [],
   "source": [
    "dogzipsmed = dogmed['FosterZipCode'].str.split('-').str[0]"
   ],
   "metadata": {
    "collapsed": false,
    "pycharm": {
     "name": "#%%\n"
    }
   }
  },
  {
   "cell_type": "code",
   "execution_count": 8,
   "outputs": [],
   "source": [
    "dogmedzipcounts = dogzipsmed.value_counts()"
   ],
   "metadata": {
    "collapsed": false,
    "pycharm": {
     "name": "#%%\n"
    }
   }
  },
  {
   "cell_type": "code",
   "execution_count": 9,
   "outputs": [],
   "source": [
    "dogzips = dogfos['FosterZipCode'].str.split('-').str[0]\n",
    "catzips = catfos['FosterZipCode'].str.split('-').str[0]"
   ],
   "metadata": {
    "collapsed": false,
    "pycharm": {
     "name": "#%%\n"
    }
   }
  },
  {
   "cell_type": "code",
   "execution_count": 10,
   "outputs": [],
   "source": [
    "dogzipcounts = dogzips.value_counts().to_frame()\n",
    "catzipcounts = catzips.value_counts().to_frame()"
   ],
   "metadata": {
    "collapsed": false,
    "pycharm": {
     "name": "#%%\n"
    }
   }
  },
  {
   "cell_type": "code",
   "execution_count": 11,
   "outputs": [],
   "source": [
    "dogzipcounts['MedFosters'] = 0"
   ],
   "metadata": {
    "collapsed": false,
    "pycharm": {
     "name": "#%%\n"
    }
   }
  },
  {
   "cell_type": "code",
   "execution_count": 12,
   "outputs": [],
   "source": [
    "for zip in dogmedzipcounts.index:\n",
    "    dogzipcounts.loc[zip]['MedFosters'] = dogmedzipcounts[zip]"
   ],
   "metadata": {
    "collapsed": false,
    "pycharm": {
     "name": "#%%\n"
    }
   }
  },
  {
   "cell_type": "code",
   "execution_count": 13,
   "outputs": [
    {
     "data": {
      "text/plain": "       FosterZipCode  MedFosters\n78704            178           5\n78705            134           0\n78741             94           6\n78745             82           1\n78748             70           0\n...              ...         ...\n78953              1           0\n77479              1           0\n78644              1           0\n78602              1           0\n76801              1           0\n\n[88 rows x 2 columns]",
      "text/html": "<div>\n<style scoped>\n    .dataframe tbody tr th:only-of-type {\n        vertical-align: middle;\n    }\n\n    .dataframe tbody tr th {\n        vertical-align: top;\n    }\n\n    .dataframe thead th {\n        text-align: right;\n    }\n</style>\n<table border=\"1\" class=\"dataframe\">\n  <thead>\n    <tr style=\"text-align: right;\">\n      <th></th>\n      <th>FosterZipCode</th>\n      <th>MedFosters</th>\n    </tr>\n  </thead>\n  <tbody>\n    <tr>\n      <th>78704</th>\n      <td>178</td>\n      <td>5</td>\n    </tr>\n    <tr>\n      <th>78705</th>\n      <td>134</td>\n      <td>0</td>\n    </tr>\n    <tr>\n      <th>78741</th>\n      <td>94</td>\n      <td>6</td>\n    </tr>\n    <tr>\n      <th>78745</th>\n      <td>82</td>\n      <td>1</td>\n    </tr>\n    <tr>\n      <th>78748</th>\n      <td>70</td>\n      <td>0</td>\n    </tr>\n    <tr>\n      <th>...</th>\n      <td>...</td>\n      <td>...</td>\n    </tr>\n    <tr>\n      <th>78953</th>\n      <td>1</td>\n      <td>0</td>\n    </tr>\n    <tr>\n      <th>77479</th>\n      <td>1</td>\n      <td>0</td>\n    </tr>\n    <tr>\n      <th>78644</th>\n      <td>1</td>\n      <td>0</td>\n    </tr>\n    <tr>\n      <th>78602</th>\n      <td>1</td>\n      <td>0</td>\n    </tr>\n    <tr>\n      <th>76801</th>\n      <td>1</td>\n      <td>0</td>\n    </tr>\n  </tbody>\n</table>\n<p>88 rows × 2 columns</p>\n</div>"
     },
     "execution_count": 13,
     "metadata": {},
     "output_type": "execute_result"
    }
   ],
   "source": [
    "dogzipcounts"
   ],
   "metadata": {
    "collapsed": false,
    "pycharm": {
     "name": "#%%\n"
    }
   }
  },
  {
   "cell_type": "code",
   "execution_count": 14,
   "outputs": [],
   "source": [
    "dogzipcounts.to_csv('/Users/eavallon/Desktop/FosterCapacity/2021_dog_zipcounts.csv')\n",
    "catzipcounts.to_csv('/Users/eavallon/Desktop/FosterCapacity/2021_cat_zipcounts.csv')"
   ],
   "metadata": {
    "collapsed": false,
    "pycharm": {
     "name": "#%%\n"
    }
   }
  },
  {
   "cell_type": "code",
   "execution_count": null,
   "outputs": [],
   "source": [],
   "metadata": {
    "collapsed": false,
    "pycharm": {
     "name": "#%%\n"
    }
   }
  }
 ],
 "metadata": {
  "kernelspec": {
   "display_name": "Python 3",
   "language": "python",
   "name": "python3"
  },
  "language_info": {
   "codemirror_mode": {
    "name": "ipython",
    "version": 2
   },
   "file_extension": ".py",
   "mimetype": "text/x-python",
   "name": "python",
   "nbconvert_exporter": "python",
   "pygments_lexer": "ipython2",
   "version": "2.7.6"
  }
 },
 "nbformat": 4,
 "nbformat_minor": 0
}