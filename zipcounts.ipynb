{
 "cells": [
  {
   "cell_type": "code",
   "execution_count": 1,
   "outputs": [],
   "source": [
    "import pandas as pd"
   ],
   "metadata": {
    "collapsed": false,
    "pycharm": {
     "name": "#%%\n"
    }
   }
  },
  {
   "cell_type": "code",
   "execution_count": 4,
   "outputs": [
    {
     "ename": "FileNotFoundError",
     "evalue": "[Errno 2] File ./foster_2017-2022.csv does not exist: './foster_2017-2022.csv'",
     "output_type": "error",
     "traceback": [
      "\u001B[0;31m---------------------------------------------------------------------------\u001B[0m",
      "\u001B[0;31mFileNotFoundError\u001B[0m                         Traceback (most recent call last)",
      "\u001B[0;32m<ipython-input-4-a23f7f0d4953>\u001B[0m in \u001B[0;36m<module>\u001B[0;34m\u001B[0m\n\u001B[0;32m----> 1\u001B[0;31m \u001B[0mfoster\u001B[0m \u001B[0;34m=\u001B[0m \u001B[0mpd\u001B[0m\u001B[0;34m.\u001B[0m\u001B[0mread_csv\u001B[0m\u001B[0;34m(\u001B[0m\u001B[0;34m'./foster_2017-2022.csv'\u001B[0m\u001B[0;34m,\u001B[0m\u001B[0mlow_memory\u001B[0m\u001B[0;34m=\u001B[0m\u001B[0;32mFalse\u001B[0m\u001B[0;34m)\u001B[0m\u001B[0;34m\u001B[0m\u001B[0;34m\u001B[0m\u001B[0m\n\u001B[0m",
      "\u001B[0;32m/opt/anaconda3/lib/python3.7/site-packages/pandas/io/parsers.py\u001B[0m in \u001B[0;36mparser_f\u001B[0;34m(filepath_or_buffer, sep, delimiter, header, names, index_col, usecols, squeeze, prefix, mangle_dupe_cols, dtype, engine, converters, true_values, false_values, skipinitialspace, skiprows, skipfooter, nrows, na_values, keep_default_na, na_filter, verbose, skip_blank_lines, parse_dates, infer_datetime_format, keep_date_col, date_parser, dayfirst, cache_dates, iterator, chunksize, compression, thousands, decimal, lineterminator, quotechar, quoting, doublequote, escapechar, comment, encoding, dialect, error_bad_lines, warn_bad_lines, delim_whitespace, low_memory, memory_map, float_precision)\u001B[0m\n\u001B[1;32m    674\u001B[0m         )\n\u001B[1;32m    675\u001B[0m \u001B[0;34m\u001B[0m\u001B[0m\n\u001B[0;32m--> 676\u001B[0;31m         \u001B[0;32mreturn\u001B[0m \u001B[0m_read\u001B[0m\u001B[0;34m(\u001B[0m\u001B[0mfilepath_or_buffer\u001B[0m\u001B[0;34m,\u001B[0m \u001B[0mkwds\u001B[0m\u001B[0;34m)\u001B[0m\u001B[0;34m\u001B[0m\u001B[0;34m\u001B[0m\u001B[0m\n\u001B[0m\u001B[1;32m    677\u001B[0m \u001B[0;34m\u001B[0m\u001B[0m\n\u001B[1;32m    678\u001B[0m     \u001B[0mparser_f\u001B[0m\u001B[0;34m.\u001B[0m\u001B[0m__name__\u001B[0m \u001B[0;34m=\u001B[0m \u001B[0mname\u001B[0m\u001B[0;34m\u001B[0m\u001B[0;34m\u001B[0m\u001B[0m\n",
      "\u001B[0;32m/opt/anaconda3/lib/python3.7/site-packages/pandas/io/parsers.py\u001B[0m in \u001B[0;36m_read\u001B[0;34m(filepath_or_buffer, kwds)\u001B[0m\n\u001B[1;32m    446\u001B[0m \u001B[0;34m\u001B[0m\u001B[0m\n\u001B[1;32m    447\u001B[0m     \u001B[0;31m# Create the parser.\u001B[0m\u001B[0;34m\u001B[0m\u001B[0;34m\u001B[0m\u001B[0;34m\u001B[0m\u001B[0m\n\u001B[0;32m--> 448\u001B[0;31m     \u001B[0mparser\u001B[0m \u001B[0;34m=\u001B[0m \u001B[0mTextFileReader\u001B[0m\u001B[0;34m(\u001B[0m\u001B[0mfp_or_buf\u001B[0m\u001B[0;34m,\u001B[0m \u001B[0;34m**\u001B[0m\u001B[0mkwds\u001B[0m\u001B[0;34m)\u001B[0m\u001B[0;34m\u001B[0m\u001B[0;34m\u001B[0m\u001B[0m\n\u001B[0m\u001B[1;32m    449\u001B[0m \u001B[0;34m\u001B[0m\u001B[0m\n\u001B[1;32m    450\u001B[0m     \u001B[0;32mif\u001B[0m \u001B[0mchunksize\u001B[0m \u001B[0;32mor\u001B[0m \u001B[0miterator\u001B[0m\u001B[0;34m:\u001B[0m\u001B[0;34m\u001B[0m\u001B[0;34m\u001B[0m\u001B[0m\n",
      "\u001B[0;32m/opt/anaconda3/lib/python3.7/site-packages/pandas/io/parsers.py\u001B[0m in \u001B[0;36m__init__\u001B[0;34m(self, f, engine, **kwds)\u001B[0m\n\u001B[1;32m    878\u001B[0m             \u001B[0mself\u001B[0m\u001B[0;34m.\u001B[0m\u001B[0moptions\u001B[0m\u001B[0;34m[\u001B[0m\u001B[0;34m\"has_index_names\"\u001B[0m\u001B[0;34m]\u001B[0m \u001B[0;34m=\u001B[0m \u001B[0mkwds\u001B[0m\u001B[0;34m[\u001B[0m\u001B[0;34m\"has_index_names\"\u001B[0m\u001B[0;34m]\u001B[0m\u001B[0;34m\u001B[0m\u001B[0;34m\u001B[0m\u001B[0m\n\u001B[1;32m    879\u001B[0m \u001B[0;34m\u001B[0m\u001B[0m\n\u001B[0;32m--> 880\u001B[0;31m         \u001B[0mself\u001B[0m\u001B[0;34m.\u001B[0m\u001B[0m_make_engine\u001B[0m\u001B[0;34m(\u001B[0m\u001B[0mself\u001B[0m\u001B[0;34m.\u001B[0m\u001B[0mengine\u001B[0m\u001B[0;34m)\u001B[0m\u001B[0;34m\u001B[0m\u001B[0;34m\u001B[0m\u001B[0m\n\u001B[0m\u001B[1;32m    881\u001B[0m \u001B[0;34m\u001B[0m\u001B[0m\n\u001B[1;32m    882\u001B[0m     \u001B[0;32mdef\u001B[0m \u001B[0mclose\u001B[0m\u001B[0;34m(\u001B[0m\u001B[0mself\u001B[0m\u001B[0;34m)\u001B[0m\u001B[0;34m:\u001B[0m\u001B[0;34m\u001B[0m\u001B[0;34m\u001B[0m\u001B[0m\n",
      "\u001B[0;32m/opt/anaconda3/lib/python3.7/site-packages/pandas/io/parsers.py\u001B[0m in \u001B[0;36m_make_engine\u001B[0;34m(self, engine)\u001B[0m\n\u001B[1;32m   1112\u001B[0m     \u001B[0;32mdef\u001B[0m \u001B[0m_make_engine\u001B[0m\u001B[0;34m(\u001B[0m\u001B[0mself\u001B[0m\u001B[0;34m,\u001B[0m \u001B[0mengine\u001B[0m\u001B[0;34m=\u001B[0m\u001B[0;34m\"c\"\u001B[0m\u001B[0;34m)\u001B[0m\u001B[0;34m:\u001B[0m\u001B[0;34m\u001B[0m\u001B[0;34m\u001B[0m\u001B[0m\n\u001B[1;32m   1113\u001B[0m         \u001B[0;32mif\u001B[0m \u001B[0mengine\u001B[0m \u001B[0;34m==\u001B[0m \u001B[0;34m\"c\"\u001B[0m\u001B[0;34m:\u001B[0m\u001B[0;34m\u001B[0m\u001B[0;34m\u001B[0m\u001B[0m\n\u001B[0;32m-> 1114\u001B[0;31m             \u001B[0mself\u001B[0m\u001B[0;34m.\u001B[0m\u001B[0m_engine\u001B[0m \u001B[0;34m=\u001B[0m \u001B[0mCParserWrapper\u001B[0m\u001B[0;34m(\u001B[0m\u001B[0mself\u001B[0m\u001B[0;34m.\u001B[0m\u001B[0mf\u001B[0m\u001B[0;34m,\u001B[0m \u001B[0;34m**\u001B[0m\u001B[0mself\u001B[0m\u001B[0;34m.\u001B[0m\u001B[0moptions\u001B[0m\u001B[0;34m)\u001B[0m\u001B[0;34m\u001B[0m\u001B[0;34m\u001B[0m\u001B[0m\n\u001B[0m\u001B[1;32m   1115\u001B[0m         \u001B[0;32melse\u001B[0m\u001B[0;34m:\u001B[0m\u001B[0;34m\u001B[0m\u001B[0;34m\u001B[0m\u001B[0m\n\u001B[1;32m   1116\u001B[0m             \u001B[0;32mif\u001B[0m \u001B[0mengine\u001B[0m \u001B[0;34m==\u001B[0m \u001B[0;34m\"python\"\u001B[0m\u001B[0;34m:\u001B[0m\u001B[0;34m\u001B[0m\u001B[0;34m\u001B[0m\u001B[0m\n",
      "\u001B[0;32m/opt/anaconda3/lib/python3.7/site-packages/pandas/io/parsers.py\u001B[0m in \u001B[0;36m__init__\u001B[0;34m(self, src, **kwds)\u001B[0m\n\u001B[1;32m   1889\u001B[0m         \u001B[0mkwds\u001B[0m\u001B[0;34m[\u001B[0m\u001B[0;34m\"usecols\"\u001B[0m\u001B[0;34m]\u001B[0m \u001B[0;34m=\u001B[0m \u001B[0mself\u001B[0m\u001B[0;34m.\u001B[0m\u001B[0musecols\u001B[0m\u001B[0;34m\u001B[0m\u001B[0;34m\u001B[0m\u001B[0m\n\u001B[1;32m   1890\u001B[0m \u001B[0;34m\u001B[0m\u001B[0m\n\u001B[0;32m-> 1891\u001B[0;31m         \u001B[0mself\u001B[0m\u001B[0;34m.\u001B[0m\u001B[0m_reader\u001B[0m \u001B[0;34m=\u001B[0m \u001B[0mparsers\u001B[0m\u001B[0;34m.\u001B[0m\u001B[0mTextReader\u001B[0m\u001B[0;34m(\u001B[0m\u001B[0msrc\u001B[0m\u001B[0;34m,\u001B[0m \u001B[0;34m**\u001B[0m\u001B[0mkwds\u001B[0m\u001B[0;34m)\u001B[0m\u001B[0;34m\u001B[0m\u001B[0;34m\u001B[0m\u001B[0m\n\u001B[0m\u001B[1;32m   1892\u001B[0m         \u001B[0mself\u001B[0m\u001B[0;34m.\u001B[0m\u001B[0munnamed_cols\u001B[0m \u001B[0;34m=\u001B[0m \u001B[0mself\u001B[0m\u001B[0;34m.\u001B[0m\u001B[0m_reader\u001B[0m\u001B[0;34m.\u001B[0m\u001B[0munnamed_cols\u001B[0m\u001B[0;34m\u001B[0m\u001B[0;34m\u001B[0m\u001B[0m\n\u001B[1;32m   1893\u001B[0m \u001B[0;34m\u001B[0m\u001B[0m\n",
      "\u001B[0;32mpandas/_libs/parsers.pyx\u001B[0m in \u001B[0;36mpandas._libs.parsers.TextReader.__cinit__\u001B[0;34m()\u001B[0m\n",
      "\u001B[0;32mpandas/_libs/parsers.pyx\u001B[0m in \u001B[0;36mpandas._libs.parsers.TextReader._setup_parser_source\u001B[0;34m()\u001B[0m\n",
      "\u001B[0;31mFileNotFoundError\u001B[0m: [Errno 2] File ./foster_2017-2022.csv does not exist: './foster_2017-2022.csv'"
     ]
    }
   ],
   "source": [
    "foster = pd.read_csv('foster_2017-2022.csv',low_memory=False)"
   ],
   "metadata": {
    "collapsed": false,
    "pycharm": {
     "name": "#%%\n"
    }
   }
  },
  {
   "cell_type": "code",
   "execution_count": 5,
   "outputs": [
    {
     "data": {
      "text/plain": "       EventID  AnimalID     AnimalName  EventDate  EventMonth  \\\n0       363511      9175          Jolie   20170101      201701   \n1       366271     38312          Flora   20170101      201701   \n2       367615     42979  Cosmic Orange   20170101      201701   \n3       100617     44965   Little Tango   20170101      201701   \n4       101185     45098         Umi 26   20170101      201701   \n...        ...       ...            ...        ...         ...   \n55005  9007378    107632       Baby Boy   20220425      202204   \n55006  9007380    107633    Candy Apple   20220425      202204   \n55007  9007928    107643        Happy 9   20220425      202204   \n55008  9007933    107644     Hang Ten 9   20220425      202204   \n55009  9007937    107645  Huckleberry 9   20220425      202204   \n\n            EventType AnimalSex AnimalType  FosterID   AnimalDOB  ...  \\\n0      Outcome.Foster    Female        Dog   1443919  20101021.0  ...   \n1      Outcome.Foster    Female        Cat   1391726  20100914.0  ...   \n2      Outcome.Foster      Male        Dog   1437279  20160603.0  ...   \n3      Outcome.Foster      Male        Dog   1228737  20100623.0  ...   \n4      Outcome.Foster      Male        Cat   1391768  20161016.0  ...   \n...               ...       ...        ...       ...         ...  ...   \n55005  Outcome.Foster      Male        Dog  12275848  20220413.0  ...   \n55006  Outcome.Foster    Female        Cat  52247198  20210425.0  ...   \n55007  Outcome.Foster   Unknown        Cat  17499191  20220418.0  ...   \n55008  Outcome.Foster   Unknown        Cat  17499191  20220418.0  ...   \n55009  Outcome.Foster   Unknown        Cat  17499191  20220418.0  ...   \n\n       Unnamed: 31 Unnamed: 32 Unnamed: 33 Unnamed: 34  Unnamed: 35  \\\n0              NaN         NaN         NaN         NaN          NaN   \n1              NaN         NaN         NaN         NaN          NaN   \n2              NaN         NaN         NaN         NaN          NaN   \n3              NaN         NaN         NaN         NaN          NaN   \n4              NaN         NaN         NaN         NaN          NaN   \n...            ...         ...         ...         ...          ...   \n55005          NaN         NaN         NaN         NaN          NaN   \n55006          NaN         NaN         NaN         NaN          NaN   \n55007          NaN         NaN         NaN         NaN          NaN   \n55008          NaN         NaN         NaN         NaN          NaN   \n55009          NaN         NaN         NaN         NaN          NaN   \n\n       Unnamed: 36  Unnamed: 37  Unnamed: 38  Unnamed: 39  Unnamed: 40  \n0              NaN          NaN          NaN          NaN          NaN  \n1              NaN          NaN          NaN          NaN          NaN  \n2              NaN          NaN          NaN          NaN          NaN  \n3              NaN          NaN          NaN          NaN          NaN  \n4              NaN          NaN          NaN          NaN          NaN  \n...            ...          ...          ...          ...          ...  \n55005          NaN          NaN          NaN          NaN          NaN  \n55006          NaN          NaN          NaN          NaN          NaN  \n55007          NaN          NaN          NaN          NaN          NaN  \n55008          NaN          NaN          NaN          NaN          NaN  \n55009          NaN          NaN          NaN          NaN          NaN  \n\n[55010 rows x 41 columns]",
      "text/html": "<div>\n<style scoped>\n    .dataframe tbody tr th:only-of-type {\n        vertical-align: middle;\n    }\n\n    .dataframe tbody tr th {\n        vertical-align: top;\n    }\n\n    .dataframe thead th {\n        text-align: right;\n    }\n</style>\n<table border=\"1\" class=\"dataframe\">\n  <thead>\n    <tr style=\"text-align: right;\">\n      <th></th>\n      <th>EventID</th>\n      <th>AnimalID</th>\n      <th>AnimalName</th>\n      <th>EventDate</th>\n      <th>EventMonth</th>\n      <th>EventType</th>\n      <th>AnimalSex</th>\n      <th>AnimalType</th>\n      <th>FosterID</th>\n      <th>AnimalDOB</th>\n      <th>...</th>\n      <th>Unnamed: 31</th>\n      <th>Unnamed: 32</th>\n      <th>Unnamed: 33</th>\n      <th>Unnamed: 34</th>\n      <th>Unnamed: 35</th>\n      <th>Unnamed: 36</th>\n      <th>Unnamed: 37</th>\n      <th>Unnamed: 38</th>\n      <th>Unnamed: 39</th>\n      <th>Unnamed: 40</th>\n    </tr>\n  </thead>\n  <tbody>\n    <tr>\n      <th>0</th>\n      <td>363511</td>\n      <td>9175</td>\n      <td>Jolie</td>\n      <td>20170101</td>\n      <td>201701</td>\n      <td>Outcome.Foster</td>\n      <td>Female</td>\n      <td>Dog</td>\n      <td>1443919</td>\n      <td>20101021.0</td>\n      <td>...</td>\n      <td>NaN</td>\n      <td>NaN</td>\n      <td>NaN</td>\n      <td>NaN</td>\n      <td>NaN</td>\n      <td>NaN</td>\n      <td>NaN</td>\n      <td>NaN</td>\n      <td>NaN</td>\n      <td>NaN</td>\n    </tr>\n    <tr>\n      <th>1</th>\n      <td>366271</td>\n      <td>38312</td>\n      <td>Flora</td>\n      <td>20170101</td>\n      <td>201701</td>\n      <td>Outcome.Foster</td>\n      <td>Female</td>\n      <td>Cat</td>\n      <td>1391726</td>\n      <td>20100914.0</td>\n      <td>...</td>\n      <td>NaN</td>\n      <td>NaN</td>\n      <td>NaN</td>\n      <td>NaN</td>\n      <td>NaN</td>\n      <td>NaN</td>\n      <td>NaN</td>\n      <td>NaN</td>\n      <td>NaN</td>\n      <td>NaN</td>\n    </tr>\n    <tr>\n      <th>2</th>\n      <td>367615</td>\n      <td>42979</td>\n      <td>Cosmic Orange</td>\n      <td>20170101</td>\n      <td>201701</td>\n      <td>Outcome.Foster</td>\n      <td>Male</td>\n      <td>Dog</td>\n      <td>1437279</td>\n      <td>20160603.0</td>\n      <td>...</td>\n      <td>NaN</td>\n      <td>NaN</td>\n      <td>NaN</td>\n      <td>NaN</td>\n      <td>NaN</td>\n      <td>NaN</td>\n      <td>NaN</td>\n      <td>NaN</td>\n      <td>NaN</td>\n      <td>NaN</td>\n    </tr>\n    <tr>\n      <th>3</th>\n      <td>100617</td>\n      <td>44965</td>\n      <td>Little Tango</td>\n      <td>20170101</td>\n      <td>201701</td>\n      <td>Outcome.Foster</td>\n      <td>Male</td>\n      <td>Dog</td>\n      <td>1228737</td>\n      <td>20100623.0</td>\n      <td>...</td>\n      <td>NaN</td>\n      <td>NaN</td>\n      <td>NaN</td>\n      <td>NaN</td>\n      <td>NaN</td>\n      <td>NaN</td>\n      <td>NaN</td>\n      <td>NaN</td>\n      <td>NaN</td>\n      <td>NaN</td>\n    </tr>\n    <tr>\n      <th>4</th>\n      <td>101185</td>\n      <td>45098</td>\n      <td>Umi 26</td>\n      <td>20170101</td>\n      <td>201701</td>\n      <td>Outcome.Foster</td>\n      <td>Male</td>\n      <td>Cat</td>\n      <td>1391768</td>\n      <td>20161016.0</td>\n      <td>...</td>\n      <td>NaN</td>\n      <td>NaN</td>\n      <td>NaN</td>\n      <td>NaN</td>\n      <td>NaN</td>\n      <td>NaN</td>\n      <td>NaN</td>\n      <td>NaN</td>\n      <td>NaN</td>\n      <td>NaN</td>\n    </tr>\n    <tr>\n      <th>...</th>\n      <td>...</td>\n      <td>...</td>\n      <td>...</td>\n      <td>...</td>\n      <td>...</td>\n      <td>...</td>\n      <td>...</td>\n      <td>...</td>\n      <td>...</td>\n      <td>...</td>\n      <td>...</td>\n      <td>...</td>\n      <td>...</td>\n      <td>...</td>\n      <td>...</td>\n      <td>...</td>\n      <td>...</td>\n      <td>...</td>\n      <td>...</td>\n      <td>...</td>\n      <td>...</td>\n    </tr>\n    <tr>\n      <th>55005</th>\n      <td>9007378</td>\n      <td>107632</td>\n      <td>Baby Boy</td>\n      <td>20220425</td>\n      <td>202204</td>\n      <td>Outcome.Foster</td>\n      <td>Male</td>\n      <td>Dog</td>\n      <td>12275848</td>\n      <td>20220413.0</td>\n      <td>...</td>\n      <td>NaN</td>\n      <td>NaN</td>\n      <td>NaN</td>\n      <td>NaN</td>\n      <td>NaN</td>\n      <td>NaN</td>\n      <td>NaN</td>\n      <td>NaN</td>\n      <td>NaN</td>\n      <td>NaN</td>\n    </tr>\n    <tr>\n      <th>55006</th>\n      <td>9007380</td>\n      <td>107633</td>\n      <td>Candy Apple</td>\n      <td>20220425</td>\n      <td>202204</td>\n      <td>Outcome.Foster</td>\n      <td>Female</td>\n      <td>Cat</td>\n      <td>52247198</td>\n      <td>20210425.0</td>\n      <td>...</td>\n      <td>NaN</td>\n      <td>NaN</td>\n      <td>NaN</td>\n      <td>NaN</td>\n      <td>NaN</td>\n      <td>NaN</td>\n      <td>NaN</td>\n      <td>NaN</td>\n      <td>NaN</td>\n      <td>NaN</td>\n    </tr>\n    <tr>\n      <th>55007</th>\n      <td>9007928</td>\n      <td>107643</td>\n      <td>Happy 9</td>\n      <td>20220425</td>\n      <td>202204</td>\n      <td>Outcome.Foster</td>\n      <td>Unknown</td>\n      <td>Cat</td>\n      <td>17499191</td>\n      <td>20220418.0</td>\n      <td>...</td>\n      <td>NaN</td>\n      <td>NaN</td>\n      <td>NaN</td>\n      <td>NaN</td>\n      <td>NaN</td>\n      <td>NaN</td>\n      <td>NaN</td>\n      <td>NaN</td>\n      <td>NaN</td>\n      <td>NaN</td>\n    </tr>\n    <tr>\n      <th>55008</th>\n      <td>9007933</td>\n      <td>107644</td>\n      <td>Hang Ten 9</td>\n      <td>20220425</td>\n      <td>202204</td>\n      <td>Outcome.Foster</td>\n      <td>Unknown</td>\n      <td>Cat</td>\n      <td>17499191</td>\n      <td>20220418.0</td>\n      <td>...</td>\n      <td>NaN</td>\n      <td>NaN</td>\n      <td>NaN</td>\n      <td>NaN</td>\n      <td>NaN</td>\n      <td>NaN</td>\n      <td>NaN</td>\n      <td>NaN</td>\n      <td>NaN</td>\n      <td>NaN</td>\n    </tr>\n    <tr>\n      <th>55009</th>\n      <td>9007937</td>\n      <td>107645</td>\n      <td>Huckleberry 9</td>\n      <td>20220425</td>\n      <td>202204</td>\n      <td>Outcome.Foster</td>\n      <td>Unknown</td>\n      <td>Cat</td>\n      <td>17499191</td>\n      <td>20220418.0</td>\n      <td>...</td>\n      <td>NaN</td>\n      <td>NaN</td>\n      <td>NaN</td>\n      <td>NaN</td>\n      <td>NaN</td>\n      <td>NaN</td>\n      <td>NaN</td>\n      <td>NaN</td>\n      <td>NaN</td>\n      <td>NaN</td>\n    </tr>\n  </tbody>\n</table>\n<p>55010 rows × 41 columns</p>\n</div>"
     },
     "execution_count": 5,
     "metadata": {},
     "output_type": "execute_result"
    }
   ],
   "source": [
    "foster"
   ],
   "metadata": {
    "collapsed": false,
    "pycharm": {
     "name": "#%%\n"
    }
   }
  },
  {
   "cell_type": "markdown",
   "source": [],
   "metadata": {
    "collapsed": false,
    "pycharm": {
     "name": "#%% md\n"
    }
   }
  },
  {
   "cell_type": "code",
   "execution_count": 6,
   "outputs": [],
   "source": [
    "yr_2019 = foster['EventMonth'].between(201899,201999)\n",
    "dog = foster['AnimalType'].eq('Dog')\n",
    "cat = foster['AnimalType'].eq('Cat')"
   ],
   "metadata": {
    "collapsed": false,
    "pycharm": {
     "name": "#%%\n"
    }
   }
  },
  {
   "cell_type": "code",
   "execution_count": 34,
   "outputs": [
    {
     "name": "stderr",
     "output_type": "stream",
     "text": [
      "/var/folders/dg/7g2s77314ws2znrh1l_sq8_80000gp/T/ipykernel_79773/3781508609.py:1: UserWarning: Boolean Series key will be reindexed to match DataFrame index.\n",
      "  dogfos2019 = foster[yr_2019][dog].drop_duplicates('FosterID')\n",
      "/var/folders/dg/7g2s77314ws2znrh1l_sq8_80000gp/T/ipykernel_79773/3781508609.py:2: UserWarning: Boolean Series key will be reindexed to match DataFrame index.\n",
      "  catfos2019 = foster[yr_2019][cat].drop_duplicates('FosterID')\n"
     ]
    }
   ],
   "source": [
    "dogfos2019 = foster[yr_2019][dog].drop_duplicates('FosterID')\n",
    "catfos2019 = foster[yr_2019][cat].drop_duplicates('FosterID')"
   ],
   "metadata": {
    "collapsed": false,
    "pycharm": {
     "name": "#%%\n"
    }
   }
  },
  {
   "cell_type": "code",
   "execution_count": 36,
   "outputs": [
    {
     "data": {
      "text/plain": "837"
     },
     "execution_count": 36,
     "metadata": {},
     "output_type": "execute_result"
    }
   ],
   "source": [
    "len(catfos2019)"
   ],
   "metadata": {
    "collapsed": false,
    "pycharm": {
     "name": "#%%\n"
    }
   }
  },
  {
   "cell_type": "code",
   "execution_count": 11,
   "outputs": [
    {
     "data": {
      "text/plain": "71312    9\n27980    8\n40179    8\n40017    8\n65819    7\n        ..\n72357    1\n72010    1\n72598    1\n72706    1\n78582    1\nName: AnimalID, Length: 2570, dtype: int64"
     },
     "execution_count": 11,
     "metadata": {},
     "output_type": "execute_result"
    }
   ],
   "source": [
    "dogfos2019['AnimalID'].value_counts()"
   ],
   "metadata": {
    "collapsed": false,
    "pycharm": {
     "name": "#%%\n"
    }
   }
  },
  {
   "cell_type": "code",
   "execution_count": 10,
   "outputs": [
    {
     "data": {
      "text/plain": "UNKNOWN    4755\nName: BreedSize, dtype: int64"
     },
     "execution_count": 10,
     "metadata": {},
     "output_type": "execute_result"
    }
   ],
   "source": [
    "catfos2019['BreedSize'].value_counts()"
   ],
   "metadata": {
    "collapsed": false,
    "pycharm": {
     "name": "#%%\n"
    }
   }
  },
  {
   "cell_type": "code",
   "execution_count": 37,
   "outputs": [],
   "source": [
    "dogzips2019 = dogfos2019['FosterZipCode'].str.split('-').str[0]\n",
    "catzips2019 = catfos2019['FosterZipCode'].str.split('-').str[0]"
   ],
   "metadata": {
    "collapsed": false,
    "pycharm": {
     "name": "#%%\n"
    }
   }
  },
  {
   "cell_type": "code",
   "execution_count": 38,
   "outputs": [],
   "source": [
    "dogzipcounts = dogzips2019.value_counts()\n",
    "catzipcounts = catzips2019.value_counts()"
   ],
   "metadata": {
    "collapsed": false,
    "pycharm": {
     "name": "#%%\n"
    }
   }
  },
  {
   "cell_type": "code",
   "execution_count": 41,
   "outputs": [],
   "source": [
    "dogzipcounts.to_csv('2019_dog_zipcounts.csv')\n",
    "catzipcounts.to_csv('2019_cat_zipcounts.csv')"
   ],
   "metadata": {
    "collapsed": false,
    "pycharm": {
     "name": "#%%\n"
    }
   }
  },
  {
   "cell_type": "code",
   "execution_count": 91,
   "outputs": [
    {
     "data": {
      "text/plain": "array(['78744', '78703', '78749', '76574', '78745', '78727', '78747',\n       '78737', '78748', '78653', '78731', '78741', '78728', '78723',\n       '78757', '78702', '78758', '78613', '78641', '78739', '78721',\n       '78724', '78759', '78751', '78746', '78704', '78705', '78753',\n       '78620', '78725', '78732', '78722', '78654', '78644', '78634',\n       '78729', '78666', '78701', '78735', '78626', '78717', '78738', nan,\n       '78130', '78734', '77546', '78640', '78660', '78736', '78726',\n       '78754', '78664', '78756', '78619', '23225', '78665', '78617',\n       '78752', '78750', '78610', '787', '78733', '78621', '78730',\n       '76504', '43231', '78681', '76537', '78133', '78612', '78669',\n       '78962', '78652', '68657'], dtype=object)"
     },
     "execution_count": 91,
     "metadata": {},
     "output_type": "execute_result"
    }
   ],
   "source": [
    "catzips2019.unique()"
   ],
   "metadata": {
    "collapsed": false,
    "pycharm": {
     "name": "#%%\n"
    }
   }
  },
  {
   "cell_type": "code",
   "execution_count": 39,
   "outputs": [
    {
     "data": {
      "text/plain": "79"
     },
     "execution_count": 39,
     "metadata": {},
     "output_type": "execute_result"
    }
   ],
   "source": [
    "len(dogzipcounts)"
   ],
   "metadata": {
    "collapsed": false,
    "pycharm": {
     "name": "#%%\n"
    }
   }
  },
  {
   "cell_type": "code",
   "execution_count": 40,
   "outputs": [
    {
     "data": {
      "text/plain": "78705    81\n78704    69\n78745    45\n78741    38\n78751    36\n         ..\n78130     1\n23225     1\n78654     1\n78644     1\n68657     1\nName: FosterZipCode, Length: 73, dtype: int64"
     },
     "execution_count": 40,
     "metadata": {},
     "output_type": "execute_result"
    }
   ],
   "source": [
    "catzipcounts"
   ],
   "metadata": {
    "collapsed": false,
    "pycharm": {
     "name": "#%%\n"
    }
   }
  },
  {
   "cell_type": "code",
   "execution_count": null,
   "outputs": [],
   "source": [],
   "metadata": {
    "collapsed": false,
    "pycharm": {
     "name": "#%%\n"
    }
   }
  }
 ],
 "metadata": {
  "kernelspec": {
   "display_name": "Python 3",
   "language": "python",
   "name": "python3"
  },
  "language_info": {
   "codemirror_mode": {
    "name": "ipython",
    "version": 2
   },
   "file_extension": ".py",
   "mimetype": "text/x-python",
   "name": "python",
   "nbconvert_exporter": "python",
   "pygments_lexer": "ipython2",
   "version": "2.7.6"
  }
 },
 "nbformat": 4,
 "nbformat_minor": 0
}